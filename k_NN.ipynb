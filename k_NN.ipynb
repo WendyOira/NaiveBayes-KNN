{
  "nbformat": 4,
  "nbformat_minor": 0,
  "metadata": {
    "colab": {
      "name": "k-NN.ipynb",
      "provenance": [],
      "collapsed_sections": [],
      "authorship_tag": "ABX9TyPVIHbrVRL5IOtf55WH+Kcr",
      "include_colab_link": true
    },
    "kernelspec": {
      "name": "python3",
      "display_name": "Python 3"
    },
    "language_info": {
      "name": "python"
    }
  },
  "cells": [
    {
      "cell_type": "markdown",
      "metadata": {
        "id": "view-in-github",
        "colab_type": "text"
      },
      "source": [
        "<a href=\"https://colab.research.google.com/github/WendyOira/NaiveBayes-KNN/blob/main/k_NN.ipynb\" target=\"_parent\"><img src=\"https://colab.research.google.com/assets/colab-badge.svg\" alt=\"Open In Colab\"/></a>"
      ]
    },
    {
      "cell_type": "markdown",
      "source": [
        "##**Defining the question**\n",
        "\n",
        "a) Specifying the question\n",
        "\n",
        "Build a model that determines whether or not passengers survived \n",
        "\n",
        "Models to use:\n",
        "\n",
        "\n",
        "1.   the k-nearest neighbors algorithm (k-NN) "
      ],
      "metadata": {
        "id": "jPdr58GiGQEi"
      }
    },
    {
      "cell_type": "markdown",
      "source": [
        "##**Defining the Metric for Success**\n",
        "Because we are creating a classification model, our metric of success will be model accuracy score. We will set the minumum accuracy score at 90%."
      ],
      "metadata": {
        "id": "zXLz17tDGqXy"
      }
    },
    {
      "cell_type": "markdown",
      "source": [
        "##**Understanding the Context**\n",
        "\n",
        "The RMS Titanic sank in the early morning hours of 15 April 1912 in the North Atlantic Ocean, four days into her maiden voyage from Southampton to New York City. The largest ocean liner in service at the time, Titanic had an estimated 2,224 people on board when she struck an iceberg at around 23:40 (ship's time)[a] on Sunday, 14 April 1912. Her sinking two hours and forty minutes later at 02:20 (ship's time; 05:18 GMT) on Monday, 15 April, resulted in the deaths of more than 1,500 people, making it one of the deadliest peacetime maritime disasters in history.\n",
        "\n",
        "The information above has been cited from https://en.wikipedia.org/wiki/Sinking_of_the_Titanic\n",
        "\n"
      ],
      "metadata": {
        "id": "93yaOJ_RGyxx"
      }
    },
    {
      "cell_type": "markdown",
      "source": [
        "##**Recording the experimental design**\n",
        "\n",
        "Define the question, the metric for success, the context, experimental design taken.\n",
        "\n",
        "Read and explore the given dataset.\n",
        "\n",
        "Define the appropriateness of the available data to answer the given question.\n",
        "\n",
        "Find and deal with outliers, anomalies, and missing data within the dataset.\n",
        "\n",
        "Perform univariate, bivariate recording your observations.\n",
        "\n",
        "Performing k-NN classification\n",
        "\n",
        "Conclusion\n",
        "\n",
        "Recommendations"
      ],
      "metadata": {
        "id": "ijhhR3rbHdAI"
      }
    },
    {
      "cell_type": "markdown",
      "source": [
        "## **Dataset glossary**\n",
        "\n",
        "PassengerId- A unique ID to each Passenger\n",
        "\n",
        "Survived- A boolean variable; 1 - Survived, 0 - Dead\n",
        "\n",
        "Pclass-\tTicket Class; 1 - 1st, 2 - 2nd, 3 - 3rd class\n",
        "\n",
        "Name-\tPassenger Name\n",
        "\n",
        "Sex-\tSex of Passenger\n",
        "\n",
        "Age-\tAge in Years\n",
        "\n",
        "SibSp-\tNumber of Siblings / Spouses Aboard\n",
        "\n",
        "Parch-\tNumber of parents / children aboard the titanic\n",
        "\n",
        "Ticket-\tTicket number\n",
        "\n",
        "Fare-\tPassenger Fare\n",
        "\n",
        "Cabin-\tCabin number\n",
        "\n",
        "Embarked-\tPort of Embarkation; C - Cherbourg, Q - Queenstown, S - Southampton"
      ],
      "metadata": {
        "id": "lRyKKVYhHtop"
      }
    },
    {
      "cell_type": "code",
      "execution_count": null,
      "metadata": {
        "id": "hXFORjbX5o2r"
      },
      "outputs": [],
      "source": [
        "# Start by importing the basic relevant libraries\n",
        "import pandas as pd\n",
        "import numpy as np\n",
        "import matplotlib.pyplot as plt\n",
        "import seaborn as sns"
      ]
    },
    {
      "cell_type": "markdown",
      "source": [
        "## Train Dataset"
      ],
      "metadata": {
        "id": "cV6VW1kCB9Db"
      }
    },
    {
      "cell_type": "code",
      "source": [
        "# Load the Train dataset\n",
        "train = pd.read_csv('https://archive.org/download/train5_202002/train%20%285%29.csv')"
      ],
      "metadata": {
        "id": "A5apL9o67RWE"
      },
      "execution_count": null,
      "outputs": []
    },
    {
      "cell_type": "code",
      "source": [
        "# Checking the column names in the train dataset\n",
        "print('The column names in the train dataset are :')\n",
        "train.columns"
      ],
      "metadata": {
        "colab": {
          "base_uri": "https://localhost:8080/"
        },
        "id": "3qh_zhkg_Fdg",
        "outputId": "6abf584c-87ef-405f-add3-37b9d60f9061"
      },
      "execution_count": null,
      "outputs": [
        {
          "output_type": "stream",
          "name": "stdout",
          "text": [
            "The column names in the train dataset are :\n"
          ]
        },
        {
          "output_type": "execute_result",
          "data": {
            "text/plain": [
              "Index(['PassengerId', 'Survived', 'Pclass', 'Name', 'Sex', 'Age', 'SibSp',\n",
              "       'Parch', 'Ticket', 'Fare', 'Cabin', 'Embarked'],\n",
              "      dtype='object')"
            ]
          },
          "metadata": {},
          "execution_count": 493
        }
      ]
    },
    {
      "cell_type": "code",
      "source": [
        "# Previewing the first five rows\n",
        "train.head()"
      ],
      "metadata": {
        "colab": {
          "base_uri": "https://localhost:8080/",
          "height": 206
        },
        "id": "CB8y0K1s8-d9",
        "outputId": "87aad2dd-9e94-4944-fc48-b802bddae586"
      },
      "execution_count": null,
      "outputs": [
        {
          "output_type": "execute_result",
          "data": {
            "text/html": [
              "\n",
              "  <div id=\"df-45be3223-ab5d-4485-b65e-41a525b78f48\">\n",
              "    <div class=\"colab-df-container\">\n",
              "      <div>\n",
              "<style scoped>\n",
              "    .dataframe tbody tr th:only-of-type {\n",
              "        vertical-align: middle;\n",
              "    }\n",
              "\n",
              "    .dataframe tbody tr th {\n",
              "        vertical-align: top;\n",
              "    }\n",
              "\n",
              "    .dataframe thead th {\n",
              "        text-align: right;\n",
              "    }\n",
              "</style>\n",
              "<table border=\"1\" class=\"dataframe\">\n",
              "  <thead>\n",
              "    <tr style=\"text-align: right;\">\n",
              "      <th></th>\n",
              "      <th>PassengerId</th>\n",
              "      <th>Survived</th>\n",
              "      <th>Pclass</th>\n",
              "      <th>Name</th>\n",
              "      <th>Sex</th>\n",
              "      <th>Age</th>\n",
              "      <th>SibSp</th>\n",
              "      <th>Parch</th>\n",
              "      <th>Ticket</th>\n",
              "      <th>Fare</th>\n",
              "      <th>Cabin</th>\n",
              "      <th>Embarked</th>\n",
              "    </tr>\n",
              "  </thead>\n",
              "  <tbody>\n",
              "    <tr>\n",
              "      <th>0</th>\n",
              "      <td>1</td>\n",
              "      <td>0</td>\n",
              "      <td>3</td>\n",
              "      <td>Braund, Mr. Owen Harris</td>\n",
              "      <td>male</td>\n",
              "      <td>22.0</td>\n",
              "      <td>1</td>\n",
              "      <td>0</td>\n",
              "      <td>A/5 21171</td>\n",
              "      <td>7.2500</td>\n",
              "      <td>NaN</td>\n",
              "      <td>S</td>\n",
              "    </tr>\n",
              "    <tr>\n",
              "      <th>1</th>\n",
              "      <td>2</td>\n",
              "      <td>1</td>\n",
              "      <td>1</td>\n",
              "      <td>Cumings, Mrs. John Bradley (Florence Briggs Th...</td>\n",
              "      <td>female</td>\n",
              "      <td>38.0</td>\n",
              "      <td>1</td>\n",
              "      <td>0</td>\n",
              "      <td>PC 17599</td>\n",
              "      <td>71.2833</td>\n",
              "      <td>C85</td>\n",
              "      <td>C</td>\n",
              "    </tr>\n",
              "    <tr>\n",
              "      <th>2</th>\n",
              "      <td>3</td>\n",
              "      <td>1</td>\n",
              "      <td>3</td>\n",
              "      <td>Heikkinen, Miss. Laina</td>\n",
              "      <td>female</td>\n",
              "      <td>26.0</td>\n",
              "      <td>0</td>\n",
              "      <td>0</td>\n",
              "      <td>STON/O2. 3101282</td>\n",
              "      <td>7.9250</td>\n",
              "      <td>NaN</td>\n",
              "      <td>S</td>\n",
              "    </tr>\n",
              "    <tr>\n",
              "      <th>3</th>\n",
              "      <td>4</td>\n",
              "      <td>1</td>\n",
              "      <td>1</td>\n",
              "      <td>Futrelle, Mrs. Jacques Heath (Lily May Peel)</td>\n",
              "      <td>female</td>\n",
              "      <td>35.0</td>\n",
              "      <td>1</td>\n",
              "      <td>0</td>\n",
              "      <td>113803</td>\n",
              "      <td>53.1000</td>\n",
              "      <td>C123</td>\n",
              "      <td>S</td>\n",
              "    </tr>\n",
              "    <tr>\n",
              "      <th>4</th>\n",
              "      <td>5</td>\n",
              "      <td>0</td>\n",
              "      <td>3</td>\n",
              "      <td>Allen, Mr. William Henry</td>\n",
              "      <td>male</td>\n",
              "      <td>35.0</td>\n",
              "      <td>0</td>\n",
              "      <td>0</td>\n",
              "      <td>373450</td>\n",
              "      <td>8.0500</td>\n",
              "      <td>NaN</td>\n",
              "      <td>S</td>\n",
              "    </tr>\n",
              "  </tbody>\n",
              "</table>\n",
              "</div>\n",
              "      <button class=\"colab-df-convert\" onclick=\"convertToInteractive('df-45be3223-ab5d-4485-b65e-41a525b78f48')\"\n",
              "              title=\"Convert this dataframe to an interactive table.\"\n",
              "              style=\"display:none;\">\n",
              "        \n",
              "  <svg xmlns=\"http://www.w3.org/2000/svg\" height=\"24px\"viewBox=\"0 0 24 24\"\n",
              "       width=\"24px\">\n",
              "    <path d=\"M0 0h24v24H0V0z\" fill=\"none\"/>\n",
              "    <path d=\"M18.56 5.44l.94 2.06.94-2.06 2.06-.94-2.06-.94-.94-2.06-.94 2.06-2.06.94zm-11 1L8.5 8.5l.94-2.06 2.06-.94-2.06-.94L8.5 2.5l-.94 2.06-2.06.94zm10 10l.94 2.06.94-2.06 2.06-.94-2.06-.94-.94-2.06-.94 2.06-2.06.94z\"/><path d=\"M17.41 7.96l-1.37-1.37c-.4-.4-.92-.59-1.43-.59-.52 0-1.04.2-1.43.59L10.3 9.45l-7.72 7.72c-.78.78-.78 2.05 0 2.83L4 21.41c.39.39.9.59 1.41.59.51 0 1.02-.2 1.41-.59l7.78-7.78 2.81-2.81c.8-.78.8-2.07 0-2.86zM5.41 20L4 18.59l7.72-7.72 1.47 1.35L5.41 20z\"/>\n",
              "  </svg>\n",
              "      </button>\n",
              "      \n",
              "  <style>\n",
              "    .colab-df-container {\n",
              "      display:flex;\n",
              "      flex-wrap:wrap;\n",
              "      gap: 12px;\n",
              "    }\n",
              "\n",
              "    .colab-df-convert {\n",
              "      background-color: #E8F0FE;\n",
              "      border: none;\n",
              "      border-radius: 50%;\n",
              "      cursor: pointer;\n",
              "      display: none;\n",
              "      fill: #1967D2;\n",
              "      height: 32px;\n",
              "      padding: 0 0 0 0;\n",
              "      width: 32px;\n",
              "    }\n",
              "\n",
              "    .colab-df-convert:hover {\n",
              "      background-color: #E2EBFA;\n",
              "      box-shadow: 0px 1px 2px rgba(60, 64, 67, 0.3), 0px 1px 3px 1px rgba(60, 64, 67, 0.15);\n",
              "      fill: #174EA6;\n",
              "    }\n",
              "\n",
              "    [theme=dark] .colab-df-convert {\n",
              "      background-color: #3B4455;\n",
              "      fill: #D2E3FC;\n",
              "    }\n",
              "\n",
              "    [theme=dark] .colab-df-convert:hover {\n",
              "      background-color: #434B5C;\n",
              "      box-shadow: 0px 1px 3px 1px rgba(0, 0, 0, 0.15);\n",
              "      filter: drop-shadow(0px 1px 2px rgba(0, 0, 0, 0.3));\n",
              "      fill: #FFFFFF;\n",
              "    }\n",
              "  </style>\n",
              "\n",
              "      <script>\n",
              "        const buttonEl =\n",
              "          document.querySelector('#df-45be3223-ab5d-4485-b65e-41a525b78f48 button.colab-df-convert');\n",
              "        buttonEl.style.display =\n",
              "          google.colab.kernel.accessAllowed ? 'block' : 'none';\n",
              "\n",
              "        async function convertToInteractive(key) {\n",
              "          const element = document.querySelector('#df-45be3223-ab5d-4485-b65e-41a525b78f48');\n",
              "          const dataTable =\n",
              "            await google.colab.kernel.invokeFunction('convertToInteractive',\n",
              "                                                     [key], {});\n",
              "          if (!dataTable) return;\n",
              "\n",
              "          const docLinkHtml = 'Like what you see? Visit the ' +\n",
              "            '<a target=\"_blank\" href=https://colab.research.google.com/notebooks/data_table.ipynb>data table notebook</a>'\n",
              "            + ' to learn more about interactive tables.';\n",
              "          element.innerHTML = '';\n",
              "          dataTable['output_type'] = 'display_data';\n",
              "          await google.colab.output.renderOutput(dataTable, element);\n",
              "          const docLink = document.createElement('div');\n",
              "          docLink.innerHTML = docLinkHtml;\n",
              "          element.appendChild(docLink);\n",
              "        }\n",
              "      </script>\n",
              "    </div>\n",
              "  </div>\n",
              "  "
            ],
            "text/plain": [
              "   PassengerId  Survived  Pclass  ...     Fare Cabin  Embarked\n",
              "0            1         0       3  ...   7.2500   NaN         S\n",
              "1            2         1       1  ...  71.2833   C85         C\n",
              "2            3         1       3  ...   7.9250   NaN         S\n",
              "3            4         1       1  ...  53.1000  C123         S\n",
              "4            5         0       3  ...   8.0500   NaN         S\n",
              "\n",
              "[5 rows x 12 columns]"
            ]
          },
          "metadata": {},
          "execution_count": 494
        }
      ]
    },
    {
      "cell_type": "code",
      "source": [
        "# Previewing the last five rows\n",
        "train.tail()"
      ],
      "metadata": {
        "colab": {
          "base_uri": "https://localhost:8080/",
          "height": 206
        },
        "id": "BIA-EoJ59Ee5",
        "outputId": "3e6f6f35-2e1b-46f4-da24-395d551aad27"
      },
      "execution_count": null,
      "outputs": [
        {
          "output_type": "execute_result",
          "data": {
            "text/html": [
              "\n",
              "  <div id=\"df-dbc9a0c1-989f-4774-8470-b6735f195838\">\n",
              "    <div class=\"colab-df-container\">\n",
              "      <div>\n",
              "<style scoped>\n",
              "    .dataframe tbody tr th:only-of-type {\n",
              "        vertical-align: middle;\n",
              "    }\n",
              "\n",
              "    .dataframe tbody tr th {\n",
              "        vertical-align: top;\n",
              "    }\n",
              "\n",
              "    .dataframe thead th {\n",
              "        text-align: right;\n",
              "    }\n",
              "</style>\n",
              "<table border=\"1\" class=\"dataframe\">\n",
              "  <thead>\n",
              "    <tr style=\"text-align: right;\">\n",
              "      <th></th>\n",
              "      <th>PassengerId</th>\n",
              "      <th>Survived</th>\n",
              "      <th>Pclass</th>\n",
              "      <th>Name</th>\n",
              "      <th>Sex</th>\n",
              "      <th>Age</th>\n",
              "      <th>SibSp</th>\n",
              "      <th>Parch</th>\n",
              "      <th>Ticket</th>\n",
              "      <th>Fare</th>\n",
              "      <th>Cabin</th>\n",
              "      <th>Embarked</th>\n",
              "    </tr>\n",
              "  </thead>\n",
              "  <tbody>\n",
              "    <tr>\n",
              "      <th>886</th>\n",
              "      <td>887</td>\n",
              "      <td>0</td>\n",
              "      <td>2</td>\n",
              "      <td>Montvila, Rev. Juozas</td>\n",
              "      <td>male</td>\n",
              "      <td>27.0</td>\n",
              "      <td>0</td>\n",
              "      <td>0</td>\n",
              "      <td>211536</td>\n",
              "      <td>13.00</td>\n",
              "      <td>NaN</td>\n",
              "      <td>S</td>\n",
              "    </tr>\n",
              "    <tr>\n",
              "      <th>887</th>\n",
              "      <td>888</td>\n",
              "      <td>1</td>\n",
              "      <td>1</td>\n",
              "      <td>Graham, Miss. Margaret Edith</td>\n",
              "      <td>female</td>\n",
              "      <td>19.0</td>\n",
              "      <td>0</td>\n",
              "      <td>0</td>\n",
              "      <td>112053</td>\n",
              "      <td>30.00</td>\n",
              "      <td>B42</td>\n",
              "      <td>S</td>\n",
              "    </tr>\n",
              "    <tr>\n",
              "      <th>888</th>\n",
              "      <td>889</td>\n",
              "      <td>0</td>\n",
              "      <td>3</td>\n",
              "      <td>Johnston, Miss. Catherine Helen \"Carrie\"</td>\n",
              "      <td>female</td>\n",
              "      <td>NaN</td>\n",
              "      <td>1</td>\n",
              "      <td>2</td>\n",
              "      <td>W./C. 6607</td>\n",
              "      <td>23.45</td>\n",
              "      <td>NaN</td>\n",
              "      <td>S</td>\n",
              "    </tr>\n",
              "    <tr>\n",
              "      <th>889</th>\n",
              "      <td>890</td>\n",
              "      <td>1</td>\n",
              "      <td>1</td>\n",
              "      <td>Behr, Mr. Karl Howell</td>\n",
              "      <td>male</td>\n",
              "      <td>26.0</td>\n",
              "      <td>0</td>\n",
              "      <td>0</td>\n",
              "      <td>111369</td>\n",
              "      <td>30.00</td>\n",
              "      <td>C148</td>\n",
              "      <td>C</td>\n",
              "    </tr>\n",
              "    <tr>\n",
              "      <th>890</th>\n",
              "      <td>891</td>\n",
              "      <td>0</td>\n",
              "      <td>3</td>\n",
              "      <td>Dooley, Mr. Patrick</td>\n",
              "      <td>male</td>\n",
              "      <td>32.0</td>\n",
              "      <td>0</td>\n",
              "      <td>0</td>\n",
              "      <td>370376</td>\n",
              "      <td>7.75</td>\n",
              "      <td>NaN</td>\n",
              "      <td>Q</td>\n",
              "    </tr>\n",
              "  </tbody>\n",
              "</table>\n",
              "</div>\n",
              "      <button class=\"colab-df-convert\" onclick=\"convertToInteractive('df-dbc9a0c1-989f-4774-8470-b6735f195838')\"\n",
              "              title=\"Convert this dataframe to an interactive table.\"\n",
              "              style=\"display:none;\">\n",
              "        \n",
              "  <svg xmlns=\"http://www.w3.org/2000/svg\" height=\"24px\"viewBox=\"0 0 24 24\"\n",
              "       width=\"24px\">\n",
              "    <path d=\"M0 0h24v24H0V0z\" fill=\"none\"/>\n",
              "    <path d=\"M18.56 5.44l.94 2.06.94-2.06 2.06-.94-2.06-.94-.94-2.06-.94 2.06-2.06.94zm-11 1L8.5 8.5l.94-2.06 2.06-.94-2.06-.94L8.5 2.5l-.94 2.06-2.06.94zm10 10l.94 2.06.94-2.06 2.06-.94-2.06-.94-.94-2.06-.94 2.06-2.06.94z\"/><path d=\"M17.41 7.96l-1.37-1.37c-.4-.4-.92-.59-1.43-.59-.52 0-1.04.2-1.43.59L10.3 9.45l-7.72 7.72c-.78.78-.78 2.05 0 2.83L4 21.41c.39.39.9.59 1.41.59.51 0 1.02-.2 1.41-.59l7.78-7.78 2.81-2.81c.8-.78.8-2.07 0-2.86zM5.41 20L4 18.59l7.72-7.72 1.47 1.35L5.41 20z\"/>\n",
              "  </svg>\n",
              "      </button>\n",
              "      \n",
              "  <style>\n",
              "    .colab-df-container {\n",
              "      display:flex;\n",
              "      flex-wrap:wrap;\n",
              "      gap: 12px;\n",
              "    }\n",
              "\n",
              "    .colab-df-convert {\n",
              "      background-color: #E8F0FE;\n",
              "      border: none;\n",
              "      border-radius: 50%;\n",
              "      cursor: pointer;\n",
              "      display: none;\n",
              "      fill: #1967D2;\n",
              "      height: 32px;\n",
              "      padding: 0 0 0 0;\n",
              "      width: 32px;\n",
              "    }\n",
              "\n",
              "    .colab-df-convert:hover {\n",
              "      background-color: #E2EBFA;\n",
              "      box-shadow: 0px 1px 2px rgba(60, 64, 67, 0.3), 0px 1px 3px 1px rgba(60, 64, 67, 0.15);\n",
              "      fill: #174EA6;\n",
              "    }\n",
              "\n",
              "    [theme=dark] .colab-df-convert {\n",
              "      background-color: #3B4455;\n",
              "      fill: #D2E3FC;\n",
              "    }\n",
              "\n",
              "    [theme=dark] .colab-df-convert:hover {\n",
              "      background-color: #434B5C;\n",
              "      box-shadow: 0px 1px 3px 1px rgba(0, 0, 0, 0.15);\n",
              "      filter: drop-shadow(0px 1px 2px rgba(0, 0, 0, 0.3));\n",
              "      fill: #FFFFFF;\n",
              "    }\n",
              "  </style>\n",
              "\n",
              "      <script>\n",
              "        const buttonEl =\n",
              "          document.querySelector('#df-dbc9a0c1-989f-4774-8470-b6735f195838 button.colab-df-convert');\n",
              "        buttonEl.style.display =\n",
              "          google.colab.kernel.accessAllowed ? 'block' : 'none';\n",
              "\n",
              "        async function convertToInteractive(key) {\n",
              "          const element = document.querySelector('#df-dbc9a0c1-989f-4774-8470-b6735f195838');\n",
              "          const dataTable =\n",
              "            await google.colab.kernel.invokeFunction('convertToInteractive',\n",
              "                                                     [key], {});\n",
              "          if (!dataTable) return;\n",
              "\n",
              "          const docLinkHtml = 'Like what you see? Visit the ' +\n",
              "            '<a target=\"_blank\" href=https://colab.research.google.com/notebooks/data_table.ipynb>data table notebook</a>'\n",
              "            + ' to learn more about interactive tables.';\n",
              "          element.innerHTML = '';\n",
              "          dataTable['output_type'] = 'display_data';\n",
              "          await google.colab.output.renderOutput(dataTable, element);\n",
              "          const docLink = document.createElement('div');\n",
              "          docLink.innerHTML = docLinkHtml;\n",
              "          element.appendChild(docLink);\n",
              "        }\n",
              "      </script>\n",
              "    </div>\n",
              "  </div>\n",
              "  "
            ],
            "text/plain": [
              "     PassengerId  Survived  Pclass  ...   Fare Cabin  Embarked\n",
              "886          887         0       2  ...  13.00   NaN         S\n",
              "887          888         1       1  ...  30.00   B42         S\n",
              "888          889         0       3  ...  23.45   NaN         S\n",
              "889          890         1       1  ...  30.00  C148         C\n",
              "890          891         0       3  ...   7.75   NaN         Q\n",
              "\n",
              "[5 rows x 12 columns]"
            ]
          },
          "metadata": {},
          "execution_count": 495
        }
      ]
    },
    {
      "cell_type": "code",
      "source": [
        "# Determining the no. of records in our dataset\n",
        "train.shape"
      ],
      "metadata": {
        "colab": {
          "base_uri": "https://localhost:8080/"
        },
        "id": "KORiFtZH9NVi",
        "outputId": "985cc343-fd68-496d-80ab-a67e9126a0ea"
      },
      "execution_count": null,
      "outputs": [
        {
          "output_type": "execute_result",
          "data": {
            "text/plain": [
              "(891, 12)"
            ]
          },
          "metadata": {},
          "execution_count": 496
        }
      ]
    },
    {
      "cell_type": "markdown",
      "source": [
        "We have 891 records and 12 variables"
      ],
      "metadata": {
        "id": "49p-u58a9qZj"
      }
    },
    {
      "cell_type": "code",
      "source": [
        "# Checking whether each column has the appropriate datatype\n",
        "train.dtypes"
      ],
      "metadata": {
        "colab": {
          "base_uri": "https://localhost:8080/"
        },
        "id": "yWBwwAe29v7R",
        "outputId": "5ede67ac-46b5-43bf-ec86-4e0604bf8146"
      },
      "execution_count": null,
      "outputs": [
        {
          "output_type": "execute_result",
          "data": {
            "text/plain": [
              "PassengerId      int64\n",
              "Survived         int64\n",
              "Pclass           int64\n",
              "Name            object\n",
              "Sex             object\n",
              "Age            float64\n",
              "SibSp            int64\n",
              "Parch            int64\n",
              "Ticket          object\n",
              "Fare           float64\n",
              "Cabin           object\n",
              "Embarked        object\n",
              "dtype: object"
            ]
          },
          "metadata": {},
          "execution_count": 497
        }
      ]
    },
    {
      "cell_type": "markdown",
      "source": [
        "Our variables are a combination of integer, object and float datatypes"
      ],
      "metadata": {
        "id": "elf2N5ef-Enu"
      }
    },
    {
      "cell_type": "code",
      "source": [
        "# Checking the dataframe's statistical information\n",
        "train.describe()"
      ],
      "metadata": {
        "colab": {
          "base_uri": "https://localhost:8080/",
          "height": 300
        },
        "id": "lX0e45e2-R2l",
        "outputId": "add73cd7-67f0-4db3-f69a-14cf2825d8ab"
      },
      "execution_count": null,
      "outputs": [
        {
          "output_type": "execute_result",
          "data": {
            "text/html": [
              "\n",
              "  <div id=\"df-3c7ec3b6-49db-4100-8081-0611c1e51f73\">\n",
              "    <div class=\"colab-df-container\">\n",
              "      <div>\n",
              "<style scoped>\n",
              "    .dataframe tbody tr th:only-of-type {\n",
              "        vertical-align: middle;\n",
              "    }\n",
              "\n",
              "    .dataframe tbody tr th {\n",
              "        vertical-align: top;\n",
              "    }\n",
              "\n",
              "    .dataframe thead th {\n",
              "        text-align: right;\n",
              "    }\n",
              "</style>\n",
              "<table border=\"1\" class=\"dataframe\">\n",
              "  <thead>\n",
              "    <tr style=\"text-align: right;\">\n",
              "      <th></th>\n",
              "      <th>PassengerId</th>\n",
              "      <th>Survived</th>\n",
              "      <th>Pclass</th>\n",
              "      <th>Age</th>\n",
              "      <th>SibSp</th>\n",
              "      <th>Parch</th>\n",
              "      <th>Fare</th>\n",
              "    </tr>\n",
              "  </thead>\n",
              "  <tbody>\n",
              "    <tr>\n",
              "      <th>count</th>\n",
              "      <td>891.000000</td>\n",
              "      <td>891.000000</td>\n",
              "      <td>891.000000</td>\n",
              "      <td>714.000000</td>\n",
              "      <td>891.000000</td>\n",
              "      <td>891.000000</td>\n",
              "      <td>891.000000</td>\n",
              "    </tr>\n",
              "    <tr>\n",
              "      <th>mean</th>\n",
              "      <td>446.000000</td>\n",
              "      <td>0.383838</td>\n",
              "      <td>2.308642</td>\n",
              "      <td>29.699118</td>\n",
              "      <td>0.523008</td>\n",
              "      <td>0.381594</td>\n",
              "      <td>32.204208</td>\n",
              "    </tr>\n",
              "    <tr>\n",
              "      <th>std</th>\n",
              "      <td>257.353842</td>\n",
              "      <td>0.486592</td>\n",
              "      <td>0.836071</td>\n",
              "      <td>14.526497</td>\n",
              "      <td>1.102743</td>\n",
              "      <td>0.806057</td>\n",
              "      <td>49.693429</td>\n",
              "    </tr>\n",
              "    <tr>\n",
              "      <th>min</th>\n",
              "      <td>1.000000</td>\n",
              "      <td>0.000000</td>\n",
              "      <td>1.000000</td>\n",
              "      <td>0.420000</td>\n",
              "      <td>0.000000</td>\n",
              "      <td>0.000000</td>\n",
              "      <td>0.000000</td>\n",
              "    </tr>\n",
              "    <tr>\n",
              "      <th>25%</th>\n",
              "      <td>223.500000</td>\n",
              "      <td>0.000000</td>\n",
              "      <td>2.000000</td>\n",
              "      <td>20.125000</td>\n",
              "      <td>0.000000</td>\n",
              "      <td>0.000000</td>\n",
              "      <td>7.910400</td>\n",
              "    </tr>\n",
              "    <tr>\n",
              "      <th>50%</th>\n",
              "      <td>446.000000</td>\n",
              "      <td>0.000000</td>\n",
              "      <td>3.000000</td>\n",
              "      <td>28.000000</td>\n",
              "      <td>0.000000</td>\n",
              "      <td>0.000000</td>\n",
              "      <td>14.454200</td>\n",
              "    </tr>\n",
              "    <tr>\n",
              "      <th>75%</th>\n",
              "      <td>668.500000</td>\n",
              "      <td>1.000000</td>\n",
              "      <td>3.000000</td>\n",
              "      <td>38.000000</td>\n",
              "      <td>1.000000</td>\n",
              "      <td>0.000000</td>\n",
              "      <td>31.000000</td>\n",
              "    </tr>\n",
              "    <tr>\n",
              "      <th>max</th>\n",
              "      <td>891.000000</td>\n",
              "      <td>1.000000</td>\n",
              "      <td>3.000000</td>\n",
              "      <td>80.000000</td>\n",
              "      <td>8.000000</td>\n",
              "      <td>6.000000</td>\n",
              "      <td>512.329200</td>\n",
              "    </tr>\n",
              "  </tbody>\n",
              "</table>\n",
              "</div>\n",
              "      <button class=\"colab-df-convert\" onclick=\"convertToInteractive('df-3c7ec3b6-49db-4100-8081-0611c1e51f73')\"\n",
              "              title=\"Convert this dataframe to an interactive table.\"\n",
              "              style=\"display:none;\">\n",
              "        \n",
              "  <svg xmlns=\"http://www.w3.org/2000/svg\" height=\"24px\"viewBox=\"0 0 24 24\"\n",
              "       width=\"24px\">\n",
              "    <path d=\"M0 0h24v24H0V0z\" fill=\"none\"/>\n",
              "    <path d=\"M18.56 5.44l.94 2.06.94-2.06 2.06-.94-2.06-.94-.94-2.06-.94 2.06-2.06.94zm-11 1L8.5 8.5l.94-2.06 2.06-.94-2.06-.94L8.5 2.5l-.94 2.06-2.06.94zm10 10l.94 2.06.94-2.06 2.06-.94-2.06-.94-.94-2.06-.94 2.06-2.06.94z\"/><path d=\"M17.41 7.96l-1.37-1.37c-.4-.4-.92-.59-1.43-.59-.52 0-1.04.2-1.43.59L10.3 9.45l-7.72 7.72c-.78.78-.78 2.05 0 2.83L4 21.41c.39.39.9.59 1.41.59.51 0 1.02-.2 1.41-.59l7.78-7.78 2.81-2.81c.8-.78.8-2.07 0-2.86zM5.41 20L4 18.59l7.72-7.72 1.47 1.35L5.41 20z\"/>\n",
              "  </svg>\n",
              "      </button>\n",
              "      \n",
              "  <style>\n",
              "    .colab-df-container {\n",
              "      display:flex;\n",
              "      flex-wrap:wrap;\n",
              "      gap: 12px;\n",
              "    }\n",
              "\n",
              "    .colab-df-convert {\n",
              "      background-color: #E8F0FE;\n",
              "      border: none;\n",
              "      border-radius: 50%;\n",
              "      cursor: pointer;\n",
              "      display: none;\n",
              "      fill: #1967D2;\n",
              "      height: 32px;\n",
              "      padding: 0 0 0 0;\n",
              "      width: 32px;\n",
              "    }\n",
              "\n",
              "    .colab-df-convert:hover {\n",
              "      background-color: #E2EBFA;\n",
              "      box-shadow: 0px 1px 2px rgba(60, 64, 67, 0.3), 0px 1px 3px 1px rgba(60, 64, 67, 0.15);\n",
              "      fill: #174EA6;\n",
              "    }\n",
              "\n",
              "    [theme=dark] .colab-df-convert {\n",
              "      background-color: #3B4455;\n",
              "      fill: #D2E3FC;\n",
              "    }\n",
              "\n",
              "    [theme=dark] .colab-df-convert:hover {\n",
              "      background-color: #434B5C;\n",
              "      box-shadow: 0px 1px 3px 1px rgba(0, 0, 0, 0.15);\n",
              "      filter: drop-shadow(0px 1px 2px rgba(0, 0, 0, 0.3));\n",
              "      fill: #FFFFFF;\n",
              "    }\n",
              "  </style>\n",
              "\n",
              "      <script>\n",
              "        const buttonEl =\n",
              "          document.querySelector('#df-3c7ec3b6-49db-4100-8081-0611c1e51f73 button.colab-df-convert');\n",
              "        buttonEl.style.display =\n",
              "          google.colab.kernel.accessAllowed ? 'block' : 'none';\n",
              "\n",
              "        async function convertToInteractive(key) {\n",
              "          const element = document.querySelector('#df-3c7ec3b6-49db-4100-8081-0611c1e51f73');\n",
              "          const dataTable =\n",
              "            await google.colab.kernel.invokeFunction('convertToInteractive',\n",
              "                                                     [key], {});\n",
              "          if (!dataTable) return;\n",
              "\n",
              "          const docLinkHtml = 'Like what you see? Visit the ' +\n",
              "            '<a target=\"_blank\" href=https://colab.research.google.com/notebooks/data_table.ipynb>data table notebook</a>'\n",
              "            + ' to learn more about interactive tables.';\n",
              "          element.innerHTML = '';\n",
              "          dataTable['output_type'] = 'display_data';\n",
              "          await google.colab.output.renderOutput(dataTable, element);\n",
              "          const docLink = document.createElement('div');\n",
              "          docLink.innerHTML = docLinkHtml;\n",
              "          element.appendChild(docLink);\n",
              "        }\n",
              "      </script>\n",
              "    </div>\n",
              "  </div>\n",
              "  "
            ],
            "text/plain": [
              "       PassengerId    Survived      Pclass  ...       SibSp       Parch        Fare\n",
              "count   891.000000  891.000000  891.000000  ...  891.000000  891.000000  891.000000\n",
              "mean    446.000000    0.383838    2.308642  ...    0.523008    0.381594   32.204208\n",
              "std     257.353842    0.486592    0.836071  ...    1.102743    0.806057   49.693429\n",
              "min       1.000000    0.000000    1.000000  ...    0.000000    0.000000    0.000000\n",
              "25%     223.500000    0.000000    2.000000  ...    0.000000    0.000000    7.910400\n",
              "50%     446.000000    0.000000    3.000000  ...    0.000000    0.000000   14.454200\n",
              "75%     668.500000    1.000000    3.000000  ...    1.000000    0.000000   31.000000\n",
              "max     891.000000    1.000000    3.000000  ...    8.000000    6.000000  512.329200\n",
              "\n",
              "[8 rows x 7 columns]"
            ]
          },
          "metadata": {},
          "execution_count": 498
        }
      ]
    },
    {
      "cell_type": "markdown",
      "source": [
        "According to the above information we can see that Age is the only numerical variable with missing values "
      ],
      "metadata": {
        "id": "PeOhsqct-yZ5"
      }
    },
    {
      "cell_type": "code",
      "source": [
        "# Checking for null values\n",
        "train.isnull().sum()"
      ],
      "metadata": {
        "colab": {
          "base_uri": "https://localhost:8080/"
        },
        "id": "XlYgWGgC_R5m",
        "outputId": "865bafbe-ed70-4aab-e73c-9c8e3c4ca19c"
      },
      "execution_count": null,
      "outputs": [
        {
          "output_type": "execute_result",
          "data": {
            "text/plain": [
              "PassengerId      0\n",
              "Survived         0\n",
              "Pclass           0\n",
              "Name             0\n",
              "Sex              0\n",
              "Age            177\n",
              "SibSp            0\n",
              "Parch            0\n",
              "Ticket           0\n",
              "Fare             0\n",
              "Cabin          687\n",
              "Embarked         2\n",
              "dtype: int64"
            ]
          },
          "metadata": {},
          "execution_count": 499
        }
      ]
    },
    {
      "cell_type": "markdown",
      "source": [
        "We have missing values in Age, Cabin and Embarked variables"
      ],
      "metadata": {
        "id": "Gz-ImVuq_yh0"
      }
    },
    {
      "cell_type": "code",
      "source": [
        "# Check for duplicate values \n",
        "train.duplicated().sum()"
      ],
      "metadata": {
        "colab": {
          "base_uri": "https://localhost:8080/"
        },
        "id": "x8avmTDT_6U0",
        "outputId": "120a1eba-e68d-4877-fc10-4ee185d1087b"
      },
      "execution_count": null,
      "outputs": [
        {
          "output_type": "execute_result",
          "data": {
            "text/plain": [
              "0"
            ]
          },
          "metadata": {},
          "execution_count": 500
        }
      ]
    },
    {
      "cell_type": "markdown",
      "source": [
        "We have no duplicate values "
      ],
      "metadata": {
        "id": "QGh3AEMSABt_"
      }
    },
    {
      "cell_type": "markdown",
      "source": [
        "## Test Dataset"
      ],
      "metadata": {
        "id": "CwV6--vHCL8J"
      }
    },
    {
      "cell_type": "code",
      "source": [
        "# We will proceed to loading our test dataset \n",
        "test = pd.read_csv('https://archive.org/download/test1_202002/test%20%281%29.csv')"
      ],
      "metadata": {
        "id": "PMYyRA6dAK8i"
      },
      "execution_count": null,
      "outputs": []
    },
    {
      "cell_type": "code",
      "source": [
        "# Checking the column names in the test dataset\n",
        "print('The column names in the test dataset are :', test.columns )"
      ],
      "metadata": {
        "colab": {
          "base_uri": "https://localhost:8080/"
        },
        "id": "gTPw00tTAdF6",
        "outputId": "7a62847e-583d-401e-ad77-ff95ee9ad34f"
      },
      "execution_count": null,
      "outputs": [
        {
          "output_type": "stream",
          "name": "stdout",
          "text": [
            "The column names in the test dataset are : Index(['PassengerId', 'Pclass', 'Name', 'Sex', 'Age', 'SibSp', 'Parch',\n",
            "       'Ticket', 'Fare', 'Cabin', 'Embarked'],\n",
            "      dtype='object')\n"
          ]
        }
      ]
    },
    {
      "cell_type": "code",
      "source": [
        "# Previewing the first five rows\n",
        "test.head()"
      ],
      "metadata": {
        "colab": {
          "base_uri": "https://localhost:8080/",
          "height": 206
        },
        "id": "bYPW9lGAArpu",
        "outputId": "10348410-c110-4d15-9282-20a43bee7ae7"
      },
      "execution_count": null,
      "outputs": [
        {
          "output_type": "execute_result",
          "data": {
            "text/html": [
              "\n",
              "  <div id=\"df-807df7b5-9df9-4ff1-ae6e-1555b2809ee0\">\n",
              "    <div class=\"colab-df-container\">\n",
              "      <div>\n",
              "<style scoped>\n",
              "    .dataframe tbody tr th:only-of-type {\n",
              "        vertical-align: middle;\n",
              "    }\n",
              "\n",
              "    .dataframe tbody tr th {\n",
              "        vertical-align: top;\n",
              "    }\n",
              "\n",
              "    .dataframe thead th {\n",
              "        text-align: right;\n",
              "    }\n",
              "</style>\n",
              "<table border=\"1\" class=\"dataframe\">\n",
              "  <thead>\n",
              "    <tr style=\"text-align: right;\">\n",
              "      <th></th>\n",
              "      <th>PassengerId</th>\n",
              "      <th>Pclass</th>\n",
              "      <th>Name</th>\n",
              "      <th>Sex</th>\n",
              "      <th>Age</th>\n",
              "      <th>SibSp</th>\n",
              "      <th>Parch</th>\n",
              "      <th>Ticket</th>\n",
              "      <th>Fare</th>\n",
              "      <th>Cabin</th>\n",
              "      <th>Embarked</th>\n",
              "    </tr>\n",
              "  </thead>\n",
              "  <tbody>\n",
              "    <tr>\n",
              "      <th>0</th>\n",
              "      <td>892</td>\n",
              "      <td>3</td>\n",
              "      <td>Kelly, Mr. James</td>\n",
              "      <td>male</td>\n",
              "      <td>34.5</td>\n",
              "      <td>0</td>\n",
              "      <td>0</td>\n",
              "      <td>330911</td>\n",
              "      <td>7.8292</td>\n",
              "      <td>NaN</td>\n",
              "      <td>Q</td>\n",
              "    </tr>\n",
              "    <tr>\n",
              "      <th>1</th>\n",
              "      <td>893</td>\n",
              "      <td>3</td>\n",
              "      <td>Wilkes, Mrs. James (Ellen Needs)</td>\n",
              "      <td>female</td>\n",
              "      <td>47.0</td>\n",
              "      <td>1</td>\n",
              "      <td>0</td>\n",
              "      <td>363272</td>\n",
              "      <td>7.0000</td>\n",
              "      <td>NaN</td>\n",
              "      <td>S</td>\n",
              "    </tr>\n",
              "    <tr>\n",
              "      <th>2</th>\n",
              "      <td>894</td>\n",
              "      <td>2</td>\n",
              "      <td>Myles, Mr. Thomas Francis</td>\n",
              "      <td>male</td>\n",
              "      <td>62.0</td>\n",
              "      <td>0</td>\n",
              "      <td>0</td>\n",
              "      <td>240276</td>\n",
              "      <td>9.6875</td>\n",
              "      <td>NaN</td>\n",
              "      <td>Q</td>\n",
              "    </tr>\n",
              "    <tr>\n",
              "      <th>3</th>\n",
              "      <td>895</td>\n",
              "      <td>3</td>\n",
              "      <td>Wirz, Mr. Albert</td>\n",
              "      <td>male</td>\n",
              "      <td>27.0</td>\n",
              "      <td>0</td>\n",
              "      <td>0</td>\n",
              "      <td>315154</td>\n",
              "      <td>8.6625</td>\n",
              "      <td>NaN</td>\n",
              "      <td>S</td>\n",
              "    </tr>\n",
              "    <tr>\n",
              "      <th>4</th>\n",
              "      <td>896</td>\n",
              "      <td>3</td>\n",
              "      <td>Hirvonen, Mrs. Alexander (Helga E Lindqvist)</td>\n",
              "      <td>female</td>\n",
              "      <td>22.0</td>\n",
              "      <td>1</td>\n",
              "      <td>1</td>\n",
              "      <td>3101298</td>\n",
              "      <td>12.2875</td>\n",
              "      <td>NaN</td>\n",
              "      <td>S</td>\n",
              "    </tr>\n",
              "  </tbody>\n",
              "</table>\n",
              "</div>\n",
              "      <button class=\"colab-df-convert\" onclick=\"convertToInteractive('df-807df7b5-9df9-4ff1-ae6e-1555b2809ee0')\"\n",
              "              title=\"Convert this dataframe to an interactive table.\"\n",
              "              style=\"display:none;\">\n",
              "        \n",
              "  <svg xmlns=\"http://www.w3.org/2000/svg\" height=\"24px\"viewBox=\"0 0 24 24\"\n",
              "       width=\"24px\">\n",
              "    <path d=\"M0 0h24v24H0V0z\" fill=\"none\"/>\n",
              "    <path d=\"M18.56 5.44l.94 2.06.94-2.06 2.06-.94-2.06-.94-.94-2.06-.94 2.06-2.06.94zm-11 1L8.5 8.5l.94-2.06 2.06-.94-2.06-.94L8.5 2.5l-.94 2.06-2.06.94zm10 10l.94 2.06.94-2.06 2.06-.94-2.06-.94-.94-2.06-.94 2.06-2.06.94z\"/><path d=\"M17.41 7.96l-1.37-1.37c-.4-.4-.92-.59-1.43-.59-.52 0-1.04.2-1.43.59L10.3 9.45l-7.72 7.72c-.78.78-.78 2.05 0 2.83L4 21.41c.39.39.9.59 1.41.59.51 0 1.02-.2 1.41-.59l7.78-7.78 2.81-2.81c.8-.78.8-2.07 0-2.86zM5.41 20L4 18.59l7.72-7.72 1.47 1.35L5.41 20z\"/>\n",
              "  </svg>\n",
              "      </button>\n",
              "      \n",
              "  <style>\n",
              "    .colab-df-container {\n",
              "      display:flex;\n",
              "      flex-wrap:wrap;\n",
              "      gap: 12px;\n",
              "    }\n",
              "\n",
              "    .colab-df-convert {\n",
              "      background-color: #E8F0FE;\n",
              "      border: none;\n",
              "      border-radius: 50%;\n",
              "      cursor: pointer;\n",
              "      display: none;\n",
              "      fill: #1967D2;\n",
              "      height: 32px;\n",
              "      padding: 0 0 0 0;\n",
              "      width: 32px;\n",
              "    }\n",
              "\n",
              "    .colab-df-convert:hover {\n",
              "      background-color: #E2EBFA;\n",
              "      box-shadow: 0px 1px 2px rgba(60, 64, 67, 0.3), 0px 1px 3px 1px rgba(60, 64, 67, 0.15);\n",
              "      fill: #174EA6;\n",
              "    }\n",
              "\n",
              "    [theme=dark] .colab-df-convert {\n",
              "      background-color: #3B4455;\n",
              "      fill: #D2E3FC;\n",
              "    }\n",
              "\n",
              "    [theme=dark] .colab-df-convert:hover {\n",
              "      background-color: #434B5C;\n",
              "      box-shadow: 0px 1px 3px 1px rgba(0, 0, 0, 0.15);\n",
              "      filter: drop-shadow(0px 1px 2px rgba(0, 0, 0, 0.3));\n",
              "      fill: #FFFFFF;\n",
              "    }\n",
              "  </style>\n",
              "\n",
              "      <script>\n",
              "        const buttonEl =\n",
              "          document.querySelector('#df-807df7b5-9df9-4ff1-ae6e-1555b2809ee0 button.colab-df-convert');\n",
              "        buttonEl.style.display =\n",
              "          google.colab.kernel.accessAllowed ? 'block' : 'none';\n",
              "\n",
              "        async function convertToInteractive(key) {\n",
              "          const element = document.querySelector('#df-807df7b5-9df9-4ff1-ae6e-1555b2809ee0');\n",
              "          const dataTable =\n",
              "            await google.colab.kernel.invokeFunction('convertToInteractive',\n",
              "                                                     [key], {});\n",
              "          if (!dataTable) return;\n",
              "\n",
              "          const docLinkHtml = 'Like what you see? Visit the ' +\n",
              "            '<a target=\"_blank\" href=https://colab.research.google.com/notebooks/data_table.ipynb>data table notebook</a>'\n",
              "            + ' to learn more about interactive tables.';\n",
              "          element.innerHTML = '';\n",
              "          dataTable['output_type'] = 'display_data';\n",
              "          await google.colab.output.renderOutput(dataTable, element);\n",
              "          const docLink = document.createElement('div');\n",
              "          docLink.innerHTML = docLinkHtml;\n",
              "          element.appendChild(docLink);\n",
              "        }\n",
              "      </script>\n",
              "    </div>\n",
              "  </div>\n",
              "  "
            ],
            "text/plain": [
              "   PassengerId  Pclass  ... Cabin Embarked\n",
              "0          892       3  ...   NaN        Q\n",
              "1          893       3  ...   NaN        S\n",
              "2          894       2  ...   NaN        Q\n",
              "3          895       3  ...   NaN        S\n",
              "4          896       3  ...   NaN        S\n",
              "\n",
              "[5 rows x 11 columns]"
            ]
          },
          "metadata": {},
          "execution_count": 503
        }
      ]
    },
    {
      "cell_type": "code",
      "source": [
        "# Previewing the last five rows\n",
        "test.tail()"
      ],
      "metadata": {
        "colab": {
          "base_uri": "https://localhost:8080/",
          "height": 206
        },
        "id": "Yv4MFGxDAyim",
        "outputId": "2a6f81a6-1c58-4ea2-eb8b-92ceda2e3758"
      },
      "execution_count": null,
      "outputs": [
        {
          "output_type": "execute_result",
          "data": {
            "text/html": [
              "\n",
              "  <div id=\"df-8a5e1557-7680-4374-8254-b5b718f335a2\">\n",
              "    <div class=\"colab-df-container\">\n",
              "      <div>\n",
              "<style scoped>\n",
              "    .dataframe tbody tr th:only-of-type {\n",
              "        vertical-align: middle;\n",
              "    }\n",
              "\n",
              "    .dataframe tbody tr th {\n",
              "        vertical-align: top;\n",
              "    }\n",
              "\n",
              "    .dataframe thead th {\n",
              "        text-align: right;\n",
              "    }\n",
              "</style>\n",
              "<table border=\"1\" class=\"dataframe\">\n",
              "  <thead>\n",
              "    <tr style=\"text-align: right;\">\n",
              "      <th></th>\n",
              "      <th>PassengerId</th>\n",
              "      <th>Pclass</th>\n",
              "      <th>Name</th>\n",
              "      <th>Sex</th>\n",
              "      <th>Age</th>\n",
              "      <th>SibSp</th>\n",
              "      <th>Parch</th>\n",
              "      <th>Ticket</th>\n",
              "      <th>Fare</th>\n",
              "      <th>Cabin</th>\n",
              "      <th>Embarked</th>\n",
              "    </tr>\n",
              "  </thead>\n",
              "  <tbody>\n",
              "    <tr>\n",
              "      <th>413</th>\n",
              "      <td>1305</td>\n",
              "      <td>3</td>\n",
              "      <td>Spector, Mr. Woolf</td>\n",
              "      <td>male</td>\n",
              "      <td>NaN</td>\n",
              "      <td>0</td>\n",
              "      <td>0</td>\n",
              "      <td>A.5. 3236</td>\n",
              "      <td>8.0500</td>\n",
              "      <td>NaN</td>\n",
              "      <td>S</td>\n",
              "    </tr>\n",
              "    <tr>\n",
              "      <th>414</th>\n",
              "      <td>1306</td>\n",
              "      <td>1</td>\n",
              "      <td>Oliva y Ocana, Dona. Fermina</td>\n",
              "      <td>female</td>\n",
              "      <td>39.0</td>\n",
              "      <td>0</td>\n",
              "      <td>0</td>\n",
              "      <td>PC 17758</td>\n",
              "      <td>108.9000</td>\n",
              "      <td>C105</td>\n",
              "      <td>C</td>\n",
              "    </tr>\n",
              "    <tr>\n",
              "      <th>415</th>\n",
              "      <td>1307</td>\n",
              "      <td>3</td>\n",
              "      <td>Saether, Mr. Simon Sivertsen</td>\n",
              "      <td>male</td>\n",
              "      <td>38.5</td>\n",
              "      <td>0</td>\n",
              "      <td>0</td>\n",
              "      <td>SOTON/O.Q. 3101262</td>\n",
              "      <td>7.2500</td>\n",
              "      <td>NaN</td>\n",
              "      <td>S</td>\n",
              "    </tr>\n",
              "    <tr>\n",
              "      <th>416</th>\n",
              "      <td>1308</td>\n",
              "      <td>3</td>\n",
              "      <td>Ware, Mr. Frederick</td>\n",
              "      <td>male</td>\n",
              "      <td>NaN</td>\n",
              "      <td>0</td>\n",
              "      <td>0</td>\n",
              "      <td>359309</td>\n",
              "      <td>8.0500</td>\n",
              "      <td>NaN</td>\n",
              "      <td>S</td>\n",
              "    </tr>\n",
              "    <tr>\n",
              "      <th>417</th>\n",
              "      <td>1309</td>\n",
              "      <td>3</td>\n",
              "      <td>Peter, Master. Michael J</td>\n",
              "      <td>male</td>\n",
              "      <td>NaN</td>\n",
              "      <td>1</td>\n",
              "      <td>1</td>\n",
              "      <td>2668</td>\n",
              "      <td>22.3583</td>\n",
              "      <td>NaN</td>\n",
              "      <td>C</td>\n",
              "    </tr>\n",
              "  </tbody>\n",
              "</table>\n",
              "</div>\n",
              "      <button class=\"colab-df-convert\" onclick=\"convertToInteractive('df-8a5e1557-7680-4374-8254-b5b718f335a2')\"\n",
              "              title=\"Convert this dataframe to an interactive table.\"\n",
              "              style=\"display:none;\">\n",
              "        \n",
              "  <svg xmlns=\"http://www.w3.org/2000/svg\" height=\"24px\"viewBox=\"0 0 24 24\"\n",
              "       width=\"24px\">\n",
              "    <path d=\"M0 0h24v24H0V0z\" fill=\"none\"/>\n",
              "    <path d=\"M18.56 5.44l.94 2.06.94-2.06 2.06-.94-2.06-.94-.94-2.06-.94 2.06-2.06.94zm-11 1L8.5 8.5l.94-2.06 2.06-.94-2.06-.94L8.5 2.5l-.94 2.06-2.06.94zm10 10l.94 2.06.94-2.06 2.06-.94-2.06-.94-.94-2.06-.94 2.06-2.06.94z\"/><path d=\"M17.41 7.96l-1.37-1.37c-.4-.4-.92-.59-1.43-.59-.52 0-1.04.2-1.43.59L10.3 9.45l-7.72 7.72c-.78.78-.78 2.05 0 2.83L4 21.41c.39.39.9.59 1.41.59.51 0 1.02-.2 1.41-.59l7.78-7.78 2.81-2.81c.8-.78.8-2.07 0-2.86zM5.41 20L4 18.59l7.72-7.72 1.47 1.35L5.41 20z\"/>\n",
              "  </svg>\n",
              "      </button>\n",
              "      \n",
              "  <style>\n",
              "    .colab-df-container {\n",
              "      display:flex;\n",
              "      flex-wrap:wrap;\n",
              "      gap: 12px;\n",
              "    }\n",
              "\n",
              "    .colab-df-convert {\n",
              "      background-color: #E8F0FE;\n",
              "      border: none;\n",
              "      border-radius: 50%;\n",
              "      cursor: pointer;\n",
              "      display: none;\n",
              "      fill: #1967D2;\n",
              "      height: 32px;\n",
              "      padding: 0 0 0 0;\n",
              "      width: 32px;\n",
              "    }\n",
              "\n",
              "    .colab-df-convert:hover {\n",
              "      background-color: #E2EBFA;\n",
              "      box-shadow: 0px 1px 2px rgba(60, 64, 67, 0.3), 0px 1px 3px 1px rgba(60, 64, 67, 0.15);\n",
              "      fill: #174EA6;\n",
              "    }\n",
              "\n",
              "    [theme=dark] .colab-df-convert {\n",
              "      background-color: #3B4455;\n",
              "      fill: #D2E3FC;\n",
              "    }\n",
              "\n",
              "    [theme=dark] .colab-df-convert:hover {\n",
              "      background-color: #434B5C;\n",
              "      box-shadow: 0px 1px 3px 1px rgba(0, 0, 0, 0.15);\n",
              "      filter: drop-shadow(0px 1px 2px rgba(0, 0, 0, 0.3));\n",
              "      fill: #FFFFFF;\n",
              "    }\n",
              "  </style>\n",
              "\n",
              "      <script>\n",
              "        const buttonEl =\n",
              "          document.querySelector('#df-8a5e1557-7680-4374-8254-b5b718f335a2 button.colab-df-convert');\n",
              "        buttonEl.style.display =\n",
              "          google.colab.kernel.accessAllowed ? 'block' : 'none';\n",
              "\n",
              "        async function convertToInteractive(key) {\n",
              "          const element = document.querySelector('#df-8a5e1557-7680-4374-8254-b5b718f335a2');\n",
              "          const dataTable =\n",
              "            await google.colab.kernel.invokeFunction('convertToInteractive',\n",
              "                                                     [key], {});\n",
              "          if (!dataTable) return;\n",
              "\n",
              "          const docLinkHtml = 'Like what you see? Visit the ' +\n",
              "            '<a target=\"_blank\" href=https://colab.research.google.com/notebooks/data_table.ipynb>data table notebook</a>'\n",
              "            + ' to learn more about interactive tables.';\n",
              "          element.innerHTML = '';\n",
              "          dataTable['output_type'] = 'display_data';\n",
              "          await google.colab.output.renderOutput(dataTable, element);\n",
              "          const docLink = document.createElement('div');\n",
              "          docLink.innerHTML = docLinkHtml;\n",
              "          element.appendChild(docLink);\n",
              "        }\n",
              "      </script>\n",
              "    </div>\n",
              "  </div>\n",
              "  "
            ],
            "text/plain": [
              "     PassengerId  Pclass                          Name  ...      Fare  Cabin  Embarked\n",
              "413         1305       3            Spector, Mr. Woolf  ...    8.0500    NaN         S\n",
              "414         1306       1  Oliva y Ocana, Dona. Fermina  ...  108.9000   C105         C\n",
              "415         1307       3  Saether, Mr. Simon Sivertsen  ...    7.2500    NaN         S\n",
              "416         1308       3           Ware, Mr. Frederick  ...    8.0500    NaN         S\n",
              "417         1309       3      Peter, Master. Michael J  ...   22.3583    NaN         C\n",
              "\n",
              "[5 rows x 11 columns]"
            ]
          },
          "metadata": {},
          "execution_count": 504
        }
      ]
    },
    {
      "cell_type": "code",
      "source": [
        "# Determining the no. of records in our dataset\n",
        "test.shape"
      ],
      "metadata": {
        "colab": {
          "base_uri": "https://localhost:8080/"
        },
        "id": "TVNJW_b3A8nC",
        "outputId": "9e10ea45-b6a3-48ce-8f04-0a9e17f1d382"
      },
      "execution_count": null,
      "outputs": [
        {
          "output_type": "execute_result",
          "data": {
            "text/plain": [
              "(418, 11)"
            ]
          },
          "metadata": {},
          "execution_count": 505
        }
      ]
    },
    {
      "cell_type": "markdown",
      "source": [
        "We have 418 records and 11 variables"
      ],
      "metadata": {
        "id": "qCGL_agEBABy"
      }
    },
    {
      "cell_type": "code",
      "source": [
        "# Checking whether each column has the appropriate datatype\n",
        "test.dtypes"
      ],
      "metadata": {
        "colab": {
          "base_uri": "https://localhost:8080/"
        },
        "id": "tTFevZdkBIDY",
        "outputId": "9bb8d77c-b73f-4866-97cf-8eb9c1eb841e"
      },
      "execution_count": null,
      "outputs": [
        {
          "output_type": "execute_result",
          "data": {
            "text/plain": [
              "PassengerId      int64\n",
              "Pclass           int64\n",
              "Name            object\n",
              "Sex             object\n",
              "Age            float64\n",
              "SibSp            int64\n",
              "Parch            int64\n",
              "Ticket          object\n",
              "Fare           float64\n",
              "Cabin           object\n",
              "Embarked        object\n",
              "dtype: object"
            ]
          },
          "metadata": {},
          "execution_count": 506
        }
      ]
    },
    {
      "cell_type": "markdown",
      "source": [
        "Our variables in the test dataframe are also a combination of integer, object and float datatypes"
      ],
      "metadata": {
        "id": "io9Fi-DQBQcW"
      }
    },
    {
      "cell_type": "code",
      "source": [
        "# Checking the dataframe's statistical information\n",
        "test.describe()"
      ],
      "metadata": {
        "colab": {
          "base_uri": "https://localhost:8080/",
          "height": 300
        },
        "id": "uZ3mCleXBV4h",
        "outputId": "cd867784-da31-405b-bd94-9fa2da512233"
      },
      "execution_count": null,
      "outputs": [
        {
          "output_type": "execute_result",
          "data": {
            "text/html": [
              "\n",
              "  <div id=\"df-e33e2c1e-4ab6-4c88-8c8b-a771d4ef9302\">\n",
              "    <div class=\"colab-df-container\">\n",
              "      <div>\n",
              "<style scoped>\n",
              "    .dataframe tbody tr th:only-of-type {\n",
              "        vertical-align: middle;\n",
              "    }\n",
              "\n",
              "    .dataframe tbody tr th {\n",
              "        vertical-align: top;\n",
              "    }\n",
              "\n",
              "    .dataframe thead th {\n",
              "        text-align: right;\n",
              "    }\n",
              "</style>\n",
              "<table border=\"1\" class=\"dataframe\">\n",
              "  <thead>\n",
              "    <tr style=\"text-align: right;\">\n",
              "      <th></th>\n",
              "      <th>PassengerId</th>\n",
              "      <th>Pclass</th>\n",
              "      <th>Age</th>\n",
              "      <th>SibSp</th>\n",
              "      <th>Parch</th>\n",
              "      <th>Fare</th>\n",
              "    </tr>\n",
              "  </thead>\n",
              "  <tbody>\n",
              "    <tr>\n",
              "      <th>count</th>\n",
              "      <td>418.000000</td>\n",
              "      <td>418.000000</td>\n",
              "      <td>332.000000</td>\n",
              "      <td>418.000000</td>\n",
              "      <td>418.000000</td>\n",
              "      <td>417.000000</td>\n",
              "    </tr>\n",
              "    <tr>\n",
              "      <th>mean</th>\n",
              "      <td>1100.500000</td>\n",
              "      <td>2.265550</td>\n",
              "      <td>30.272590</td>\n",
              "      <td>0.447368</td>\n",
              "      <td>0.392344</td>\n",
              "      <td>35.627188</td>\n",
              "    </tr>\n",
              "    <tr>\n",
              "      <th>std</th>\n",
              "      <td>120.810458</td>\n",
              "      <td>0.841838</td>\n",
              "      <td>14.181209</td>\n",
              "      <td>0.896760</td>\n",
              "      <td>0.981429</td>\n",
              "      <td>55.907576</td>\n",
              "    </tr>\n",
              "    <tr>\n",
              "      <th>min</th>\n",
              "      <td>892.000000</td>\n",
              "      <td>1.000000</td>\n",
              "      <td>0.170000</td>\n",
              "      <td>0.000000</td>\n",
              "      <td>0.000000</td>\n",
              "      <td>0.000000</td>\n",
              "    </tr>\n",
              "    <tr>\n",
              "      <th>25%</th>\n",
              "      <td>996.250000</td>\n",
              "      <td>1.000000</td>\n",
              "      <td>21.000000</td>\n",
              "      <td>0.000000</td>\n",
              "      <td>0.000000</td>\n",
              "      <td>7.895800</td>\n",
              "    </tr>\n",
              "    <tr>\n",
              "      <th>50%</th>\n",
              "      <td>1100.500000</td>\n",
              "      <td>3.000000</td>\n",
              "      <td>27.000000</td>\n",
              "      <td>0.000000</td>\n",
              "      <td>0.000000</td>\n",
              "      <td>14.454200</td>\n",
              "    </tr>\n",
              "    <tr>\n",
              "      <th>75%</th>\n",
              "      <td>1204.750000</td>\n",
              "      <td>3.000000</td>\n",
              "      <td>39.000000</td>\n",
              "      <td>1.000000</td>\n",
              "      <td>0.000000</td>\n",
              "      <td>31.500000</td>\n",
              "    </tr>\n",
              "    <tr>\n",
              "      <th>max</th>\n",
              "      <td>1309.000000</td>\n",
              "      <td>3.000000</td>\n",
              "      <td>76.000000</td>\n",
              "      <td>8.000000</td>\n",
              "      <td>9.000000</td>\n",
              "      <td>512.329200</td>\n",
              "    </tr>\n",
              "  </tbody>\n",
              "</table>\n",
              "</div>\n",
              "      <button class=\"colab-df-convert\" onclick=\"convertToInteractive('df-e33e2c1e-4ab6-4c88-8c8b-a771d4ef9302')\"\n",
              "              title=\"Convert this dataframe to an interactive table.\"\n",
              "              style=\"display:none;\">\n",
              "        \n",
              "  <svg xmlns=\"http://www.w3.org/2000/svg\" height=\"24px\"viewBox=\"0 0 24 24\"\n",
              "       width=\"24px\">\n",
              "    <path d=\"M0 0h24v24H0V0z\" fill=\"none\"/>\n",
              "    <path d=\"M18.56 5.44l.94 2.06.94-2.06 2.06-.94-2.06-.94-.94-2.06-.94 2.06-2.06.94zm-11 1L8.5 8.5l.94-2.06 2.06-.94-2.06-.94L8.5 2.5l-.94 2.06-2.06.94zm10 10l.94 2.06.94-2.06 2.06-.94-2.06-.94-.94-2.06-.94 2.06-2.06.94z\"/><path d=\"M17.41 7.96l-1.37-1.37c-.4-.4-.92-.59-1.43-.59-.52 0-1.04.2-1.43.59L10.3 9.45l-7.72 7.72c-.78.78-.78 2.05 0 2.83L4 21.41c.39.39.9.59 1.41.59.51 0 1.02-.2 1.41-.59l7.78-7.78 2.81-2.81c.8-.78.8-2.07 0-2.86zM5.41 20L4 18.59l7.72-7.72 1.47 1.35L5.41 20z\"/>\n",
              "  </svg>\n",
              "      </button>\n",
              "      \n",
              "  <style>\n",
              "    .colab-df-container {\n",
              "      display:flex;\n",
              "      flex-wrap:wrap;\n",
              "      gap: 12px;\n",
              "    }\n",
              "\n",
              "    .colab-df-convert {\n",
              "      background-color: #E8F0FE;\n",
              "      border: none;\n",
              "      border-radius: 50%;\n",
              "      cursor: pointer;\n",
              "      display: none;\n",
              "      fill: #1967D2;\n",
              "      height: 32px;\n",
              "      padding: 0 0 0 0;\n",
              "      width: 32px;\n",
              "    }\n",
              "\n",
              "    .colab-df-convert:hover {\n",
              "      background-color: #E2EBFA;\n",
              "      box-shadow: 0px 1px 2px rgba(60, 64, 67, 0.3), 0px 1px 3px 1px rgba(60, 64, 67, 0.15);\n",
              "      fill: #174EA6;\n",
              "    }\n",
              "\n",
              "    [theme=dark] .colab-df-convert {\n",
              "      background-color: #3B4455;\n",
              "      fill: #D2E3FC;\n",
              "    }\n",
              "\n",
              "    [theme=dark] .colab-df-convert:hover {\n",
              "      background-color: #434B5C;\n",
              "      box-shadow: 0px 1px 3px 1px rgba(0, 0, 0, 0.15);\n",
              "      filter: drop-shadow(0px 1px 2px rgba(0, 0, 0, 0.3));\n",
              "      fill: #FFFFFF;\n",
              "    }\n",
              "  </style>\n",
              "\n",
              "      <script>\n",
              "        const buttonEl =\n",
              "          document.querySelector('#df-e33e2c1e-4ab6-4c88-8c8b-a771d4ef9302 button.colab-df-convert');\n",
              "        buttonEl.style.display =\n",
              "          google.colab.kernel.accessAllowed ? 'block' : 'none';\n",
              "\n",
              "        async function convertToInteractive(key) {\n",
              "          const element = document.querySelector('#df-e33e2c1e-4ab6-4c88-8c8b-a771d4ef9302');\n",
              "          const dataTable =\n",
              "            await google.colab.kernel.invokeFunction('convertToInteractive',\n",
              "                                                     [key], {});\n",
              "          if (!dataTable) return;\n",
              "\n",
              "          const docLinkHtml = 'Like what you see? Visit the ' +\n",
              "            '<a target=\"_blank\" href=https://colab.research.google.com/notebooks/data_table.ipynb>data table notebook</a>'\n",
              "            + ' to learn more about interactive tables.';\n",
              "          element.innerHTML = '';\n",
              "          dataTable['output_type'] = 'display_data';\n",
              "          await google.colab.output.renderOutput(dataTable, element);\n",
              "          const docLink = document.createElement('div');\n",
              "          docLink.innerHTML = docLinkHtml;\n",
              "          element.appendChild(docLink);\n",
              "        }\n",
              "      </script>\n",
              "    </div>\n",
              "  </div>\n",
              "  "
            ],
            "text/plain": [
              "       PassengerId      Pclass         Age       SibSp       Parch        Fare\n",
              "count   418.000000  418.000000  332.000000  418.000000  418.000000  417.000000\n",
              "mean   1100.500000    2.265550   30.272590    0.447368    0.392344   35.627188\n",
              "std     120.810458    0.841838   14.181209    0.896760    0.981429   55.907576\n",
              "min     892.000000    1.000000    0.170000    0.000000    0.000000    0.000000\n",
              "25%     996.250000    1.000000   21.000000    0.000000    0.000000    7.895800\n",
              "50%    1100.500000    3.000000   27.000000    0.000000    0.000000   14.454200\n",
              "75%    1204.750000    3.000000   39.000000    1.000000    0.000000   31.500000\n",
              "max    1309.000000    3.000000   76.000000    8.000000    9.000000  512.329200"
            ]
          },
          "metadata": {},
          "execution_count": 507
        }
      ]
    },
    {
      "cell_type": "markdown",
      "source": [
        "The age variable also has missing values in this dataframe"
      ],
      "metadata": {
        "id": "F9ebVemMBdzd"
      }
    },
    {
      "cell_type": "code",
      "source": [
        "# Checking for null values\n",
        "test.isnull().sum()"
      ],
      "metadata": {
        "colab": {
          "base_uri": "https://localhost:8080/"
        },
        "id": "_84pu-b1Bm_7",
        "outputId": "d656e287-488b-4923-baaa-c35bc86c7572"
      },
      "execution_count": null,
      "outputs": [
        {
          "output_type": "execute_result",
          "data": {
            "text/plain": [
              "PassengerId      0\n",
              "Pclass           0\n",
              "Name             0\n",
              "Sex              0\n",
              "Age             86\n",
              "SibSp            0\n",
              "Parch            0\n",
              "Ticket           0\n",
              "Fare             1\n",
              "Cabin          327\n",
              "Embarked         0\n",
              "dtype: int64"
            ]
          },
          "metadata": {},
          "execution_count": 508
        }
      ]
    },
    {
      "cell_type": "markdown",
      "source": [
        "There are missing values in the age and cabin variables"
      ],
      "metadata": {
        "id": "1n76pvt4BunI"
      }
    },
    {
      "cell_type": "code",
      "source": [
        "# Check for duplicate values \n",
        "test.duplicated().sum()"
      ],
      "metadata": {
        "colab": {
          "base_uri": "https://localhost:8080/"
        },
        "id": "OAgmN2MHB1Dt",
        "outputId": "f11bd2d7-1840-4df6-af5c-5cc1b47f51c3"
      },
      "execution_count": null,
      "outputs": [
        {
          "output_type": "execute_result",
          "data": {
            "text/plain": [
              "0"
            ]
          },
          "metadata": {},
          "execution_count": 509
        }
      ]
    },
    {
      "cell_type": "markdown",
      "source": [
        "There are no duplicate values "
      ],
      "metadata": {
        "id": "aHP2ESvzCGf6"
      }
    },
    {
      "cell_type": "markdown",
      "source": [
        "## Data Cleaning"
      ],
      "metadata": {
        "id": "IlLomPjICTNh"
      }
    },
    {
      "cell_type": "markdown",
      "source": [
        "## Train Dataset"
      ],
      "metadata": {
        "id": "M7wG44K-Cb0K"
      }
    },
    {
      "cell_type": "code",
      "source": [
        "# Dealing with missing values \n",
        "# Let's confirm the missing values again\n",
        "train.isnull().sum()"
      ],
      "metadata": {
        "colab": {
          "base_uri": "https://localhost:8080/"
        },
        "id": "QJS4xwqaCZd8",
        "outputId": "37f0efc6-f542-4a5a-a40f-870a12908018"
      },
      "execution_count": null,
      "outputs": [
        {
          "output_type": "execute_result",
          "data": {
            "text/plain": [
              "PassengerId      0\n",
              "Survived         0\n",
              "Pclass           0\n",
              "Name             0\n",
              "Sex              0\n",
              "Age            177\n",
              "SibSp            0\n",
              "Parch            0\n",
              "Ticket           0\n",
              "Fare             0\n",
              "Cabin          687\n",
              "Embarked         2\n",
              "dtype: int64"
            ]
          },
          "metadata": {},
          "execution_count": 510
        }
      ]
    },
    {
      "cell_type": "code",
      "source": [
        "# Identify the total number of missing values in our dataframe\n",
        "train.isnull().sum().sum()"
      ],
      "metadata": {
        "colab": {
          "base_uri": "https://localhost:8080/"
        },
        "id": "YLLlL6-kC4dn",
        "outputId": "ce378970-be48-417c-e7d6-d03dc18a0cb7"
      },
      "execution_count": null,
      "outputs": [
        {
          "output_type": "execute_result",
          "data": {
            "text/plain": [
              "866"
            ]
          },
          "metadata": {},
          "execution_count": 511
        }
      ]
    },
    {
      "cell_type": "markdown",
      "source": [
        "We have 866 missing values in the train dataset"
      ],
      "metadata": {
        "id": "Mhbf9uY3DDJF"
      }
    },
    {
      "cell_type": "code",
      "source": [
        "# Let's find the percentage of missing values in each column in our dataframe \n",
        "percentage = train.isnull().sum()*100/len(train)\n",
        "percentage.sort_values(ascending = False)"
      ],
      "metadata": {
        "colab": {
          "base_uri": "https://localhost:8080/"
        },
        "id": "YiQhRgFTDIE3",
        "outputId": "72df1fa2-5850-4318-faa5-31feb3fd07ce"
      },
      "execution_count": null,
      "outputs": [
        {
          "output_type": "execute_result",
          "data": {
            "text/plain": [
              "Cabin          77.104377\n",
              "Age            19.865320\n",
              "Embarked        0.224467\n",
              "PassengerId     0.000000\n",
              "Survived        0.000000\n",
              "Pclass          0.000000\n",
              "Name            0.000000\n",
              "Sex             0.000000\n",
              "SibSp           0.000000\n",
              "Parch           0.000000\n",
              "Ticket          0.000000\n",
              "Fare            0.000000\n",
              "dtype: float64"
            ]
          },
          "metadata": {},
          "execution_count": 512
        }
      ]
    },
    {
      "cell_type": "markdown",
      "source": [
        "Over 50% of the values in the cabin variable are missing "
      ],
      "metadata": {
        "id": "rUWhDvfEDWLS"
      }
    },
    {
      "cell_type": "code",
      "source": [
        "# We will drop Cabin column because it contains over 50% of missing values\n",
        "train_clean = train.drop('Cabin', axis = 1)"
      ],
      "metadata": {
        "id": "1ZDvjLYpDlGL"
      },
      "execution_count": null,
      "outputs": []
    },
    {
      "cell_type": "code",
      "source": [
        "# Confirm the changes made\n",
        "train_clean.head()"
      ],
      "metadata": {
        "colab": {
          "base_uri": "https://localhost:8080/",
          "height": 206
        },
        "id": "gIwNPzeHEEsa",
        "outputId": "cd8d2161-c386-427d-aabf-1fee6ce67aee"
      },
      "execution_count": null,
      "outputs": [
        {
          "output_type": "execute_result",
          "data": {
            "text/html": [
              "\n",
              "  <div id=\"df-b0719938-a425-40c3-a68d-7d1c439eb186\">\n",
              "    <div class=\"colab-df-container\">\n",
              "      <div>\n",
              "<style scoped>\n",
              "    .dataframe tbody tr th:only-of-type {\n",
              "        vertical-align: middle;\n",
              "    }\n",
              "\n",
              "    .dataframe tbody tr th {\n",
              "        vertical-align: top;\n",
              "    }\n",
              "\n",
              "    .dataframe thead th {\n",
              "        text-align: right;\n",
              "    }\n",
              "</style>\n",
              "<table border=\"1\" class=\"dataframe\">\n",
              "  <thead>\n",
              "    <tr style=\"text-align: right;\">\n",
              "      <th></th>\n",
              "      <th>PassengerId</th>\n",
              "      <th>Survived</th>\n",
              "      <th>Pclass</th>\n",
              "      <th>Name</th>\n",
              "      <th>Sex</th>\n",
              "      <th>Age</th>\n",
              "      <th>SibSp</th>\n",
              "      <th>Parch</th>\n",
              "      <th>Ticket</th>\n",
              "      <th>Fare</th>\n",
              "      <th>Embarked</th>\n",
              "    </tr>\n",
              "  </thead>\n",
              "  <tbody>\n",
              "    <tr>\n",
              "      <th>0</th>\n",
              "      <td>1</td>\n",
              "      <td>0</td>\n",
              "      <td>3</td>\n",
              "      <td>Braund, Mr. Owen Harris</td>\n",
              "      <td>male</td>\n",
              "      <td>22.0</td>\n",
              "      <td>1</td>\n",
              "      <td>0</td>\n",
              "      <td>A/5 21171</td>\n",
              "      <td>7.2500</td>\n",
              "      <td>S</td>\n",
              "    </tr>\n",
              "    <tr>\n",
              "      <th>1</th>\n",
              "      <td>2</td>\n",
              "      <td>1</td>\n",
              "      <td>1</td>\n",
              "      <td>Cumings, Mrs. John Bradley (Florence Briggs Th...</td>\n",
              "      <td>female</td>\n",
              "      <td>38.0</td>\n",
              "      <td>1</td>\n",
              "      <td>0</td>\n",
              "      <td>PC 17599</td>\n",
              "      <td>71.2833</td>\n",
              "      <td>C</td>\n",
              "    </tr>\n",
              "    <tr>\n",
              "      <th>2</th>\n",
              "      <td>3</td>\n",
              "      <td>1</td>\n",
              "      <td>3</td>\n",
              "      <td>Heikkinen, Miss. Laina</td>\n",
              "      <td>female</td>\n",
              "      <td>26.0</td>\n",
              "      <td>0</td>\n",
              "      <td>0</td>\n",
              "      <td>STON/O2. 3101282</td>\n",
              "      <td>7.9250</td>\n",
              "      <td>S</td>\n",
              "    </tr>\n",
              "    <tr>\n",
              "      <th>3</th>\n",
              "      <td>4</td>\n",
              "      <td>1</td>\n",
              "      <td>1</td>\n",
              "      <td>Futrelle, Mrs. Jacques Heath (Lily May Peel)</td>\n",
              "      <td>female</td>\n",
              "      <td>35.0</td>\n",
              "      <td>1</td>\n",
              "      <td>0</td>\n",
              "      <td>113803</td>\n",
              "      <td>53.1000</td>\n",
              "      <td>S</td>\n",
              "    </tr>\n",
              "    <tr>\n",
              "      <th>4</th>\n",
              "      <td>5</td>\n",
              "      <td>0</td>\n",
              "      <td>3</td>\n",
              "      <td>Allen, Mr. William Henry</td>\n",
              "      <td>male</td>\n",
              "      <td>35.0</td>\n",
              "      <td>0</td>\n",
              "      <td>0</td>\n",
              "      <td>373450</td>\n",
              "      <td>8.0500</td>\n",
              "      <td>S</td>\n",
              "    </tr>\n",
              "  </tbody>\n",
              "</table>\n",
              "</div>\n",
              "      <button class=\"colab-df-convert\" onclick=\"convertToInteractive('df-b0719938-a425-40c3-a68d-7d1c439eb186')\"\n",
              "              title=\"Convert this dataframe to an interactive table.\"\n",
              "              style=\"display:none;\">\n",
              "        \n",
              "  <svg xmlns=\"http://www.w3.org/2000/svg\" height=\"24px\"viewBox=\"0 0 24 24\"\n",
              "       width=\"24px\">\n",
              "    <path d=\"M0 0h24v24H0V0z\" fill=\"none\"/>\n",
              "    <path d=\"M18.56 5.44l.94 2.06.94-2.06 2.06-.94-2.06-.94-.94-2.06-.94 2.06-2.06.94zm-11 1L8.5 8.5l.94-2.06 2.06-.94-2.06-.94L8.5 2.5l-.94 2.06-2.06.94zm10 10l.94 2.06.94-2.06 2.06-.94-2.06-.94-.94-2.06-.94 2.06-2.06.94z\"/><path d=\"M17.41 7.96l-1.37-1.37c-.4-.4-.92-.59-1.43-.59-.52 0-1.04.2-1.43.59L10.3 9.45l-7.72 7.72c-.78.78-.78 2.05 0 2.83L4 21.41c.39.39.9.59 1.41.59.51 0 1.02-.2 1.41-.59l7.78-7.78 2.81-2.81c.8-.78.8-2.07 0-2.86zM5.41 20L4 18.59l7.72-7.72 1.47 1.35L5.41 20z\"/>\n",
              "  </svg>\n",
              "      </button>\n",
              "      \n",
              "  <style>\n",
              "    .colab-df-container {\n",
              "      display:flex;\n",
              "      flex-wrap:wrap;\n",
              "      gap: 12px;\n",
              "    }\n",
              "\n",
              "    .colab-df-convert {\n",
              "      background-color: #E8F0FE;\n",
              "      border: none;\n",
              "      border-radius: 50%;\n",
              "      cursor: pointer;\n",
              "      display: none;\n",
              "      fill: #1967D2;\n",
              "      height: 32px;\n",
              "      padding: 0 0 0 0;\n",
              "      width: 32px;\n",
              "    }\n",
              "\n",
              "    .colab-df-convert:hover {\n",
              "      background-color: #E2EBFA;\n",
              "      box-shadow: 0px 1px 2px rgba(60, 64, 67, 0.3), 0px 1px 3px 1px rgba(60, 64, 67, 0.15);\n",
              "      fill: #174EA6;\n",
              "    }\n",
              "\n",
              "    [theme=dark] .colab-df-convert {\n",
              "      background-color: #3B4455;\n",
              "      fill: #D2E3FC;\n",
              "    }\n",
              "\n",
              "    [theme=dark] .colab-df-convert:hover {\n",
              "      background-color: #434B5C;\n",
              "      box-shadow: 0px 1px 3px 1px rgba(0, 0, 0, 0.15);\n",
              "      filter: drop-shadow(0px 1px 2px rgba(0, 0, 0, 0.3));\n",
              "      fill: #FFFFFF;\n",
              "    }\n",
              "  </style>\n",
              "\n",
              "      <script>\n",
              "        const buttonEl =\n",
              "          document.querySelector('#df-b0719938-a425-40c3-a68d-7d1c439eb186 button.colab-df-convert');\n",
              "        buttonEl.style.display =\n",
              "          google.colab.kernel.accessAllowed ? 'block' : 'none';\n",
              "\n",
              "        async function convertToInteractive(key) {\n",
              "          const element = document.querySelector('#df-b0719938-a425-40c3-a68d-7d1c439eb186');\n",
              "          const dataTable =\n",
              "            await google.colab.kernel.invokeFunction('convertToInteractive',\n",
              "                                                     [key], {});\n",
              "          if (!dataTable) return;\n",
              "\n",
              "          const docLinkHtml = 'Like what you see? Visit the ' +\n",
              "            '<a target=\"_blank\" href=https://colab.research.google.com/notebooks/data_table.ipynb>data table notebook</a>'\n",
              "            + ' to learn more about interactive tables.';\n",
              "          element.innerHTML = '';\n",
              "          dataTable['output_type'] = 'display_data';\n",
              "          await google.colab.output.renderOutput(dataTable, element);\n",
              "          const docLink = document.createElement('div');\n",
              "          docLink.innerHTML = docLinkHtml;\n",
              "          element.appendChild(docLink);\n",
              "        }\n",
              "      </script>\n",
              "    </div>\n",
              "  </div>\n",
              "  "
            ],
            "text/plain": [
              "   PassengerId  Survived  Pclass  ...            Ticket     Fare  Embarked\n",
              "0            1         0       3  ...         A/5 21171   7.2500         S\n",
              "1            2         1       1  ...          PC 17599  71.2833         C\n",
              "2            3         1       3  ...  STON/O2. 3101282   7.9250         S\n",
              "3            4         1       1  ...            113803  53.1000         S\n",
              "4            5         0       3  ...            373450   8.0500         S\n",
              "\n",
              "[5 rows x 11 columns]"
            ]
          },
          "metadata": {},
          "execution_count": 514
        }
      ]
    },
    {
      "cell_type": "code",
      "source": [
        "# We will check for outliers in our numerical data in order to determine how we will fill \n",
        "# null values in the age column\n",
        "train_clean.boxplot(column = 'Age', figsize = (15,15))\n",
        "plt.show()"
      ],
      "metadata": {
        "colab": {
          "base_uri": "https://localhost:8080/",
          "height": 862
        },
        "id": "dr30NTM2EMfl",
        "outputId": "e2ac3e07-af6b-4eb5-f459-996cde3c533f"
      },
      "execution_count": null,
      "outputs": [
        {
          "output_type": "display_data",
          "data": {
            "image/png": "[encoded data removed]",
            "text/plain": [
              "<Figure size 1080x1080 with 1 Axes>"
            ]
          },
          "metadata": {
            "needs_background": "light"
          }
        }
      ]
    },
    {
      "cell_type": "markdown",
      "source": [
        "For symmetric data distribution, one can use the mean value for imputing missing values and for non symetric data distribution one can use median.This is because outliers data points will have a significant impact on the mean"
      ],
      "metadata": {
        "id": "-kdMKs83Fmfx"
      }
    },
    {
      "cell_type": "code",
      "source": [
        "# We will fill the missing values in the Age column with the median\n",
        "train_clean['Age'].fillna(train_clean['Age'].median(), inplace = True)"
      ],
      "metadata": {
        "id": "SOZBzNncFqa6"
      },
      "execution_count": null,
      "outputs": []
    },
    {
      "cell_type": "code",
      "source": [
        "# We will fill the missing values in sex variable with the mode \n",
        "train_clean['Embarked'].fillna(train_clean['Embarked'].mode()[0], inplace = True)"
      ],
      "metadata": {
        "id": "ShyOJ3RKGASm"
      },
      "execution_count": null,
      "outputs": []
    },
    {
      "cell_type": "code",
      "source": [
        "# Confirm the changes made \n",
        "train_clean.isnull().sum()"
      ],
      "metadata": {
        "colab": {
          "base_uri": "https://localhost:8080/"
        },
        "id": "EXExXA5MHaLg",
        "outputId": "40dded20-6b69-43c6-d56b-e730ff69173d"
      },
      "execution_count": null,
      "outputs": [
        {
          "output_type": "execute_result",
          "data": {
            "text/plain": [
              "PassengerId    0\n",
              "Survived       0\n",
              "Pclass         0\n",
              "Name           0\n",
              "Sex            0\n",
              "Age            0\n",
              "SibSp          0\n",
              "Parch          0\n",
              "Ticket         0\n",
              "Fare           0\n",
              "Embarked       0\n",
              "dtype: int64"
            ]
          },
          "metadata": {},
          "execution_count": 518
        }
      ]
    },
    {
      "cell_type": "markdown",
      "source": [
        "We successfully dealt with the missing values "
      ],
      "metadata": {
        "id": "Ugl4DQgvHkg3"
      }
    },
    {
      "cell_type": "code",
      "source": [
        "# Check the shape of our dataframe after all the changes made\n",
        "train_clean.shape"
      ],
      "metadata": {
        "colab": {
          "base_uri": "https://localhost:8080/"
        },
        "id": "tRy2ohWEHqc8",
        "outputId": "8017abd9-6bb9-431f-a389-0a7cd6807356"
      },
      "execution_count": null,
      "outputs": [
        {
          "output_type": "execute_result",
          "data": {
            "text/plain": [
              "(891, 11)"
            ]
          },
          "metadata": {},
          "execution_count": 519
        }
      ]
    },
    {
      "cell_type": "markdown",
      "source": [
        "We now have 891 records and 11 variables"
      ],
      "metadata": {
        "id": "lTRc3eSNH5N8"
      }
    },
    {
      "cell_type": "code",
      "source": [
        "# Check for unique values in our dataframe inorder to identify any annomalies\n",
        "columns = train_clean.columns\n",
        "for i in columns:\n",
        "  print('Unique values in', i , 'are :')\n",
        "  print(train_clean[i].unique())\n",
        "  print('                                                                           ')\n",
        "  print('***************************************************************************')"
      ],
      "metadata": {
        "colab": {
          "base_uri": "https://localhost:8080/"
        },
        "id": "PA85gLTBIHDv",
        "outputId": "1ec11bdd-9a2d-4956-b2c8-3d610b19d82d"
      },
      "execution_count": null,
      "outputs": [
        {
          "output_type": "stream",
          "name": "stdout",
          "text": [
            "Unique values in PassengerId are :\n",
            "[  1   2   3   4   5   6   7   8   9  10  11  12  13  14  15  16  17  18\n",
            "  19  20  21  22  23  24  25  26  27  28  29  30  31  32  33  34  35  36\n",
            "  37  38  39  40  41  42  43  44  45  46  47  48  49  50  51  52  53  54\n",
            "  55  56  57  58  59  60  61  62  63  64  65  66  67  68  69  70  71  72\n",
            "  73  74  75  76  77  78  79  80  81  82  83  84  85  86  87  88  89  90\n",
            "  91  92  93  94  95  96  97  98  99 100 101 102 103 104 105 106 107 108\n",
            " 109 110 111 112 113 114 115 116 117 118 119 120 121 122 123 124 125 126\n",
            " 127 128 129 130 131 132 133 134 135 136 137 138 139 140 141 142 143 144\n",
            " 145 146 147 148 149 150 151 152 153 154 155 156 157 158 159 160 161 162\n",
            " 163 164 165 166 167 168 169 170 171 172 173 174 175 176 177 178 179 180\n",
            " 181 182 183 184 185 186 187 188 189 190 191 192 193 194 195 196 197 198\n",
            " 199 200 201 202 203 204 205 206 207 208 209 210 211 212 213 214 215 216\n",
            " 217 218 219 220 221 222 223 224 225 226 227 228 229 230 231 232 233 234\n",
            " 235 236 237 238 239 240 241 242 243 244 245 246 247 248 249 250 251 252\n",
            " 253 254 255 256 257 258 259 260 261 262 263 264 265 266 267 268 269 270\n",
            " 271 272 273 274 275 276 277 278 279 280 281 282 283 284 285 286 287 288\n",
            " 289 290 291 292 293 294 295 296 297 298 299 300 301 302 303 304 305 306\n",
            " 307 308 309 310 311 312 313 314 315 316 317 318 319 320 321 322 323 324\n",
            " 325 326 327 328 329 330 331 332 333 334 335 336 337 338 339 340 341 342\n",
            " 343 344 345 346 347 348 349 350 351 352 353 354 355 356 357 358 359 360\n",
            " 361 362 363 364 365 366 367 368 369 370 371 372 373 374 375 376 377 378\n",
            " 379 380 381 382 383 384 385 386 387 388 389 390 391 392 393 394 395 396\n",
            " 397 398 399 400 401 402 403 404 405 406 407 408 409 410 411 412 413 414\n",
            " 415 416 417 418 419 420 421 422 423 424 425 426 427 428 429 430 431 432\n",
            " 433 434 435 436 437 438 439 440 441 442 443 444 445 446 447 448 449 450\n",
            " 451 452 453 454 455 456 457 458 459 460 461 462 463 464 465 466 467 468\n",
            " 469 470 471 472 473 474 475 476 477 478 479 480 481 482 483 484 485 486\n",
            " 487 488 489 490 491 492 493 494 495 496 497 498 499 500 501 502 503 504\n",
            " 505 506 507 508 509 510 511 512 513 514 515 516 517 518 519 520 521 522\n",
            " 523 524 525 526 527 528 529 530 531 532 533 534 535 536 537 538 539 540\n",
            " 541 542 543 544 545 546 547 548 549 550 551 552 553 554 555 556 557 558\n",
            " 559 560 561 562 563 564 565 566 567 568 569 570 571 572 573 574 575 576\n",
            " 577 578 579 580 581 582 583 584 585 586 587 588 589 590 591 592 593 594\n",
            " 595 596 597 598 599 600 601 602 603 604 605 606 607 608 609 610 611 612\n",
            " 613 614 615 616 617 618 619 620 621 622 623 624 625 626 627 628 629 630\n",
            " 631 632 633 634 635 636 637 638 639 640 641 642 643 644 645 646 647 648\n",
            " 649 650 651 652 653 654 655 656 657 658 659 660 661 662 663 664 665 666\n",
            " 667 668 669 670 671 672 673 674 675 676 677 678 679 680 681 682 683 684\n",
            " 685 686 687 688 689 690 691 692 693 694 695 696 697 698 699 700 701 702\n",
            " 703 704 705 706 707 708 709 710 711 712 713 714 715 716 717 718 719 720\n",
            " 721 722 723 724 725 726 727 728 729 730 731 732 733 734 735 736 737 738\n",
            " 739 740 741 742 743 744 745 746 747 748 749 750 751 752 753 754 755 756\n",
            " 757 758 759 760 761 762 763 764 765 766 767 768 769 770 771 772 773 774\n",
            " 775 776 777 778 779 780 781 782 783 784 785 786 787 788 789 790 791 792\n",
            " 793 794 795 796 797 798 799 800 801 802 803 804 805 806 807 808 809 810\n",
            " 811 812 813 814 815 816 817 818 819 820 821 822 823 824 825 826 827 828\n",
            " 829 830 831 832 833 834 835 836 837 838 839 840 841 842 843 844 845 846\n",
            " 847 848 849 850 851 852 853 854 855 856 857 858 859 860 861 862 863 864\n",
            " 865 866 867 868 869 870 871 872 873 874 875 876 877 878 879 880 881 882\n",
            " 883 884 885 886 887 888 889 890 891]\n",
            "                                                                           \n",
            "***************************************************************************\n",
            "Unique values in Survived are :\n",
            "[0 1]\n",
            "                                                                           \n",
            "***************************************************************************\n",
            "Unique values in Pclass are :\n",
            "[3 1 2]\n",
            "                                                                           \n",
            "***************************************************************************\n",
            "Unique values in Name are :\n",
            "['Braund, Mr. Owen Harris'\n",
            " 'Cumings, Mrs. John Bradley (Florence Briggs Thayer)'\n",
            " 'Heikkinen, Miss. Laina' 'Futrelle, Mrs. Jacques Heath (Lily May Peel)'\n",
            " 'Allen, Mr. William Henry' 'Moran, Mr. James' 'McCarthy, Mr. Timothy J'\n",
            " 'Palsson, Master. Gosta Leonard'\n",
            " 'Johnson, Mrs. Oscar W (Elisabeth Vilhelmina Berg)'\n",
            " 'Nasser, Mrs. Nicholas (Adele Achem)' 'Sandstrom, Miss. Marguerite Rut'\n",
            " 'Bonnell, Miss. Elizabeth' 'Saundercock, Mr. William Henry'\n",
            " 'Andersson, Mr. Anders Johan' 'Vestrom, Miss. Hulda Amanda Adolfina'\n",
            " 'Hewlett, Mrs. (Mary D Kingcome) ' 'Rice, Master. Eugene'\n",
            " 'Williams, Mr. Charles Eugene'\n",
            " 'Vander Planke, Mrs. Julius (Emelia Maria Vandemoortele)'\n",
            " 'Masselmani, Mrs. Fatima' 'Fynney, Mr. Joseph J' 'Beesley, Mr. Lawrence'\n",
            " 'McGowan, Miss. Anna \"Annie\"' 'Sloper, Mr. William Thompson'\n",
            " 'Palsson, Miss. Torborg Danira'\n",
            " 'Asplund, Mrs. Carl Oscar (Selma Augusta Emilia Johansson)'\n",
            " 'Emir, Mr. Farred Chehab' 'Fortune, Mr. Charles Alexander'\n",
            " 'O\\'Dwyer, Miss. Ellen \"Nellie\"' 'Todoroff, Mr. Lalio'\n",
            " 'Uruchurtu, Don. Manuel E'\n",
            " 'Spencer, Mrs. William Augustus (Marie Eugenie)'\n",
            " 'Glynn, Miss. Mary Agatha' 'Wheadon, Mr. Edward H'\n",
            " 'Meyer, Mr. Edgar Joseph' 'Holverson, Mr. Alexander Oskar'\n",
            " 'Mamee, Mr. Hanna' 'Cann, Mr. Ernest Charles'\n",
            " 'Vander Planke, Miss. Augusta Maria' 'Nicola-Yarred, Miss. Jamila'\n",
            " 'Ahlin, Mrs. Johan (Johanna Persdotter Larsson)'\n",
            " 'Turpin, Mrs. William John Robert (Dorothy Ann Wonnacott)'\n",
            " 'Kraeff, Mr. Theodor' 'Laroche, Miss. Simonne Marie Anne Andree'\n",
            " 'Devaney, Miss. Margaret Delia' 'Rogers, Mr. William John'\n",
            " 'Lennon, Mr. Denis' \"O'Driscoll, Miss. Bridget\" 'Samaan, Mr. Youssef'\n",
            " 'Arnold-Franchi, Mrs. Josef (Josefine Franchi)'\n",
            " 'Panula, Master. Juha Niilo' 'Nosworthy, Mr. Richard Cater'\n",
            " 'Harper, Mrs. Henry Sleeper (Myna Haxtun)'\n",
            " 'Faunthorpe, Mrs. Lizzie (Elizabeth Anne Wilkinson)'\n",
            " 'Ostby, Mr. Engelhart Cornelius' 'Woolner, Mr. Hugh' 'Rugg, Miss. Emily'\n",
            " 'Novel, Mr. Mansouer' 'West, Miss. Constance Mirium'\n",
            " 'Goodwin, Master. William Frederick' 'Sirayanian, Mr. Orsen'\n",
            " 'Icard, Miss. Amelie' 'Harris, Mr. Henry Birkhardt'\n",
            " 'Skoog, Master. Harald' 'Stewart, Mr. Albert A'\n",
            " 'Moubarek, Master. Gerios' 'Nye, Mrs. (Elizabeth Ramell)'\n",
            " 'Crease, Mr. Ernest James' 'Andersson, Miss. Erna Alexandra'\n",
            " 'Kink, Mr. Vincenz' 'Jenkin, Mr. Stephen Curnow'\n",
            " 'Goodwin, Miss. Lillian Amy' 'Hood, Mr. Ambrose Jr'\n",
            " 'Chronopoulos, Mr. Apostolos' 'Bing, Mr. Lee' 'Moen, Mr. Sigurd Hansen'\n",
            " 'Staneff, Mr. Ivan' 'Moutal, Mr. Rahamin Haim'\n",
            " 'Caldwell, Master. Alden Gates' 'Dowdell, Miss. Elizabeth'\n",
            " 'Waelens, Mr. Achille' 'Sheerlinck, Mr. Jan Baptist'\n",
            " 'McDermott, Miss. Brigdet Delia' 'Carrau, Mr. Francisco M'\n",
            " 'Ilett, Miss. Bertha'\n",
            " 'Backstrom, Mrs. Karl Alfred (Maria Mathilda Gustafsson)'\n",
            " 'Ford, Mr. William Neal' 'Slocovski, Mr. Selman Francis'\n",
            " 'Fortune, Miss. Mabel Helen' 'Celotti, Mr. Francesco'\n",
            " 'Christmann, Mr. Emil' 'Andreasson, Mr. Paul Edvin'\n",
            " 'Chaffee, Mr. Herbert Fuller' 'Dean, Mr. Bertram Frank'\n",
            " 'Coxon, Mr. Daniel' 'Shorney, Mr. Charles Joseph'\n",
            " 'Goldschmidt, Mr. George B' 'Greenfield, Mr. William Bertram'\n",
            " 'Doling, Mrs. John T (Ada Julia Bone)' 'Kantor, Mr. Sinai'\n",
            " 'Petranec, Miss. Matilda' 'Petroff, Mr. Pastcho (\"Pentcho\")'\n",
            " 'White, Mr. Richard Frasar' 'Johansson, Mr. Gustaf Joel'\n",
            " 'Gustafsson, Mr. Anders Vilhelm' 'Mionoff, Mr. Stoytcho'\n",
            " 'Salkjelsvik, Miss. Anna Kristine' 'Moss, Mr. Albert Johan'\n",
            " 'Rekic, Mr. Tido' 'Moran, Miss. Bertha' 'Porter, Mr. Walter Chamberlain'\n",
            " 'Zabour, Miss. Hileni' 'Barton, Mr. David John' 'Jussila, Miss. Katriina'\n",
            " 'Attalah, Miss. Malake' 'Pekoniemi, Mr. Edvard' 'Connors, Mr. Patrick'\n",
            " 'Turpin, Mr. William John Robert' 'Baxter, Mr. Quigg Edmond'\n",
            " 'Andersson, Miss. Ellis Anna Maria' 'Hickman, Mr. Stanley George'\n",
            " 'Moore, Mr. Leonard Charles' 'Nasser, Mr. Nicholas' 'Webber, Miss. Susan'\n",
            " 'White, Mr. Percival Wayland' 'Nicola-Yarred, Master. Elias'\n",
            " 'McMahon, Mr. Martin' 'Madsen, Mr. Fridtjof Arne' 'Peter, Miss. Anna'\n",
            " 'Ekstrom, Mr. Johan' 'Drazenoic, Mr. Jozef'\n",
            " 'Coelho, Mr. Domingos Fernandeo'\n",
            " 'Robins, Mrs. Alexander A (Grace Charity Laury)'\n",
            " 'Weisz, Mrs. Leopold (Mathilde Francoise Pede)'\n",
            " 'Sobey, Mr. Samuel James Hayden' 'Richard, Mr. Emile'\n",
            " 'Newsom, Miss. Helen Monypeny' 'Futrelle, Mr. Jacques Heath'\n",
            " 'Osen, Mr. Olaf Elon' 'Giglio, Mr. Victor'\n",
            " 'Boulos, Mrs. Joseph (Sultana)' 'Nysten, Miss. Anna Sofia'\n",
            " 'Hakkarainen, Mrs. Pekka Pietari (Elin Matilda Dolck)'\n",
            " 'Burke, Mr. Jeremiah' 'Andrew, Mr. Edgardo Samuel'\n",
            " 'Nicholls, Mr. Joseph Charles'\n",
            " 'Andersson, Mr. August Edvard (\"Wennerstrom\")'\n",
            " 'Ford, Miss. Robina Maggie \"Ruby\"'\n",
            " 'Navratil, Mr. Michel (\"Louis M Hoffman\")'\n",
            " 'Byles, Rev. Thomas Roussel Davids' 'Bateman, Rev. Robert James'\n",
            " 'Pears, Mrs. Thomas (Edith Wearne)' 'Meo, Mr. Alfonzo'\n",
            " 'van Billiard, Mr. Austin Blyler' 'Olsen, Mr. Ole Martin'\n",
            " 'Williams, Mr. Charles Duane' 'Gilnagh, Miss. Katherine \"Katie\"'\n",
            " 'Corn, Mr. Harry' 'Smiljanic, Mr. Mile' 'Sage, Master. Thomas Henry'\n",
            " 'Cribb, Mr. John Hatfield'\n",
            " 'Watt, Mrs. James (Elizabeth \"Bessie\" Inglis Milne)'\n",
            " 'Bengtsson, Mr. John Viktor' 'Calic, Mr. Jovo'\n",
            " 'Panula, Master. Eino Viljami'\n",
            " 'Goldsmith, Master. Frank John William \"Frankie\"'\n",
            " 'Chibnall, Mrs. (Edith Martha Bowerman)'\n",
            " 'Skoog, Mrs. William (Anna Bernhardina Karlsson)' 'Baumann, Mr. John D'\n",
            " 'Ling, Mr. Lee' 'Van der hoef, Mr. Wyckoff' 'Rice, Master. Arthur'\n",
            " 'Johnson, Miss. Eleanor Ileen' 'Sivola, Mr. Antti Wilhelm'\n",
            " 'Smith, Mr. James Clinch' 'Klasen, Mr. Klas Albin'\n",
            " 'Lefebre, Master. Henry Forbes' 'Isham, Miss. Ann Elizabeth'\n",
            " 'Hale, Mr. Reginald' 'Leonard, Mr. Lionel' 'Sage, Miss. Constance Gladys'\n",
            " 'Pernot, Mr. Rene' 'Asplund, Master. Clarence Gustaf Hugo'\n",
            " 'Becker, Master. Richard F' 'Kink-Heilmann, Miss. Luise Gretchen'\n",
            " 'Rood, Mr. Hugh Roscoe'\n",
            " 'O\\'Brien, Mrs. Thomas (Johanna \"Hannah\" Godfrey)'\n",
            " 'Romaine, Mr. Charles Hallace (\"Mr C Rolmane\")' 'Bourke, Mr. John'\n",
            " 'Turcin, Mr. Stjepan' 'Pinsky, Mrs. (Rosa)' 'Carbines, Mr. William'\n",
            " 'Andersen-Jensen, Miss. Carla Christine Nielsine'\n",
            " 'Navratil, Master. Michel M' 'Brown, Mrs. James Joseph (Margaret Tobin)'\n",
            " 'Lurette, Miss. Elise' 'Mernagh, Mr. Robert'\n",
            " 'Olsen, Mr. Karl Siegwart Andreas' 'Madigan, Miss. Margaret \"Maggie\"'\n",
            " 'Yrois, Miss. Henriette (\"Mrs Harbeck\")' 'Vande Walle, Mr. Nestor Cyriel'\n",
            " 'Sage, Mr. Frederick' 'Johanson, Mr. Jakob Alfred' 'Youseff, Mr. Gerious'\n",
            " 'Cohen, Mr. Gurshon \"Gus\"' 'Strom, Miss. Telma Matilda'\n",
            " 'Backstrom, Mr. Karl Alfred' 'Albimona, Mr. Nassef Cassem'\n",
            " 'Carr, Miss. Helen \"Ellen\"' 'Blank, Mr. Henry' 'Ali, Mr. Ahmed'\n",
            " 'Cameron, Miss. Clear Annie' 'Perkin, Mr. John Henry'\n",
            " 'Givard, Mr. Hans Kristensen' 'Kiernan, Mr. Philip'\n",
            " 'Newell, Miss. Madeleine' 'Honkanen, Miss. Eliina'\n",
            " 'Jacobsohn, Mr. Sidney Samuel' 'Bazzani, Miss. Albina'\n",
            " 'Harris, Mr. Walter' 'Sunderland, Mr. Victor Francis'\n",
            " 'Bracken, Mr. James H' 'Green, Mr. George Henry' 'Nenkoff, Mr. Christo'\n",
            " 'Hoyt, Mr. Frederick Maxfield' 'Berglund, Mr. Karl Ivar Sven'\n",
            " 'Mellors, Mr. William John' 'Lovell, Mr. John Hall (\"Henry\")'\n",
            " 'Fahlstrom, Mr. Arne Jonas' 'Lefebre, Miss. Mathilde'\n",
            " 'Harris, Mrs. Henry Birkhardt (Irene Wallach)' 'Larsson, Mr. Bengt Edvin'\n",
            " 'Sjostedt, Mr. Ernst Adolf' 'Asplund, Miss. Lillian Gertrud'\n",
            " 'Leyson, Mr. Robert William Norman' 'Harknett, Miss. Alice Phoebe'\n",
            " 'Hold, Mr. Stephen' 'Collyer, Miss. Marjorie \"Lottie\"'\n",
            " 'Pengelly, Mr. Frederick William' 'Hunt, Mr. George Henry'\n",
            " 'Zabour, Miss. Thamine' 'Murphy, Miss. Katherine \"Kate\"'\n",
            " 'Coleridge, Mr. Reginald Charles' 'Maenpaa, Mr. Matti Alexanteri'\n",
            " 'Attalah, Mr. Sleiman' 'Minahan, Dr. William Edward'\n",
            " 'Lindahl, Miss. Agda Thorilda Viktoria' 'Hamalainen, Mrs. William (Anna)'\n",
            " 'Beckwith, Mr. Richard Leonard' 'Carter, Rev. Ernest Courtenay'\n",
            " 'Reed, Mr. James George' 'Strom, Mrs. Wilhelm (Elna Matilda Persson)'\n",
            " 'Stead, Mr. William Thomas' 'Lobb, Mr. William Arthur'\n",
            " 'Rosblom, Mrs. Viktor (Helena Wilhelmina)'\n",
            " 'Touma, Mrs. Darwis (Hanne Youssef Razi)'\n",
            " 'Thorne, Mrs. Gertrude Maybelle' 'Cherry, Miss. Gladys'\n",
            " 'Ward, Miss. Anna' 'Parrish, Mrs. (Lutie Davis)' 'Smith, Mr. Thomas'\n",
            " 'Asplund, Master. Edvin Rojj Felix' 'Taussig, Mr. Emil'\n",
            " 'Harrison, Mr. William' 'Henry, Miss. Delia' 'Reeves, Mr. David'\n",
            " 'Panula, Mr. Ernesti Arvid' 'Persson, Mr. Ernst Ulrik'\n",
            " 'Graham, Mrs. William Thompson (Edith Junkins)' 'Bissette, Miss. Amelia'\n",
            " 'Cairns, Mr. Alexander' 'Tornquist, Mr. William Henry'\n",
            " 'Mellinger, Mrs. (Elizabeth Anne Maidment)' 'Natsch, Mr. Charles H'\n",
            " 'Healy, Miss. Hanora \"Nora\"' 'Andrews, Miss. Kornelia Theodosia'\n",
            " 'Lindblom, Miss. Augusta Charlotta' 'Parkes, Mr. Francis \"Frank\"'\n",
            " 'Rice, Master. Eric' 'Abbott, Mrs. Stanton (Rosa Hunt)'\n",
            " 'Duane, Mr. Frank' 'Olsson, Mr. Nils Johan Goransson'\n",
            " 'de Pelsmaeker, Mr. Alfons' 'Dorking, Mr. Edward Arthur'\n",
            " 'Smith, Mr. Richard William' 'Stankovic, Mr. Ivan'\n",
            " 'de Mulder, Mr. Theodore' 'Naidenoff, Mr. Penko' 'Hosono, Mr. Masabumi'\n",
            " 'Connolly, Miss. Kate' 'Barber, Miss. Ellen \"Nellie\"'\n",
            " 'Bishop, Mrs. Dickinson H (Helen Walton)' 'Levy, Mr. Rene Jacques'\n",
            " 'Haas, Miss. Aloisia' 'Mineff, Mr. Ivan' 'Lewy, Mr. Ervin G'\n",
            " 'Hanna, Mr. Mansour' 'Allison, Miss. Helen Loraine'\n",
            " 'Saalfeld, Mr. Adolphe' 'Baxter, Mrs. James (Helene DeLaudeniere Chaput)'\n",
            " 'Kelly, Miss. Anna Katherine \"Annie Kate\"' 'McCoy, Mr. Bernard'\n",
            " 'Johnson, Mr. William Cahoone Jr' 'Keane, Miss. Nora A'\n",
            " 'Williams, Mr. Howard Hugh \"Harry\"' 'Allison, Master. Hudson Trevor'\n",
            " 'Fleming, Miss. Margaret'\n",
            " 'Penasco y Castellana, Mrs. Victor de Satode (Maria Josefa Perez de Soto y Vallejo)'\n",
            " 'Abelson, Mr. Samuel' 'Francatelli, Miss. Laura Mabel'\n",
            " 'Hays, Miss. Margaret Bechstein' 'Ryerson, Miss. Emily Borie'\n",
            " 'Lahtinen, Mrs. William (Anna Sylfven)' 'Hendekovic, Mr. Ignjac'\n",
            " 'Hart, Mr. Benjamin' 'Nilsson, Miss. Helmina Josefina'\n",
            " 'Kantor, Mrs. Sinai (Miriam Sternin)' 'Moraweck, Dr. Ernest'\n",
            " 'Wick, Miss. Mary Natalie'\n",
            " 'Spedden, Mrs. Frederic Oakley (Margaretta Corning Stone)'\n",
            " 'Dennis, Mr. Samuel' 'Danoff, Mr. Yoto' 'Slayter, Miss. Hilda Mary'\n",
            " 'Caldwell, Mrs. Albert Francis (Sylvia Mae Harbaugh)'\n",
            " 'Sage, Mr. George John Jr' 'Young, Miss. Marie Grice'\n",
            " 'Nysveen, Mr. Johan Hansen' 'Ball, Mrs. (Ada E Hall)'\n",
            " 'Goldsmith, Mrs. Frank John (Emily Alice Brown)'\n",
            " 'Hippach, Miss. Jean Gertrude' 'McCoy, Miss. Agnes' 'Partner, Mr. Austen'\n",
            " 'Graham, Mr. George Edward' 'Vander Planke, Mr. Leo Edmondus'\n",
            " 'Frauenthal, Mrs. Henry William (Clara Heinsheimer)' 'Denkoff, Mr. Mitto'\n",
            " 'Pears, Mr. Thomas Clinton' 'Burns, Miss. Elizabeth Margaret'\n",
            " 'Dahl, Mr. Karl Edwart' 'Blackwell, Mr. Stephen Weart'\n",
            " 'Navratil, Master. Edmond Roger' 'Fortune, Miss. Alice Elizabeth'\n",
            " 'Collander, Mr. Erik Gustaf' 'Sedgwick, Mr. Charles Frederick Waddington'\n",
            " 'Fox, Mr. Stanley Hubert' 'Brown, Miss. Amelia \"Mildred\"'\n",
            " 'Smith, Miss. Marion Elsie' 'Davison, Mrs. Thomas Henry (Mary E Finck)'\n",
            " 'Coutts, Master. William Loch \"William\"' 'Dimic, Mr. Jovan'\n",
            " 'Odahl, Mr. Nils Martin' 'Williams-Lambert, Mr. Fletcher Fellows'\n",
            " 'Elias, Mr. Tannous' 'Arnold-Franchi, Mr. Josef' 'Yousif, Mr. Wazli'\n",
            " 'Vanden Steen, Mr. Leo Peter' 'Bowerman, Miss. Elsie Edith'\n",
            " 'Funk, Miss. Annie Clemmer' 'McGovern, Miss. Mary'\n",
            " 'Mockler, Miss. Helen Mary \"Ellie\"' 'Skoog, Mr. Wilhelm'\n",
            " 'del Carlo, Mr. Sebastiano' 'Barbara, Mrs. (Catherine David)'\n",
            " 'Asim, Mr. Adola' \"O'Brien, Mr. Thomas\" 'Adahl, Mr. Mauritz Nils Martin'\n",
            " 'Warren, Mrs. Frank Manley (Anna Sophia Atkinson)'\n",
            " 'Moussa, Mrs. (Mantoura Boulos)' 'Jermyn, Miss. Annie'\n",
            " 'Aubart, Mme. Leontine Pauline' 'Harder, Mr. George Achilles'\n",
            " 'Wiklund, Mr. Jakob Alfred' 'Beavan, Mr. William Thomas'\n",
            " 'Ringhini, Mr. Sante' 'Palsson, Miss. Stina Viola'\n",
            " 'Meyer, Mrs. Edgar Joseph (Leila Saks)' 'Landergren, Miss. Aurora Adelia'\n",
            " 'Widener, Mr. Harry Elkins' 'Betros, Mr. Tannous'\n",
            " 'Gustafsson, Mr. Karl Gideon' 'Bidois, Miss. Rosalie'\n",
            " 'Nakid, Miss. Maria (\"Mary\")' 'Tikkanen, Mr. Juho'\n",
            " 'Holverson, Mrs. Alexander Oskar (Mary Aline Towner)'\n",
            " 'Plotcharsky, Mr. Vasil' 'Davies, Mr. Charles Henry'\n",
            " 'Goodwin, Master. Sidney Leonard' 'Buss, Miss. Kate'\n",
            " 'Sadlier, Mr. Matthew' 'Lehmann, Miss. Bertha'\n",
            " 'Carter, Mr. William Ernest' 'Jansson, Mr. Carl Olof'\n",
            " 'Gustafsson, Mr. Johan Birger' 'Newell, Miss. Marjorie'\n",
            " 'Sandstrom, Mrs. Hjalmar (Agnes Charlotta Bengtsson)'\n",
            " 'Johansson, Mr. Erik' 'Olsson, Miss. Elina' 'McKane, Mr. Peter David'\n",
            " 'Pain, Dr. Alfred' 'Trout, Mrs. William H (Jessie L)'\n",
            " 'Niskanen, Mr. Juha' 'Adams, Mr. John' 'Jussila, Miss. Mari Aina'\n",
            " 'Hakkarainen, Mr. Pekka Pietari' 'Oreskovic, Miss. Marija'\n",
            " 'Gale, Mr. Shadrach' 'Widegren, Mr. Carl/Charles Peter'\n",
            " 'Richards, Master. William Rowe' 'Birkeland, Mr. Hans Martin Monsen'\n",
            " 'Lefebre, Miss. Ida' 'Sdycoff, Mr. Todor' 'Hart, Mr. Henry'\n",
            " 'Minahan, Miss. Daisy E' 'Cunningham, Mr. Alfred Fleming'\n",
            " 'Sundman, Mr. Johan Julian' 'Meek, Mrs. Thomas (Annie Louise Rowley)'\n",
            " 'Drew, Mrs. James Vivian (Lulu Thorne Christian)'\n",
            " 'Silven, Miss. Lyyli Karoliina' 'Matthews, Mr. William John'\n",
            " 'Van Impe, Miss. Catharina' 'Gheorgheff, Mr. Stanio'\n",
            " 'Charters, Mr. David' 'Zimmerman, Mr. Leo'\n",
            " 'Danbom, Mrs. Ernst Gilbert (Anna Sigrid Maria Brogren)'\n",
            " 'Rosblom, Mr. Viktor Richard' 'Wiseman, Mr. Phillippe'\n",
            " 'Clarke, Mrs. Charles V (Ada Maria Winfield)'\n",
            " 'Phillips, Miss. Kate Florence (\"Mrs Kate Louise Phillips Marshall\")'\n",
            " 'Flynn, Mr. James' 'Pickard, Mr. Berk (Berk Trembisky)'\n",
            " 'Bjornstrom-Steffansson, Mr. Mauritz Hakan'\n",
            " 'Thorneycroft, Mrs. Percival (Florence Kate White)'\n",
            " 'Louch, Mrs. Charles Alexander (Alice Adelaide Slow)'\n",
            " 'Kallio, Mr. Nikolai Erland' 'Silvey, Mr. William Baird'\n",
            " 'Carter, Miss. Lucile Polk' 'Ford, Miss. Doolina Margaret \"Daisy\"'\n",
            " 'Richards, Mrs. Sidney (Emily Hocking)' 'Fortune, Mr. Mark'\n",
            " 'Kvillner, Mr. Johan Henrik Johannesson'\n",
            " 'Hart, Mrs. Benjamin (Esther Ada Bloomfield)' 'Hampe, Mr. Leon'\n",
            " 'Petterson, Mr. Johan Emil' 'Reynaldo, Ms. Encarnacion'\n",
            " 'Johannesen-Bratthammer, Mr. Bernt' 'Dodge, Master. Washington'\n",
            " 'Mellinger, Miss. Madeleine Violet' 'Seward, Mr. Frederic Kimber'\n",
            " 'Baclini, Miss. Marie Catherine' 'Peuchen, Major. Arthur Godfrey'\n",
            " 'West, Mr. Edwy Arthur' 'Hagland, Mr. Ingvald Olai Olsen'\n",
            " 'Foreman, Mr. Benjamin Laventall' 'Goldenberg, Mr. Samuel L'\n",
            " 'Peduzzi, Mr. Joseph' 'Jalsevac, Mr. Ivan' 'Millet, Mr. Francis Davis'\n",
            " 'Kenyon, Mrs. Frederick R (Marion)' 'Toomey, Miss. Ellen'\n",
            " \"O'Connor, Mr. Maurice\" 'Anderson, Mr. Harry' 'Morley, Mr. William'\n",
            " 'Gee, Mr. Arthur H' 'Milling, Mr. Jacob Christian' 'Maisner, Mr. Simon'\n",
            " 'Goncalves, Mr. Manuel Estanslas' 'Campbell, Mr. William'\n",
            " 'Smart, Mr. John Montgomery' 'Scanlan, Mr. James'\n",
            " 'Baclini, Miss. Helene Barbara' 'Keefe, Mr. Arthur' 'Cacic, Mr. Luka'\n",
            " 'West, Mrs. Edwy Arthur (Ada Mary Worth)'\n",
            " 'Jerwan, Mrs. Amin S (Marie Marthe Thuillard)'\n",
            " 'Strandberg, Miss. Ida Sofia' 'Clifford, Mr. George Quincy'\n",
            " 'Renouf, Mr. Peter Henry' 'Braund, Mr. Lewis Richard'\n",
            " 'Karlsson, Mr. Nils August' 'Hirvonen, Miss. Hildur E'\n",
            " 'Goodwin, Master. Harold Victor' 'Frost, Mr. Anthony Wood \"Archie\"'\n",
            " 'Rouse, Mr. Richard Henry' 'Turkula, Mrs. (Hedwig)'\n",
            " 'Bishop, Mr. Dickinson H' 'Lefebre, Miss. Jeannie'\n",
            " 'Hoyt, Mrs. Frederick Maxfield (Jane Anne Forby)'\n",
            " 'Kent, Mr. Edward Austin' 'Somerton, Mr. Francis William'\n",
            " 'Coutts, Master. Eden Leslie \"Neville\"'\n",
            " 'Hagland, Mr. Konrad Mathias Reiersen' 'Windelov, Mr. Einar'\n",
            " 'Molson, Mr. Harry Markland' 'Artagaveytia, Mr. Ramon'\n",
            " 'Stanley, Mr. Edward Roland' 'Yousseff, Mr. Gerious'\n",
            " 'Eustis, Miss. Elizabeth Mussey' 'Shellard, Mr. Frederick William'\n",
            " 'Allison, Mrs. Hudson J C (Bessie Waldo Daniels)' 'Svensson, Mr. Olof'\n",
            " 'Calic, Mr. Petar' 'Canavan, Miss. Mary' \"O'Sullivan, Miss. Bridget Mary\"\n",
            " 'Laitinen, Miss. Kristina Sofia' 'Maioni, Miss. Roberta'\n",
            " 'Penasco y Castellana, Mr. Victor de Satode'\n",
            " 'Quick, Mrs. Frederick Charles (Jane Richards)'\n",
            " 'Bradley, Mr. George (\"George Arthur Brayton\")'\n",
            " 'Olsen, Mr. Henry Margido' 'Lang, Mr. Fang' 'Daly, Mr. Eugene Patrick'\n",
            " 'Webber, Mr. James' 'McGough, Mr. James Robert'\n",
            " 'Rothschild, Mrs. Martin (Elizabeth L. Barrett)' 'Coleff, Mr. Satio'\n",
            " 'Walker, Mr. William Anderson' 'Lemore, Mrs. (Amelia Milley)'\n",
            " 'Ryan, Mr. Patrick'\n",
            " 'Angle, Mrs. William A (Florence \"Mary\" Agnes Hughes)'\n",
            " 'Pavlovic, Mr. Stefo' 'Perreault, Miss. Anne' 'Vovk, Mr. Janko'\n",
            " 'Lahoud, Mr. Sarkis' 'Hippach, Mrs. Louis Albert (Ida Sophia Fischer)'\n",
            " 'Kassem, Mr. Fared' 'Farrell, Mr. James' 'Ridsdale, Miss. Lucy'\n",
            " 'Farthing, Mr. John' 'Salonen, Mr. Johan Werner'\n",
            " 'Hocking, Mr. Richard George' 'Quick, Miss. Phyllis May'\n",
            " 'Toufik, Mr. Nakli' 'Elias, Mr. Joseph Jr'\n",
            " 'Peter, Mrs. Catherine (Catherine Rizk)' 'Cacic, Miss. Marija'\n",
            " 'Hart, Miss. Eva Miriam' 'Butt, Major. Archibald Willingham'\n",
            " 'LeRoy, Miss. Bertha' 'Risien, Mr. Samuel Beard'\n",
            " 'Frolicher, Miss. Hedwig Margaritha' 'Crosby, Miss. Harriet R'\n",
            " 'Andersson, Miss. Ingeborg Constanzia'\n",
            " 'Andersson, Miss. Sigrid Elisabeth' 'Beane, Mr. Edward'\n",
            " 'Douglas, Mr. Walter Donald' 'Nicholson, Mr. Arthur Ernest'\n",
            " 'Beane, Mrs. Edward (Ethel Clarke)' 'Padro y Manent, Mr. Julian'\n",
            " 'Goldsmith, Mr. Frank John' 'Davies, Master. John Morgan Jr'\n",
            " 'Thayer, Mr. John Borland Jr' 'Sharp, Mr. Percival James R'\n",
            " \"O'Brien, Mr. Timothy\" 'Leeni, Mr. Fahim (\"Philip Zenni\")'\n",
            " 'Ohman, Miss. Velin' 'Wright, Mr. George'\n",
            " 'Duff Gordon, Lady. (Lucille Christiana Sutherland) (\"Mrs Morgan\")'\n",
            " 'Robbins, Mr. Victor' 'Taussig, Mrs. Emil (Tillie Mandelbaum)'\n",
            " 'de Messemaeker, Mrs. Guillaume Joseph (Emma)' 'Morrow, Mr. Thomas Rowan'\n",
            " 'Sivic, Mr. Husein' 'Norman, Mr. Robert Douglas' 'Simmons, Mr. John'\n",
            " 'Meanwell, Miss. (Marion Ogden)' 'Davies, Mr. Alfred J'\n",
            " 'Stoytcheff, Mr. Ilia' 'Palsson, Mrs. Nils (Alma Cornelia Berglund)'\n",
            " 'Doharr, Mr. Tannous' 'Jonsson, Mr. Carl' 'Harris, Mr. George'\n",
            " 'Appleton, Mrs. Edward Dale (Charlotte Lamson)'\n",
            " 'Flynn, Mr. John Irwin (\"Irving\")' 'Kelly, Miss. Mary'\n",
            " 'Rush, Mr. Alfred George John' 'Patchett, Mr. George'\n",
            " 'Garside, Miss. Ethel' 'Silvey, Mrs. William Baird (Alice Munger)'\n",
            " 'Caram, Mrs. Joseph (Maria Elias)' 'Jussila, Mr. Eiriik'\n",
            " 'Christy, Miss. Julie Rachel'\n",
            " 'Thayer, Mrs. John Borland (Marian Longstreth Morris)'\n",
            " 'Downton, Mr. William James' 'Ross, Mr. John Hugo' 'Paulner, Mr. Uscher'\n",
            " 'Taussig, Miss. Ruth' 'Jarvis, Mr. John Denzil'\n",
            " 'Frolicher-Stehli, Mr. Maxmillian' 'Gilinski, Mr. Eliezer'\n",
            " 'Murdlin, Mr. Joseph' 'Rintamaki, Mr. Matti'\n",
            " 'Stephenson, Mrs. Walter Bertram (Martha Eustis)'\n",
            " 'Elsbury, Mr. William James' 'Bourke, Miss. Mary'\n",
            " 'Chapman, Mr. John Henry' 'Van Impe, Mr. Jean Baptiste'\n",
            " 'Leitch, Miss. Jessie Wills' 'Johnson, Mr. Alfred' 'Boulos, Mr. Hanna'\n",
            " 'Duff Gordon, Sir. Cosmo Edmund (\"Mr Morgan\")'\n",
            " 'Jacobsohn, Mrs. Sidney Samuel (Amy Frances Christy)'\n",
            " 'Slabenoff, Mr. Petco' 'Harrington, Mr. Charles H'\n",
            " 'Torber, Mr. Ernst William' 'Homer, Mr. Harry (\"Mr E Haven\")'\n",
            " 'Lindell, Mr. Edvard Bengtsson' 'Karaic, Mr. Milan'\n",
            " 'Daniel, Mr. Robert Williams'\n",
            " 'Laroche, Mrs. Joseph (Juliette Marie Louise Lafargue)'\n",
            " 'Shutes, Miss. Elizabeth W'\n",
            " 'Andersson, Mrs. Anders Johan (Alfrida Konstantia Brogren)'\n",
            " 'Jardin, Mr. Jose Neto' 'Murphy, Miss. Margaret Jane' 'Horgan, Mr. John'\n",
            " 'Brocklebank, Mr. William Alfred' 'Herman, Miss. Alice'\n",
            " 'Danbom, Mr. Ernst Gilbert'\n",
            " 'Lobb, Mrs. William Arthur (Cordelia K Stanlick)'\n",
            " 'Becker, Miss. Marion Louise' 'Gavey, Mr. Lawrence' 'Yasbeck, Mr. Antoni'\n",
            " 'Kimball, Mr. Edwin Nelson Jr' 'Nakid, Mr. Sahid'\n",
            " 'Hansen, Mr. Henry Damsgaard' 'Bowen, Mr. David John \"Dai\"'\n",
            " 'Sutton, Mr. Frederick' 'Kirkland, Rev. Charles Leonard'\n",
            " 'Longley, Miss. Gretchen Fiske' 'Bostandyeff, Mr. Guentcho'\n",
            " \"O'Connell, Mr. Patrick D\" 'Barkworth, Mr. Algernon Henry Wilson'\n",
            " 'Lundahl, Mr. Johan Svensson' 'Stahelin-Maeglin, Dr. Max'\n",
            " 'Parr, Mr. William Henry Marsh' 'Skoog, Miss. Mabel' 'Davis, Miss. Mary'\n",
            " 'Leinonen, Mr. Antti Gustaf' 'Collyer, Mr. Harvey'\n",
            " 'Panula, Mrs. Juha (Maria Emilia Ojala)' 'Thorneycroft, Mr. Percival'\n",
            " 'Jensen, Mr. Hans Peder' 'Sagesser, Mlle. Emma'\n",
            " 'Skoog, Miss. Margit Elizabeth' 'Foo, Mr. Choong'\n",
            " 'Baclini, Miss. Eugenie' 'Harper, Mr. Henry Sleeper' 'Cor, Mr. Liudevit'\n",
            " 'Simonius-Blumer, Col. Oberst Alfons' 'Willey, Mr. Edward'\n",
            " 'Stanley, Miss. Amy Zillah Elsie' 'Mitkoff, Mr. Mito'\n",
            " 'Doling, Miss. Elsie' 'Kalvik, Mr. Johannes Halvorsen'\n",
            " 'O\\'Leary, Miss. Hanora \"Norah\"' 'Hegarty, Miss. Hanora \"Nora\"'\n",
            " 'Hickman, Mr. Leonard Mark' 'Radeff, Mr. Alexander'\n",
            " 'Bourke, Mrs. John (Catherine)' 'Eitemiller, Mr. George Floyd'\n",
            " 'Newell, Mr. Arthur Webster' 'Frauenthal, Dr. Henry William'\n",
            " 'Badt, Mr. Mohamed' 'Colley, Mr. Edward Pomeroy' 'Coleff, Mr. Peju'\n",
            " 'Lindqvist, Mr. Eino William' 'Hickman, Mr. Lewis'\n",
            " 'Butler, Mr. Reginald Fenton' 'Rommetvedt, Mr. Knud Paust'\n",
            " 'Cook, Mr. Jacob' 'Taylor, Mrs. Elmer Zebley (Juliet Cummins Wright)'\n",
            " 'Brown, Mrs. Thomas William Solomon (Elizabeth Catherine Ford)'\n",
            " 'Davidson, Mr. Thornton' 'Mitchell, Mr. Henry Michael'\n",
            " 'Wilhelms, Mr. Charles' 'Watson, Mr. Ennis Hastings'\n",
            " 'Edvardsson, Mr. Gustaf Hjalmar' 'Sawyer, Mr. Frederick Charles'\n",
            " 'Turja, Miss. Anna Sofia' 'Goodwin, Mrs. Frederick (Augusta Tyler)'\n",
            " 'Cardeza, Mr. Thomas Drake Martinez' 'Peters, Miss. Katie'\n",
            " 'Hassab, Mr. Hammad' 'Olsvigen, Mr. Thor Anderson'\n",
            " 'Goodwin, Mr. Charles Edward' 'Brown, Mr. Thomas William Solomon'\n",
            " 'Laroche, Mr. Joseph Philippe Lemercier' 'Panula, Mr. Jaako Arnold'\n",
            " 'Dakic, Mr. Branko' 'Fischer, Mr. Eberhard Thelander'\n",
            " 'Madill, Miss. Georgette Alexandra' 'Dick, Mr. Albert Adrian'\n",
            " 'Karun, Miss. Manca' 'Lam, Mr. Ali' 'Saad, Mr. Khalil' 'Weir, Col. John'\n",
            " 'Chapman, Mr. Charles Henry' 'Kelly, Mr. James'\n",
            " 'Mullens, Miss. Katherine \"Katie\"' 'Thayer, Mr. John Borland'\n",
            " 'Humblen, Mr. Adolf Mathias Nicolai Olsen'\n",
            " 'Astor, Mrs. John Jacob (Madeleine Talmadge Force)'\n",
            " 'Silverthorne, Mr. Spencer Victor' 'Barbara, Miss. Saiide'\n",
            " 'Gallagher, Mr. Martin' 'Hansen, Mr. Henrik Juul'\n",
            " 'Morley, Mr. Henry Samuel (\"Mr Henry Marshall\")'\n",
            " 'Kelly, Mrs. Florence \"Fannie\"' 'Calderhead, Mr. Edward Pennington'\n",
            " 'Cleaver, Miss. Alice'\n",
            " 'Moubarek, Master. Halim Gonios (\"William George\")'\n",
            " 'Mayne, Mlle. Berthe Antonine (\"Mrs de Villiers\")' 'Klaber, Mr. Herman'\n",
            " 'Taylor, Mr. Elmer Zebley' 'Larsson, Mr. August Viktor'\n",
            " 'Greenberg, Mr. Samuel' 'Soholt, Mr. Peter Andreas Lauritz Andersen'\n",
            " 'Endres, Miss. Caroline Louise' 'Troutt, Miss. Edwina Celia \"Winnie\"'\n",
            " 'McEvoy, Mr. Michael' 'Johnson, Mr. Malkolm Joackim'\n",
            " 'Harper, Miss. Annie Jessie \"Nina\"' 'Jensen, Mr. Svend Lauritz'\n",
            " 'Gillespie, Mr. William Henry' 'Hodges, Mr. Henry Price'\n",
            " 'Chambers, Mr. Norman Campbell' 'Oreskovic, Mr. Luka'\n",
            " 'Renouf, Mrs. Peter Henry (Lillian Jefferys)' 'Mannion, Miss. Margareth'\n",
            " 'Bryhl, Mr. Kurt Arnold Gottfrid' 'Ilmakangas, Miss. Pieta Sofia'\n",
            " 'Allen, Miss. Elisabeth Walton' 'Hassan, Mr. Houssein G N'\n",
            " 'Knight, Mr. Robert J' 'Berriman, Mr. William John'\n",
            " 'Troupiansky, Mr. Moses Aaron' 'Williams, Mr. Leslie'\n",
            " 'Ford, Mrs. Edward (Margaret Ann Watson)' 'Lesurer, Mr. Gustave J'\n",
            " 'Ivanoff, Mr. Kanio' 'Nankoff, Mr. Minko' 'Hawksford, Mr. Walter James'\n",
            " 'Cavendish, Mr. Tyrell William' 'Ryerson, Miss. Susan Parker \"Suzette\"'\n",
            " 'McNamee, Mr. Neal' 'Stranden, Mr. Juho' 'Crosby, Capt. Edward Gifford'\n",
            " 'Abbott, Mr. Rossmore Edward' 'Sinkkonen, Miss. Anna'\n",
            " 'Marvin, Mr. Daniel Warner' 'Connaghton, Mr. Michael' 'Wells, Miss. Joan'\n",
            " 'Moor, Master. Meier' 'Vande Velde, Mr. Johannes Joseph'\n",
            " 'Jonkoff, Mr. Lalio' 'Herman, Mrs. Samuel (Jane Laver)'\n",
            " 'Hamalainen, Master. Viljo' 'Carlsson, Mr. August Sigfrid'\n",
            " 'Bailey, Mr. Percy Andrew' 'Theobald, Mr. Thomas Leonard'\n",
            " 'Rothes, the Countess. of (Lucy Noel Martha Dyer-Edwards)'\n",
            " 'Garfirth, Mr. John' 'Nirva, Mr. Iisakki Antino Aijo'\n",
            " 'Barah, Mr. Hanna Assi' 'Carter, Mrs. William Ernest (Lucile Polk)'\n",
            " 'Eklund, Mr. Hans Linus' 'Hogeboom, Mrs. John C (Anna Andrews)'\n",
            " 'Brewe, Dr. Arthur Jackson' 'Mangan, Miss. Mary' 'Moran, Mr. Daniel J'\n",
            " 'Gronnestad, Mr. Daniel Danielsen' 'Lievens, Mr. Rene Aime'\n",
            " 'Jensen, Mr. Niels Peder' 'Mack, Mrs. (Mary)' 'Elias, Mr. Dibo'\n",
            " 'Hocking, Mrs. Elizabeth (Eliza Needs)'\n",
            " 'Myhrman, Mr. Pehr Fabian Oliver Malkolm' 'Tobin, Mr. Roger'\n",
            " 'Emanuel, Miss. Virginia Ethel' 'Kilgannon, Mr. Thomas J'\n",
            " 'Robert, Mrs. Edward Scott (Elisabeth Walton McMillan)'\n",
            " 'Ayoub, Miss. Banoura' 'Dick, Mrs. Albert Adrian (Vera Gillespie)'\n",
            " 'Long, Mr. Milton Clyde' 'Johnston, Mr. Andrew G' 'Ali, Mr. William'\n",
            " 'Harmer, Mr. Abraham (David Lishin)' 'Sjoblom, Miss. Anna Sofia'\n",
            " 'Rice, Master. George Hugh' 'Dean, Master. Bertram Vere'\n",
            " 'Guggenheim, Mr. Benjamin' 'Keane, Mr. Andrew \"Andy\"'\n",
            " 'Gaskell, Mr. Alfred' 'Sage, Miss. Stella Anna'\n",
            " 'Hoyt, Mr. William Fisher' 'Dantcheff, Mr. Ristiu' 'Otter, Mr. Richard'\n",
            " 'Leader, Dr. Alice (Farnham)' 'Osman, Mrs. Mara'\n",
            " 'Ibrahim Shawah, Mr. Yousseff'\n",
            " 'Van Impe, Mrs. Jean Baptiste (Rosalie Paula Govaert)'\n",
            " 'Ponesell, Mr. Martin' 'Collyer, Mrs. Harvey (Charlotte Annie Tate)'\n",
            " 'Carter, Master. William Thornton II' 'Thomas, Master. Assad Alexander'\n",
            " 'Hedman, Mr. Oskar Arvid' 'Johansson, Mr. Karl Johan'\n",
            " 'Andrews, Mr. Thomas Jr' 'Pettersson, Miss. Ellen Natalia'\n",
            " 'Meyer, Mr. August' 'Chambers, Mrs. Norman Campbell (Bertha Griggs)'\n",
            " 'Alexander, Mr. William' 'Lester, Mr. James' 'Slemen, Mr. Richard James'\n",
            " 'Andersson, Miss. Ebba Iris Alfrida' 'Tomlin, Mr. Ernest Portage'\n",
            " 'Fry, Mr. Richard' 'Heininen, Miss. Wendla Maria' 'Mallet, Mr. Albert'\n",
            " 'Holm, Mr. John Fredrik Alexander' 'Skoog, Master. Karl Thorsten'\n",
            " 'Hays, Mrs. Charles Melville (Clara Jennings Gregg)' 'Lulic, Mr. Nikola'\n",
            " 'Reuchlin, Jonkheer. John George' 'Moor, Mrs. (Beila)'\n",
            " 'Panula, Master. Urho Abraham' 'Flynn, Mr. John' 'Lam, Mr. Len'\n",
            " 'Mallet, Master. Andre' 'McCormack, Mr. Thomas Joseph'\n",
            " 'Stone, Mrs. George Nelson (Martha Evelyn)'\n",
            " 'Yasbeck, Mrs. Antoni (Selini Alexander)'\n",
            " 'Richards, Master. George Sibley' 'Saad, Mr. Amin'\n",
            " 'Augustsson, Mr. Albert' 'Allum, Mr. Owen George'\n",
            " 'Compton, Miss. Sara Rebecca' 'Pasic, Mr. Jakob' 'Sirota, Mr. Maurice'\n",
            " 'Chip, Mr. Chang' 'Marechal, Mr. Pierre' 'Alhomaki, Mr. Ilmari Rudolf'\n",
            " 'Mudd, Mr. Thomas Charles' 'Serepeca, Miss. Augusta'\n",
            " 'Lemberopolous, Mr. Peter L' 'Culumovic, Mr. Jeso' 'Abbing, Mr. Anthony'\n",
            " 'Sage, Mr. Douglas Bullen' 'Markoff, Mr. Marin' 'Harper, Rev. John'\n",
            " 'Goldenberg, Mrs. Samuel L (Edwiga Grabowska)'\n",
            " 'Andersson, Master. Sigvard Harald Elias' 'Svensson, Mr. Johan'\n",
            " 'Boulos, Miss. Nourelain' 'Lines, Miss. Mary Conover'\n",
            " 'Carter, Mrs. Ernest Courtenay (Lilian Hughes)'\n",
            " 'Aks, Mrs. Sam (Leah Rosen)' 'Wick, Mrs. George Dennick (Mary Hitchcock)'\n",
            " 'Daly, Mr. Peter Denis ' 'Baclini, Mrs. Solomon (Latifa Qurban)'\n",
            " 'Razi, Mr. Raihed' 'Hansen, Mr. Claus Peter'\n",
            " 'Giles, Mr. Frederick Edward'\n",
            " 'Swift, Mrs. Frederick Joel (Margaret Welles Barron)'\n",
            " 'Sage, Miss. Dorothy Edith \"Dolly\"' 'Gill, Mr. John William'\n",
            " 'Bystrom, Mrs. (Karolina)' 'Duran y More, Miss. Asuncion'\n",
            " 'Roebling, Mr. Washington Augustus II' 'van Melkebeke, Mr. Philemon'\n",
            " 'Johnson, Master. Harold Theodor' 'Balkic, Mr. Cerin'\n",
            " 'Beckwith, Mrs. Richard Leonard (Sallie Monypeny)'\n",
            " 'Carlsson, Mr. Frans Olof' 'Vander Cruyssen, Mr. Victor'\n",
            " 'Abelson, Mrs. Samuel (Hannah Wizosky)'\n",
            " 'Najib, Miss. Adele Kiamie \"Jane\"' 'Gustafsson, Mr. Alfred Ossian'\n",
            " 'Petroff, Mr. Nedelio' 'Laleff, Mr. Kristo'\n",
            " 'Potter, Mrs. Thomas Jr (Lily Alexenia Wilson)'\n",
            " 'Shelley, Mrs. William (Imanita Parrish Hall)' 'Markun, Mr. Johann'\n",
            " 'Dahlberg, Miss. Gerda Ulrika' 'Banfield, Mr. Frederick James'\n",
            " 'Sutehall, Mr. Henry Jr' 'Rice, Mrs. William (Margaret Norton)'\n",
            " 'Montvila, Rev. Juozas' 'Graham, Miss. Margaret Edith'\n",
            " 'Johnston, Miss. Catherine Helen \"Carrie\"' 'Behr, Mr. Karl Howell'\n",
            " 'Dooley, Mr. Patrick']\n",
            "                                                                           \n",
            "***************************************************************************\n",
            "Unique values in Sex are :\n",
            "['male' 'female']\n",
            "                                                                           \n",
            "***************************************************************************\n",
            "Unique values in Age are :\n",
            "[22.   38.   26.   35.   28.   54.    2.   27.   14.    4.   58.   20.\n",
            " 39.   55.   31.   34.   15.    8.   19.   40.   66.   42.   21.   18.\n",
            "  3.    7.   49.   29.   65.   28.5   5.   11.   45.   17.   32.   16.\n",
            " 25.    0.83 30.   33.   23.   24.   46.   59.   71.   37.   47.   14.5\n",
            " 70.5  32.5  12.    9.   36.5  51.   55.5  40.5  44.    1.   61.   56.\n",
            " 50.   36.   45.5  20.5  62.   41.   52.   63.   23.5   0.92 43.   60.\n",
            " 10.   64.   13.   48.    0.75 53.   57.   80.   70.   24.5   6.    0.67\n",
            " 30.5   0.42 34.5  74.  ]\n",
            "                                                                           \n",
            "***************************************************************************\n",
            "Unique values in SibSp are :\n",
            "[1 0 3 4 2 5 8]\n",
            "                                                                           \n",
            "***************************************************************************\n",
            "Unique values in Parch are :\n",
            "[0 1 2 5 3 4 6]\n",
            "                                                                           \n",
            "***************************************************************************\n",
            "Unique values in Ticket are :\n",
            "['A/5 21171' 'PC 17599' 'STON/O2. 3101282' '113803' '373450' '330877'\n",
            " '17463' '349909' '347742' '237736' 'PP 9549' '113783' 'A/5. 2151'\n",
            " '347082' '350406' '248706' '382652' '244373' '345763' '2649' '239865'\n",
            " '248698' '330923' '113788' '347077' '2631' '19950' '330959' '349216'\n",
            " 'PC 17601' 'PC 17569' '335677' 'C.A. 24579' 'PC 17604' '113789' '2677'\n",
            " 'A./5. 2152' '345764' '2651' '7546' '11668' '349253' 'SC/Paris 2123'\n",
            " '330958' 'S.C./A.4. 23567' '370371' '14311' '2662' '349237' '3101295'\n",
            " 'A/4. 39886' 'PC 17572' '2926' '113509' '19947' 'C.A. 31026' '2697'\n",
            " 'C.A. 34651' 'CA 2144' '2669' '113572' '36973' '347088' 'PC 17605' '2661'\n",
            " 'C.A. 29395' 'S.P. 3464' '3101281' '315151' 'C.A. 33111' 'S.O.C. 14879'\n",
            " '2680' '1601' '348123' '349208' '374746' '248738' '364516' '345767'\n",
            " '345779' '330932' '113059' 'SO/C 14885' '3101278' 'W./C. 6608'\n",
            " 'SOTON/OQ 392086' '343275' '343276' '347466' 'W.E.P. 5734' 'C.A. 2315'\n",
            " '364500' '374910' 'PC 17754' 'PC 17759' '231919' '244367' '349245'\n",
            " '349215' '35281' '7540' '3101276' '349207' '343120' '312991' '349249'\n",
            " '371110' '110465' '2665' '324669' '4136' '2627' 'STON/O 2. 3101294'\n",
            " '370369' 'PC 17558' 'A4. 54510' '27267' '370372' 'C 17369' '2668'\n",
            " '347061' '349241' 'SOTON/O.Q. 3101307' 'A/5. 3337' '228414' 'C.A. 29178'\n",
            " 'SC/PARIS 2133' '11752' '7534' 'PC 17593' '2678' '347081'\n",
            " 'STON/O2. 3101279' '365222' '231945' 'C.A. 33112' '350043' '230080'\n",
            " '244310' 'S.O.P. 1166' '113776' 'A.5. 11206' 'A/5. 851' 'Fa 265302'\n",
            " 'PC 17597' '35851' 'SOTON/OQ 392090' '315037' 'CA. 2343' '371362'\n",
            " 'C.A. 33595' '347068' '315093' '363291' '113505' 'PC 17318' '111240'\n",
            " 'STON/O 2. 3101280' '17764' '350404' '4133' 'PC 17595' '250653' 'LINE'\n",
            " 'SC/PARIS 2131' '230136' '315153' '113767' '370365' '111428' '364849'\n",
            " '349247' '234604' '28424' '350046' 'PC 17610' '368703' '4579' '370370'\n",
            " '248747' '345770' '3101264' '2628' 'A/5 3540' '347054' '2699' '367231'\n",
            " '112277' 'SOTON/O.Q. 3101311' 'F.C.C. 13528' 'A/5 21174' '250646'\n",
            " '367229' '35273' 'STON/O2. 3101283' '243847' '11813' 'W/C 14208'\n",
            " 'SOTON/OQ 392089' '220367' '21440' '349234' '19943' 'PP 4348' 'SW/PP 751'\n",
            " 'A/5 21173' '236171' '347067' '237442' 'C.A. 29566' 'W./C. 6609' '26707'\n",
            " 'C.A. 31921' '28665' 'SCO/W 1585' '367230' 'W./C. 14263'\n",
            " 'STON/O 2. 3101275' '2694' '19928' '347071' '250649' '11751' '244252'\n",
            " '362316' '113514' 'A/5. 3336' '370129' '2650' 'PC 17585' '110152'\n",
            " 'PC 17755' '230433' '384461' '110413' '112059' '382649' 'C.A. 17248'\n",
            " '347083' 'PC 17582' 'PC 17760' '113798' '250644' 'PC 17596' '370375'\n",
            " '13502' '347073' '239853' 'C.A. 2673' '336439' '347464' '345778'\n",
            " 'A/5. 10482' '113056' '349239' '345774' '349206' '237798' '370373'\n",
            " '19877' '11967' 'SC/Paris 2163' '349236' '349233' 'PC 17612' '2693'\n",
            " '113781' '19988' '9234' '367226' '226593' 'A/5 2466' '17421' 'PC 17758'\n",
            " 'P/PP 3381' 'PC 17485' '11767' 'PC 17608' '250651' '349243'\n",
            " 'F.C.C. 13529' '347470' '29011' '36928' '16966' 'A/5 21172' '349219'\n",
            " '234818' '345364' '28551' '111361' '113043' 'PC 17611' '349225' '7598'\n",
            " '113784' '248740' '244361' '229236' '248733' '31418' '386525'\n",
            " 'C.A. 37671' '315088' '7267' '113510' '2695' '2647' '345783' '237671'\n",
            " '330931' '330980' 'SC/PARIS 2167' '2691' 'SOTON/O.Q. 3101310' 'C 7076'\n",
            " '110813' '2626' '14313' 'PC 17477' '11765' '3101267' '323951' 'C 7077'\n",
            " '113503' '2648' '347069' 'PC 17757' '2653' 'STON/O 2. 3101293' '349227'\n",
            " '27849' '367655' 'SC 1748' '113760' '350034' '3101277' '350052' '350407'\n",
            " '28403' '244278' '240929' 'STON/O 2. 3101289' '341826' '4137' '315096'\n",
            " '28664' '347064' '29106' '312992' '349222' '394140' 'STON/O 2. 3101269'\n",
            " '343095' '28220' '250652' '28228' '345773' '349254' 'A/5. 13032' '315082'\n",
            " '347080' 'A/4. 34244' '2003' '250655' '364851' 'SOTON/O.Q. 392078'\n",
            " '110564' '376564' 'SC/AH 3085' 'STON/O 2. 3101274' '13507' 'C.A. 18723'\n",
            " '345769' '347076' '230434' '65306' '33638' '113794' '2666' '113786'\n",
            " '65303' '113051' '17453' 'A/5 2817' '349240' '13509' '17464'\n",
            " 'F.C.C. 13531' '371060' '19952' '364506' '111320' '234360' 'A/S 2816'\n",
            " 'SOTON/O.Q. 3101306' '113792' '36209' '323592' '315089' 'SC/AH Basle 541'\n",
            " '7553' '31027' '3460' '350060' '3101298' '239854' 'A/5 3594' '4134'\n",
            " '11771' 'A.5. 18509' '65304' 'SOTON/OQ 3101317' '113787' 'PC 17609'\n",
            " 'A/4 45380' '36947' 'C.A. 6212' '350035' '315086' '364846' '330909'\n",
            " '4135' '26360' '111427' 'C 4001' '382651' 'SOTON/OQ 3101316' 'PC 17473'\n",
            " 'PC 17603' '349209' '36967' 'C.A. 34260' '226875' '349242' '12749'\n",
            " '349252' '2624' '2700' '367232' 'W./C. 14258' 'PC 17483' '3101296'\n",
            " '29104' '2641' '2690' '315084' '113050' 'PC 17761' '364498' '13568'\n",
            " 'WE/P 5735' '2908' '693' 'SC/PARIS 2146' '244358' '330979' '2620'\n",
            " '347085' '113807' '11755' '345572' '372622' '349251' '218629'\n",
            " 'SOTON/OQ 392082' 'SOTON/O.Q. 392087' 'A/4 48871' '349205' '2686'\n",
            " '350417' 'S.W./PP 752' '11769' 'PC 17474' '14312' 'A/4. 20589' '358585'\n",
            " '243880' '2689' 'STON/O 2. 3101286' '237789' '13049' '3411' '237565'\n",
            " '13567' '14973' 'A./5. 3235' 'STON/O 2. 3101273' 'A/5 3902' '364848'\n",
            " 'SC/AH 29037' '248727' '2664' '349214' '113796' '364511' '111426'\n",
            " '349910' '349246' '113804' 'SOTON/O.Q. 3101305' '370377' '364512'\n",
            " '220845' '31028' '2659' '11753' '350029' '54636' '36963' '219533'\n",
            " '349224' '334912' '27042' '347743' '13214' '112052' '237668'\n",
            " 'STON/O 2. 3101292' '350050' '349231' '13213' 'S.O./P.P. 751' 'CA. 2314'\n",
            " '349221' '8475' '330919' '365226' '349223' '29751' '2623' '5727' '349210'\n",
            " 'STON/O 2. 3101285' '234686' '312993' 'A/5 3536' '19996' '29750'\n",
            " 'F.C. 12750' 'C.A. 24580' '244270' '239856' '349912' '342826' '4138'\n",
            " '330935' '6563' '349228' '350036' '24160' '17474' '349256' '2672'\n",
            " '113800' '248731' '363592' '35852' '348121' 'PC 17475' '36864' '350025'\n",
            " '223596' 'PC 17476' 'PC 17482' '113028' '7545' '250647' '348124' '34218'\n",
            " '36568' '347062' '350048' '12233' '250643' '113806' '315094' '36866'\n",
            " '236853' 'STON/O2. 3101271' '239855' '28425' '233639' '349201' '349218'\n",
            " '16988' '376566' 'STON/O 2. 3101288' '250648' '113773' '335097' '29103'\n",
            " '392096' '345780' '349204' '350042' '29108' '363294' 'SOTON/O2 3101272'\n",
            " '2663' '347074' '112379' '364850' '8471' '345781' '350047' 'S.O./P.P. 3'\n",
            " '2674' '29105' '347078' '383121' '36865' '2687' '113501' 'W./C. 6607'\n",
            " 'SOTON/O.Q. 3101312' '374887' '3101265' '12460' 'PC 17600' '349203'\n",
            " '28213' '17465' '349244' '2685' '2625' '347089' '347063' '112050'\n",
            " '347087' '248723' '3474' '28206' '364499' '112058' 'STON/O2. 3101290'\n",
            " 'S.C./PARIS 2079' 'C 7075' '315098' '19972' '368323' '367228' '2671'\n",
            " '347468' '2223' 'PC 17756' '315097' '392092' '11774' 'SOTON/O2 3101287'\n",
            " '2683' '315090' 'C.A. 5547' '349213' '347060' 'PC 17592' '392091'\n",
            " '113055' '2629' '350026' '28134' '17466' '233866' '236852'\n",
            " 'SC/PARIS 2149' 'PC 17590' '345777' '349248' '695' '345765' '2667'\n",
            " '349212' '349217' '349257' '7552' 'C.A./SOTON 34068' 'SOTON/OQ 392076'\n",
            " '211536' '112053' '111369' '370376']\n",
            "                                                                           \n",
            "***************************************************************************\n",
            "Unique values in Fare are :\n",
            "[  7.25    71.2833   7.925   53.1      8.05     8.4583  51.8625  21.075\n",
            "  11.1333  30.0708  16.7     26.55    31.275    7.8542  16.      29.125\n",
            "  13.      18.       7.225   26.       8.0292  35.5     31.3875 263.\n",
            "   7.8792   7.8958  27.7208 146.5208   7.75    10.5     82.1708  52.\n",
            "   7.2292  11.2417   9.475   21.      41.5792  15.5     21.6792  17.8\n",
            "  39.6875   7.8     76.7292  61.9792  27.75    46.9     80.      83.475\n",
            "  27.9     15.2458   8.1583   8.6625  73.5     14.4542  56.4958   7.65\n",
            "  29.      12.475    9.       9.5      7.7875  47.1     15.85    34.375\n",
            "  61.175   20.575   34.6542  63.3583  23.      77.2875   8.6542   7.775\n",
            "  24.15     9.825   14.4583 247.5208   7.1417  22.3583   6.975    7.05\n",
            "  14.5     15.0458  26.2833   9.2167  79.2      6.75    11.5     36.75\n",
            "   7.7958  12.525   66.6      7.3125  61.3792   7.7333  69.55    16.1\n",
            "  15.75    20.525   55.      25.925   33.5     30.6958  25.4667  28.7125\n",
            "   0.      15.05    39.      22.025   50.       8.4042   6.4958  10.4625\n",
            "  18.7875  31.     113.275   27.      76.2917  90.       9.35    13.5\n",
            "   7.55    26.25    12.275    7.125   52.5542  20.2125  86.5    512.3292\n",
            "  79.65   153.4625 135.6333  19.5     29.7     77.9583  20.25    78.85\n",
            "  91.0792  12.875    8.85   151.55    30.5     23.25    12.35   110.8833\n",
            " 108.9     24.      56.9292  83.1583 262.375   14.     164.8667 134.5\n",
            "   6.2375  57.9792  28.5    133.65    15.9      9.225   35.      75.25\n",
            "  69.3     55.4417 211.5      4.0125 227.525   15.7417   7.7292  12.\n",
            " 120.      12.65    18.75     6.8583  32.5      7.875   14.4     55.9\n",
            "   8.1125  81.8583  19.2583  19.9667  89.1042  38.5      7.725   13.7917\n",
            "   9.8375   7.0458   7.5208  12.2875   9.5875  49.5042  78.2667  15.1\n",
            "   7.6292  22.525   26.2875  59.4      7.4958  34.0208  93.5    221.7792\n",
            " 106.425   49.5     71.      13.8625   7.8292  39.6     17.4     51.4792\n",
            "  26.3875  30.      40.125    8.7125  15.      33.      42.4     15.55\n",
            "  65.      32.3208   7.0542   8.4333  25.5875   9.8417   8.1375  10.1708\n",
            " 211.3375  57.      13.4167   7.7417   9.4833   7.7375   8.3625  23.45\n",
            "  25.9292   8.6833   8.5167   7.8875  37.0042   6.45     6.95     8.3\n",
            "   6.4375  39.4     14.1083  13.8583  50.4958   5.       9.8458  10.5167]\n",
            "                                                                           \n",
            "***************************************************************************\n",
            "Unique values in Embarked are :\n",
            "['S' 'C' 'Q']\n",
            "                                                                           \n",
            "***************************************************************************\n"
          ]
        }
      ]
    },
    {
      "cell_type": "markdown",
      "source": [
        "Some Notes Regarding Dataset\n",
        "\n",
        "Pclass: A proxy for socio-economic status (SES)\n",
        "1st = Upper\n",
        "2nd = Middle\n",
        "3rd = Lower\n",
        "\n",
        "Age: Age is fractional if less than 1. If the age is estimated, is it in the form of xx.5\n",
        "\n",
        "SibSp: The dataset defines family relations in this way...\n",
        "Sibling = brother, sister, stepbrother, stepsister\n",
        "Spouse = husband, wife (mistresses and fiancés were ignored)\n",
        "\n",
        "Parch: The dataset defines family relations in this way...\n",
        "Parent = mother, father\n",
        "Child = daughter, son, stepdaughter, stepson\n",
        "Some children travelled only with a nanny, therefore parch=0 for them.\n",
        "\n",
        "*Source: [Kaggle's - Titanic: Machine Learning from Disaster](https://www.kaggle.com/c/titanic/data)*"
      ],
      "metadata": {
        "id": "chCROQRQLUWt"
      }
    },
    {
      "cell_type": "code",
      "source": [
        "# We will check for outliers in our numerical variables\n",
        "num = ['PassengerId', 'Survived', 'Pclass', 'Age', 'SibSp',\n",
        "       'Parch', 'Fare']\n",
        "for i in num:\n",
        "  fig = plt.figure(figsize = (10,7))\n",
        "  plt.boxplot(train_clean[i])\n",
        "  plt.title(i)\n",
        "  plt.show()"
      ],
      "metadata": {
        "colab": {
          "base_uri": "https://localhost:8080/",
          "height": 1000
        },
        "id": "wI197UtKIpTI",
        "outputId": "a30e3404-2f48-47fe-c9a3-307cd6dfb21c"
      },
      "execution_count": null,
      "outputs": [
        {
          "output_type": "display_data",
          "data": {
            "image/png": "[encoded data removed]",
            "text/plain": [
              "<Figure size 720x504 with 1 Axes>"
            ]
          },
          "metadata": {
            "needs_background": "light"
          }
        },
        {
          "output_type": "display_data",
          "data": {
            "image/png": "[encoded data removed]",
            "text/plain": [
              "<Figure size 720x504 with 1 Axes>"
            ]
          },
          "metadata": {
            "needs_background": "light"
          }
        },
        {
          "output_type": "display_data",
          "data": {
            "image/png": "[encoded data removed]",
            "text/plain": [
              "<Figure size 720x504 with 1 Axes>"
            ]
          },
          "metadata": {
            "needs_background": "light"
          }
        },
        {
          "output_type": "display_data",
          "data": {
            "image/png": "[encoded data removed]",
            "text/plain": [
              "<Figure size 720x504 with 1 Axes>"
            ]
          },
          "metadata": {
            "needs_background": "light"
          }
        },
        {
          "output_type": "display_data",
          "data": {
            "image/png": "[encoded data removed]",
            "text/plain": [
              "<Figure size 720x504 with 1 Axes>"
            ]
          },
          "metadata": {
            "needs_background": "light"
          }
        },
        {
          "output_type": "display_data",
          "data": {
            "image/png": "[encoded data removed]",
            "text/plain": [
              "<Figure size 720x504 with 1 Axes>"
            ]
          },
          "metadata": {
            "needs_background": "light"
          }
        },
        {
          "output_type": "display_data",
          "data": {
            "image/png": "[encoded data removed]",
            "text/plain": [
              "<Figure size 720x504 with 1 Axes>"
            ]
          },
          "metadata": {
            "needs_background": "light"
          }
        }
      ]
    },
    {
      "cell_type": "markdown",
      "source": [
        "We have presence of outliers in the Age, SibSp, Parch and fare variables"
      ],
      "metadata": {
        "id": "99LNJT8UJnpu"
      }
    },
    {
      "cell_type": "markdown",
      "source": [
        "## Test Dataset"
      ],
      "metadata": {
        "id": "oofyiKZmMlwY"
      }
    },
    {
      "cell_type": "code",
      "source": [
        "# Dealing with missing values \n",
        "# Let's confirm the missing values again\n",
        "test.isnull().sum()"
      ],
      "metadata": {
        "colab": {
          "base_uri": "https://localhost:8080/"
        },
        "id": "pToidkbrMiuU",
        "outputId": "d85df773-b3e9-444e-ff6a-e7493ab11ae9"
      },
      "execution_count": null,
      "outputs": [
        {
          "output_type": "execute_result",
          "data": {
            "text/plain": [
              "PassengerId      0\n",
              "Pclass           0\n",
              "Name             0\n",
              "Sex              0\n",
              "Age             86\n",
              "SibSp            0\n",
              "Parch            0\n",
              "Ticket           0\n",
              "Fare             1\n",
              "Cabin          327\n",
              "Embarked         0\n",
              "dtype: int64"
            ]
          },
          "metadata": {},
          "execution_count": 522
        }
      ]
    },
    {
      "cell_type": "code",
      "source": [
        "# Identify the total number of missing values in our dataframe\n",
        "test.isnull().sum().sum()"
      ],
      "metadata": {
        "colab": {
          "base_uri": "https://localhost:8080/"
        },
        "id": "JBNH4dg1M162",
        "outputId": "61b1b347-682f-4bba-fe1b-773980a84b4d"
      },
      "execution_count": null,
      "outputs": [
        {
          "output_type": "execute_result",
          "data": {
            "text/plain": [
              "414"
            ]
          },
          "metadata": {},
          "execution_count": 523
        }
      ]
    },
    {
      "cell_type": "markdown",
      "source": [
        "We have a total of 414 missing variables in the test dataset"
      ],
      "metadata": {
        "id": "rMkYALbxM9Gv"
      }
    },
    {
      "cell_type": "code",
      "source": [
        "# Let's find the percentage of missing values in each column in our dataframe \n",
        "percentage_test = test.isnull().sum()*100/len(test)\n",
        "percentage_test.sort_values(ascending = False)"
      ],
      "metadata": {
        "colab": {
          "base_uri": "https://localhost:8080/"
        },
        "id": "yLFPFnKDNHbS",
        "outputId": "c7b9792e-0e07-4813-e7d5-8671a35589ed"
      },
      "execution_count": null,
      "outputs": [
        {
          "output_type": "execute_result",
          "data": {
            "text/plain": [
              "Cabin          78.229665\n",
              "Age            20.574163\n",
              "Fare            0.239234\n",
              "PassengerId     0.000000\n",
              "Pclass          0.000000\n",
              "Name            0.000000\n",
              "Sex             0.000000\n",
              "SibSp           0.000000\n",
              "Parch           0.000000\n",
              "Ticket          0.000000\n",
              "Embarked        0.000000\n",
              "dtype: float64"
            ]
          },
          "metadata": {},
          "execution_count": 524
        }
      ]
    },
    {
      "cell_type": "code",
      "source": [
        "# We will drop Cabin column because it contains over 50% of missing values\n",
        "test_clean = test.drop('Cabin', axis = 1)"
      ],
      "metadata": {
        "id": "ipYyN37hNeru"
      },
      "execution_count": null,
      "outputs": []
    },
    {
      "cell_type": "code",
      "source": [
        "# Confirm changes made\n",
        "test_clean.head()"
      ],
      "metadata": {
        "colab": {
          "base_uri": "https://localhost:8080/",
          "height": 206
        },
        "id": "yqMXbi4LNlLB",
        "outputId": "62552ec0-4161-4fb6-ad21-74a01861d868"
      },
      "execution_count": null,
      "outputs": [
        {
          "output_type": "execute_result",
          "data": {
            "text/html": [
              "\n",
              "  <div id=\"df-bab37df9-0078-4977-a2dc-0c48c771472f\">\n",
              "    <div class=\"colab-df-container\">\n",
              "      <div>\n",
              "<style scoped>\n",
              "    .dataframe tbody tr th:only-of-type {\n",
              "        vertical-align: middle;\n",
              "    }\n",
              "\n",
              "    .dataframe tbody tr th {\n",
              "        vertical-align: top;\n",
              "    }\n",
              "\n",
              "    .dataframe thead th {\n",
              "        text-align: right;\n",
              "    }\n",
              "</style>\n",
              "<table border=\"1\" class=\"dataframe\">\n",
              "  <thead>\n",
              "    <tr style=\"text-align: right;\">\n",
              "      <th></th>\n",
              "      <th>PassengerId</th>\n",
              "      <th>Pclass</th>\n",
              "      <th>Name</th>\n",
              "      <th>Sex</th>\n",
              "      <th>Age</th>\n",
              "      <th>SibSp</th>\n",
              "      <th>Parch</th>\n",
              "      <th>Ticket</th>\n",
              "      <th>Fare</th>\n",
              "      <th>Embarked</th>\n",
              "    </tr>\n",
              "  </thead>\n",
              "  <tbody>\n",
              "    <tr>\n",
              "      <th>0</th>\n",
              "      <td>892</td>\n",
              "      <td>3</td>\n",
              "      <td>Kelly, Mr. James</td>\n",
              "      <td>male</td>\n",
              "      <td>34.5</td>\n",
              "      <td>0</td>\n",
              "      <td>0</td>\n",
              "      <td>330911</td>\n",
              "      <td>7.8292</td>\n",
              "      <td>Q</td>\n",
              "    </tr>\n",
              "    <tr>\n",
              "      <th>1</th>\n",
              "      <td>893</td>\n",
              "      <td>3</td>\n",
              "      <td>Wilkes, Mrs. James (Ellen Needs)</td>\n",
              "      <td>female</td>\n",
              "      <td>47.0</td>\n",
              "      <td>1</td>\n",
              "      <td>0</td>\n",
              "      <td>363272</td>\n",
              "      <td>7.0000</td>\n",
              "      <td>S</td>\n",
              "    </tr>\n",
              "    <tr>\n",
              "      <th>2</th>\n",
              "      <td>894</td>\n",
              "      <td>2</td>\n",
              "      <td>Myles, Mr. Thomas Francis</td>\n",
              "      <td>male</td>\n",
              "      <td>62.0</td>\n",
              "      <td>0</td>\n",
              "      <td>0</td>\n",
              "      <td>240276</td>\n",
              "      <td>9.6875</td>\n",
              "      <td>Q</td>\n",
              "    </tr>\n",
              "    <tr>\n",
              "      <th>3</th>\n",
              "      <td>895</td>\n",
              "      <td>3</td>\n",
              "      <td>Wirz, Mr. Albert</td>\n",
              "      <td>male</td>\n",
              "      <td>27.0</td>\n",
              "      <td>0</td>\n",
              "      <td>0</td>\n",
              "      <td>315154</td>\n",
              "      <td>8.6625</td>\n",
              "      <td>S</td>\n",
              "    </tr>\n",
              "    <tr>\n",
              "      <th>4</th>\n",
              "      <td>896</td>\n",
              "      <td>3</td>\n",
              "      <td>Hirvonen, Mrs. Alexander (Helga E Lindqvist)</td>\n",
              "      <td>female</td>\n",
              "      <td>22.0</td>\n",
              "      <td>1</td>\n",
              "      <td>1</td>\n",
              "      <td>3101298</td>\n",
              "      <td>12.2875</td>\n",
              "      <td>S</td>\n",
              "    </tr>\n",
              "  </tbody>\n",
              "</table>\n",
              "</div>\n",
              "      <button class=\"colab-df-convert\" onclick=\"convertToInteractive('df-bab37df9-0078-4977-a2dc-0c48c771472f')\"\n",
              "              title=\"Convert this dataframe to an interactive table.\"\n",
              "              style=\"display:none;\">\n",
              "        \n",
              "  <svg xmlns=\"http://www.w3.org/2000/svg\" height=\"24px\"viewBox=\"0 0 24 24\"\n",
              "       width=\"24px\">\n",
              "    <path d=\"M0 0h24v24H0V0z\" fill=\"none\"/>\n",
              "    <path d=\"M18.56 5.44l.94 2.06.94-2.06 2.06-.94-2.06-.94-.94-2.06-.94 2.06-2.06.94zm-11 1L8.5 8.5l.94-2.06 2.06-.94-2.06-.94L8.5 2.5l-.94 2.06-2.06.94zm10 10l.94 2.06.94-2.06 2.06-.94-2.06-.94-.94-2.06-.94 2.06-2.06.94z\"/><path d=\"M17.41 7.96l-1.37-1.37c-.4-.4-.92-.59-1.43-.59-.52 0-1.04.2-1.43.59L10.3 9.45l-7.72 7.72c-.78.78-.78 2.05 0 2.83L4 21.41c.39.39.9.59 1.41.59.51 0 1.02-.2 1.41-.59l7.78-7.78 2.81-2.81c.8-.78.8-2.07 0-2.86zM5.41 20L4 18.59l7.72-7.72 1.47 1.35L5.41 20z\"/>\n",
              "  </svg>\n",
              "      </button>\n",
              "      \n",
              "  <style>\n",
              "    .colab-df-container {\n",
              "      display:flex;\n",
              "      flex-wrap:wrap;\n",
              "      gap: 12px;\n",
              "    }\n",
              "\n",
              "    .colab-df-convert {\n",
              "      background-color: #E8F0FE;\n",
              "      border: none;\n",
              "      border-radius: 50%;\n",
              "      cursor: pointer;\n",
              "      display: none;\n",
              "      fill: #1967D2;\n",
              "      height: 32px;\n",
              "      padding: 0 0 0 0;\n",
              "      width: 32px;\n",
              "    }\n",
              "\n",
              "    .colab-df-convert:hover {\n",
              "      background-color: #E2EBFA;\n",
              "      box-shadow: 0px 1px 2px rgba(60, 64, 67, 0.3), 0px 1px 3px 1px rgba(60, 64, 67, 0.15);\n",
              "      fill: #174EA6;\n",
              "    }\n",
              "\n",
              "    [theme=dark] .colab-df-convert {\n",
              "      background-color: #3B4455;\n",
              "      fill: #D2E3FC;\n",
              "    }\n",
              "\n",
              "    [theme=dark] .colab-df-convert:hover {\n",
              "      background-color: #434B5C;\n",
              "      box-shadow: 0px 1px 3px 1px rgba(0, 0, 0, 0.15);\n",
              "      filter: drop-shadow(0px 1px 2px rgba(0, 0, 0, 0.3));\n",
              "      fill: #FFFFFF;\n",
              "    }\n",
              "  </style>\n",
              "\n",
              "      <script>\n",
              "        const buttonEl =\n",
              "          document.querySelector('#df-bab37df9-0078-4977-a2dc-0c48c771472f button.colab-df-convert');\n",
              "        buttonEl.style.display =\n",
              "          google.colab.kernel.accessAllowed ? 'block' : 'none';\n",
              "\n",
              "        async function convertToInteractive(key) {\n",
              "          const element = document.querySelector('#df-bab37df9-0078-4977-a2dc-0c48c771472f');\n",
              "          const dataTable =\n",
              "            await google.colab.kernel.invokeFunction('convertToInteractive',\n",
              "                                                     [key], {});\n",
              "          if (!dataTable) return;\n",
              "\n",
              "          const docLinkHtml = 'Like what you see? Visit the ' +\n",
              "            '<a target=\"_blank\" href=https://colab.research.google.com/notebooks/data_table.ipynb>data table notebook</a>'\n",
              "            + ' to learn more about interactive tables.';\n",
              "          element.innerHTML = '';\n",
              "          dataTable['output_type'] = 'display_data';\n",
              "          await google.colab.output.renderOutput(dataTable, element);\n",
              "          const docLink = document.createElement('div');\n",
              "          docLink.innerHTML = docLinkHtml;\n",
              "          element.appendChild(docLink);\n",
              "        }\n",
              "      </script>\n",
              "    </div>\n",
              "  </div>\n",
              "  "
            ],
            "text/plain": [
              "   PassengerId  Pclass  ...     Fare Embarked\n",
              "0          892       3  ...   7.8292        Q\n",
              "1          893       3  ...   7.0000        S\n",
              "2          894       2  ...   9.6875        Q\n",
              "3          895       3  ...   8.6625        S\n",
              "4          896       3  ...  12.2875        S\n",
              "\n",
              "[5 rows x 10 columns]"
            ]
          },
          "metadata": {},
          "execution_count": 526
        }
      ]
    },
    {
      "cell_type": "code",
      "source": [
        "# We will check for outliers in our numerical data in order to determine how we will fill \n",
        "# null values in the age and fare columns\n",
        "out = ['Age','Fare']\n",
        "for i in out:\n",
        "  train_clean.boxplot(column = i , figsize = (15,15))\n",
        "  plt.show()"
      ],
      "metadata": {
        "colab": {
          "base_uri": "https://localhost:8080/",
          "height": 1000
        },
        "id": "-WNHvKYDNyT8",
        "outputId": "63bfa501-b06a-4eae-ae9f-185024fb8910"
      },
      "execution_count": null,
      "outputs": [
        {
          "output_type": "display_data",
          "data": {
            "image/png": "[encoded data removed]",
            "text/plain": [
              "<Figure size 1080x1080 with 1 Axes>"
            ]
          },
          "metadata": {
            "needs_background": "light"
          }
        },
        {
          "output_type": "display_data",
          "data": {
            "image/png": "[encoded data removed]",
            "text/plain": [
              "<Figure size 1080x1080 with 1 Axes>"
            ]
          },
          "metadata": {
            "needs_background": "light"
          }
        }
      ]
    },
    {
      "cell_type": "markdown",
      "source": [
        "For symmetric data distribution, one can use the mean value for imputing missing values and for non symetric data distribution one can use median.This is because outliers data points will have a significant impact on the mean"
      ],
      "metadata": {
        "id": "pxfjA3Y5Om2Q"
      }
    },
    {
      "cell_type": "code",
      "source": [
        "# We will fill the missing values in the Age and fare column with the median\n",
        "test_clean['Age'].fillna(test_clean['Age'].median(), inplace = True)\n",
        "test_clean['Fare'].fillna(test_clean['Fare'].median(), inplace = True)"
      ],
      "metadata": {
        "id": "LIi2dHvNOcgJ"
      },
      "execution_count": null,
      "outputs": []
    },
    {
      "cell_type": "code",
      "source": [
        "# Confirm the changes made \n",
        "test_clean.isnull().sum()"
      ],
      "metadata": {
        "colab": {
          "base_uri": "https://localhost:8080/"
        },
        "id": "pod-StPdPF_A",
        "outputId": "8e7d372a-d218-4636-8525-30346adde139"
      },
      "execution_count": null,
      "outputs": [
        {
          "output_type": "execute_result",
          "data": {
            "text/plain": [
              "PassengerId    0\n",
              "Pclass         0\n",
              "Name           0\n",
              "Sex            0\n",
              "Age            0\n",
              "SibSp          0\n",
              "Parch          0\n",
              "Ticket         0\n",
              "Fare           0\n",
              "Embarked       0\n",
              "dtype: int64"
            ]
          },
          "metadata": {},
          "execution_count": 529
        }
      ]
    },
    {
      "cell_type": "markdown",
      "source": [
        "We have successfully dealt with the missing values "
      ],
      "metadata": {
        "id": "RLWYLNLsPPCF"
      }
    },
    {
      "cell_type": "code",
      "source": [
        "# Check the shape of our dataframe after all the changes made\n",
        "test_clean.shape"
      ],
      "metadata": {
        "colab": {
          "base_uri": "https://localhost:8080/"
        },
        "id": "nXt9RRFNPZ9z",
        "outputId": "7f302021-5fe7-4582-aedc-98d77933e838"
      },
      "execution_count": null,
      "outputs": [
        {
          "output_type": "execute_result",
          "data": {
            "text/plain": [
              "(418, 10)"
            ]
          },
          "metadata": {},
          "execution_count": 530
        }
      ]
    },
    {
      "cell_type": "markdown",
      "source": [
        "We now have 418 records and 10 variables"
      ],
      "metadata": {
        "id": "yukd4ugmPdW9"
      }
    },
    {
      "cell_type": "code",
      "source": [
        "# Check for unique values in our dataframe inorder to identify any annomalies\n",
        "columns_test = test_clean.columns\n",
        "for i in columns_test:\n",
        "  print('Unique values in', i , 'are :')\n",
        "  print(test_clean[i].unique())\n",
        "  print('                                                                           ')\n",
        "  print('***************************************************************************')"
      ],
      "metadata": {
        "colab": {
          "base_uri": "https://localhost:8080/"
        },
        "id": "v7c0uWA8QZ9b",
        "outputId": "7be25f03-beea-4e12-e62a-37b8c14ea778"
      },
      "execution_count": null,
      "outputs": [
        {
          "output_type": "stream",
          "name": "stdout",
          "text": [
            "Unique values in PassengerId are :\n",
            "[ 892  893  894  895  896  897  898  899  900  901  902  903  904  905\n",
            "  906  907  908  909  910  911  912  913  914  915  916  917  918  919\n",
            "  920  921  922  923  924  925  926  927  928  929  930  931  932  933\n",
            "  934  935  936  937  938  939  940  941  942  943  944  945  946  947\n",
            "  948  949  950  951  952  953  954  955  956  957  958  959  960  961\n",
            "  962  963  964  965  966  967  968  969  970  971  972  973  974  975\n",
            "  976  977  978  979  980  981  982  983  984  985  986  987  988  989\n",
            "  990  991  992  993  994  995  996  997  998  999 1000 1001 1002 1003\n",
            " 1004 1005 1006 1007 1008 1009 1010 1011 1012 1013 1014 1015 1016 1017\n",
            " 1018 1019 1020 1021 1022 1023 1024 1025 1026 1027 1028 1029 1030 1031\n",
            " 1032 1033 1034 1035 1036 1037 1038 1039 1040 1041 1042 1043 1044 1045\n",
            " 1046 1047 1048 1049 1050 1051 1052 1053 1054 1055 1056 1057 1058 1059\n",
            " 1060 1061 1062 1063 1064 1065 1066 1067 1068 1069 1070 1071 1072 1073\n",
            " 1074 1075 1076 1077 1078 1079 1080 1081 1082 1083 1084 1085 1086 1087\n",
            " 1088 1089 1090 1091 1092 1093 1094 1095 1096 1097 1098 1099 1100 1101\n",
            " 1102 1103 1104 1105 1106 1107 1108 1109 1110 1111 1112 1113 1114 1115\n",
            " 1116 1117 1118 1119 1120 1121 1122 1123 1124 1125 1126 1127 1128 1129\n",
            " 1130 1131 1132 1133 1134 1135 1136 1137 1138 1139 1140 1141 1142 1143\n",
            " 1144 1145 1146 1147 1148 1149 1150 1151 1152 1153 1154 1155 1156 1157\n",
            " 1158 1159 1160 1161 1162 1163 1164 1165 1166 1167 1168 1169 1170 1171\n",
            " 1172 1173 1174 1175 1176 1177 1178 1179 1180 1181 1182 1183 1184 1185\n",
            " 1186 1187 1188 1189 1190 1191 1192 1193 1194 1195 1196 1197 1198 1199\n",
            " 1200 1201 1202 1203 1204 1205 1206 1207 1208 1209 1210 1211 1212 1213\n",
            " 1214 1215 1216 1217 1218 1219 1220 1221 1222 1223 1224 1225 1226 1227\n",
            " 1228 1229 1230 1231 1232 1233 1234 1235 1236 1237 1238 1239 1240 1241\n",
            " 1242 1243 1244 1245 1246 1247 1248 1249 1250 1251 1252 1253 1254 1255\n",
            " 1256 1257 1258 1259 1260 1261 1262 1263 1264 1265 1266 1267 1268 1269\n",
            " 1270 1271 1272 1273 1274 1275 1276 1277 1278 1279 1280 1281 1282 1283\n",
            " 1284 1285 1286 1287 1288 1289 1290 1291 1292 1293 1294 1295 1296 1297\n",
            " 1298 1299 1300 1301 1302 1303 1304 1305 1306 1307 1308 1309]\n",
            "                                                                           \n",
            "***************************************************************************\n",
            "Unique values in Pclass are :\n",
            "[3 2 1]\n",
            "                                                                           \n",
            "***************************************************************************\n",
            "Unique values in Name are :\n",
            "['Kelly, Mr. James' 'Wilkes, Mrs. James (Ellen Needs)'\n",
            " 'Myles, Mr. Thomas Francis' 'Wirz, Mr. Albert'\n",
            " 'Hirvonen, Mrs. Alexander (Helga E Lindqvist)'\n",
            " 'Svensson, Mr. Johan Cervin' 'Connolly, Miss. Kate'\n",
            " 'Caldwell, Mr. Albert Francis'\n",
            " 'Abrahim, Mrs. Joseph (Sophie Halaut Easu)' 'Davies, Mr. John Samuel'\n",
            " 'Ilieff, Mr. Ylio' 'Jones, Mr. Charles Cresson'\n",
            " 'Snyder, Mrs. John Pillsbury (Nelle Stevenson)' 'Howard, Mr. Benjamin'\n",
            " 'Chaffee, Mrs. Herbert Fuller (Carrie Constance Toogood)'\n",
            " 'del Carlo, Mrs. Sebastiano (Argenia Genovesi)' 'Keane, Mr. Daniel'\n",
            " 'Assaf, Mr. Gerios' 'Ilmakangas, Miss. Ida Livija'\n",
            " 'Assaf Khalil, Mrs. Mariana (Miriam\")\"' 'Rothschild, Mr. Martin'\n",
            " 'Olsen, Master. Artur Karl' 'Flegenheim, Mrs. Alfred (Antoinette)'\n",
            " 'Williams, Mr. Richard Norris II'\n",
            " 'Ryerson, Mrs. Arthur Larned (Emily Maria Borie)'\n",
            " 'Robins, Mr. Alexander A' 'Ostby, Miss. Helene Ragnhild'\n",
            " 'Daher, Mr. Shedid' 'Brady, Mr. John Bertram' 'Samaan, Mr. Elias'\n",
            " 'Louch, Mr. Charles Alexander' 'Jefferys, Mr. Clifford Thomas'\n",
            " 'Dean, Mrs. Bertram (Eva Georgetta Light)'\n",
            " 'Johnston, Mrs. Andrew G (Elizabeth Lily\" Watson)\"'\n",
            " 'Mock, Mr. Philipp Edmund'\n",
            " 'Katavelas, Mr. Vassilios (Catavelas Vassilios\")\"' 'Roth, Miss. Sarah A'\n",
            " 'Cacic, Miss. Manda' 'Sap, Mr. Julius' 'Hee, Mr. Ling' 'Karun, Mr. Franz'\n",
            " 'Franklin, Mr. Thomas Parham' 'Goldsmith, Mr. Nathan'\n",
            " 'Corbett, Mrs. Walter H (Irene Colvin)'\n",
            " 'Kimball, Mrs. Edwin Nelson Jr (Gertrude Parsons)'\n",
            " 'Peltomaki, Mr. Nikolai Johannes' 'Chevre, Mr. Paul Romaine'\n",
            " 'Shaughnessy, Mr. Patrick'\n",
            " 'Bucknell, Mrs. William Robert (Emma Eliza Ward)'\n",
            " 'Coutts, Mrs. William (Winnie Minnie\" Treanor)\"'\n",
            " 'Smith, Mr. Lucien Philip' 'Pulbaum, Mr. Franz'\n",
            " 'Hocking, Miss. Ellen Nellie\"\"' 'Fortune, Miss. Ethel Flora'\n",
            " 'Mangiavacchi, Mr. Serafino Emilio' 'Rice, Master. Albert'\n",
            " 'Cor, Mr. Bartol' 'Abelseth, Mr. Olaus Jorgensen'\n",
            " 'Davison, Mr. Thomas Henry' 'Chaudanson, Miss. Victorine'\n",
            " 'Dika, Mr. Mirko' 'McCrae, Mr. Arthur Gordon'\n",
            " 'Bjorklund, Mr. Ernst Herbert' 'Bradley, Miss. Bridget Delia'\n",
            " 'Ryerson, Master. John Borie'\n",
            " 'Corey, Mrs. Percy C (Mary Phyllis Elizabeth Miller)'\n",
            " 'Burns, Miss. Mary Delia' 'Moore, Mr. Clarence Bloomfield'\n",
            " 'Tucker, Mr. Gilbert Milligan Jr' 'Fortune, Mrs. Mark (Mary McDougald)'\n",
            " 'Mulvihill, Miss. Bertha E' 'Minkoff, Mr. Lazar'\n",
            " 'Nieminen, Miss. Manta Josefina' 'Ovies y Rodriguez, Mr. Servando'\n",
            " 'Geiger, Miss. Amalie' 'Keeping, Mr. Edwin' 'Miles, Mr. Frank'\n",
            " 'Cornell, Mrs. Robert Clifford (Malvina Helen Lamson)'\n",
            " 'Aldworth, Mr. Charles Augustus' 'Doyle, Miss. Elizabeth'\n",
            " 'Boulos, Master. Akar' 'Straus, Mr. Isidor' 'Case, Mr. Howard Brown'\n",
            " 'Demetri, Mr. Marinko' 'Lamb, Mr. John Joseph' 'Khalil, Mr. Betros'\n",
            " 'Barry, Miss. Julia' 'Badman, Miss. Emily Louisa'\n",
            " \"O'Donoghue, Ms. Bridget\" 'Wells, Master. Ralph Lester'\n",
            " 'Dyker, Mrs. Adolf Fredrik (Anna Elisabeth Judith Andersson)'\n",
            " 'Pedersen, Mr. Olaf' 'Davidson, Mrs. Thornton (Orian Hays)'\n",
            " 'Guest, Mr. Robert' 'Birnbaum, Mr. Jakob' 'Tenglin, Mr. Gunnar Isidor'\n",
            " 'Cavendish, Mrs. Tyrell William (Julia Florence Siegel)'\n",
            " 'Makinen, Mr. Kalle Edvard' 'Braf, Miss. Elin Ester Maria'\n",
            " 'Nancarrow, Mr. William Henry'\n",
            " 'Stengel, Mrs. Charles Emil Henry (Annie May Morris)'\n",
            " 'Weisz, Mr. Leopold' 'Foley, Mr. William'\n",
            " 'Johansson Palmquist, Mr. Oskar Leander'\n",
            " 'Thomas, Mrs. Alexander (Thamine Thelma\")\"' 'Holthen, Mr. Johan Martin'\n",
            " 'Buckley, Mr. Daniel' 'Ryan, Mr. Edward'\n",
            " 'Willer, Mr. Aaron (Abi Weller\")\"' 'Swane, Mr. George'\n",
            " 'Stanton, Mr. Samuel Ward' 'Shine, Miss. Ellen Natalia'\n",
            " 'Evans, Miss. Edith Corse' 'Buckley, Miss. Katherine'\n",
            " 'Straus, Mrs. Isidor (Rosalie Ida Blun)' 'Chronopoulos, Mr. Demetrios'\n",
            " 'Thomas, Mr. John' 'Sandstrom, Miss. Beatrice Irene'\n",
            " 'Beattie, Mr. Thomson' 'Chapman, Mrs. John Henry (Sara Elizabeth Lawry)'\n",
            " 'Watt, Miss. Bertha J' 'Kiernan, Mr. John'\n",
            " 'Schabert, Mrs. Paul (Emma Mock)' 'Carver, Mr. Alfred John'\n",
            " 'Kennedy, Mr. John' 'Cribb, Miss. Laura Alice' 'Brobeck, Mr. Karl Rudolf'\n",
            " 'McCoy, Miss. Alicia' 'Bowenur, Mr. Solomon' 'Petersen, Mr. Marius'\n",
            " 'Spinner, Mr. Henry John' 'Gracie, Col. Archibald IV'\n",
            " 'Lefebre, Mrs. Frank (Frances)' 'Thomas, Mr. Charles P'\n",
            " 'Dintcheff, Mr. Valtcho' 'Carlsson, Mr. Carl Robert'\n",
            " 'Zakarian, Mr. Mapriededer' 'Schmidt, Mr. August' 'Drapkin, Miss. Jennie'\n",
            " 'Goodwin, Mr. Charles Frederick' 'Goodwin, Miss. Jessie Allis'\n",
            " 'Daniels, Miss. Sarah' 'Ryerson, Mr. Arthur Larned'\n",
            " 'Beauchamp, Mr. Henry James'\n",
            " 'Lindeberg-Lind, Mr. Erik Gustaf (Mr Edward Lingrey\")\"'\n",
            " 'Vander Planke, Mr. Julius' 'Hilliard, Mr. Herbert Henry'\n",
            " 'Davies, Mr. Evan' 'Crafton, Mr. John Bertram' 'Lahtinen, Rev. William'\n",
            " 'Earnshaw, Mrs. Boulton (Olive Potter)' 'Matinoff, Mr. Nicola'\n",
            " 'Storey, Mr. Thomas' 'Klasen, Mrs. (Hulda Kristina Eugenia Lofqvist)'\n",
            " 'Asplund, Master. Filip Oscar' 'Duquemin, Mr. Joseph' 'Bird, Miss. Ellen'\n",
            " 'Lundin, Miss. Olga Elida' 'Borebank, Mr. John James'\n",
            " 'Peacock, Mrs. Benjamin (Edith Nile)' 'Smyth, Miss. Julia'\n",
            " 'Touma, Master. Georges Youssef' 'Wright, Miss. Marion'\n",
            " 'Pearce, Mr. Ernest' 'Peruschitz, Rev. Joseph Maria'\n",
            " 'Kink-Heilmann, Mrs. Anton (Luise Heilmann)' 'Brandeis, Mr. Emil'\n",
            " 'Ford, Mr. Edward Watson'\n",
            " 'Cassebeer, Mrs. Henry Arthur Jr (Eleanor Genevieve Fosdick)'\n",
            " 'Hellstrom, Miss. Hilda Maria' 'Lithman, Mr. Simon' 'Zakarian, Mr. Ortin'\n",
            " 'Dyker, Mr. Adolf Fredrik' 'Torfa, Mr. Assad'\n",
            " 'Asplund, Mr. Carl Oscar Vilhelm Gustafsson' 'Brown, Miss. Edith Eileen'\n",
            " 'Sincock, Miss. Maude' 'Stengel, Mr. Charles Emil Henry'\n",
            " 'Becker, Mrs. Allen Oliver (Nellie E Baumgardner)'\n",
            " 'Compton, Mrs. Alexander Taylor (Mary Eliza Ingersoll)'\n",
            " 'McCrie, Mr. James Matthew' 'Compton, Mr. Alexander Taylor Jr'\n",
            " 'Marvin, Mrs. Daniel Warner (Mary Graham Carmichael Farquarson)'\n",
            " 'Lane, Mr. Patrick'\n",
            " 'Douglas, Mrs. Frederick Charles (Mary Helene Baxter)'\n",
            " 'Maybery, Mr. Frank Hubert' 'Phillips, Miss. Alice Frances Louisa'\n",
            " 'Davies, Mr. Joseph' 'Sage, Miss. Ada' 'Veal, Mr. James'\n",
            " 'Angle, Mr. William A' 'Salomon, Mr. Abraham L'\n",
            " 'van Billiard, Master. Walter John' 'Lingane, Mr. John'\n",
            " 'Drew, Master. Marshall Brines' 'Karlsson, Mr. Julius Konrad Eugen'\n",
            " 'Spedden, Master. Robert Douglas' 'Nilsson, Miss. Berta Olivia'\n",
            " 'Baimbrigge, Mr. Charles Robert'\n",
            " 'Rasmussen, Mrs. (Lena Jacobsen Solvang)' 'Murphy, Miss. Nora'\n",
            " 'Danbom, Master. Gilbert Sigvard Emanuel' 'Astor, Col. John Jacob'\n",
            " 'Quick, Miss. Winifred Vera' 'Andrew, Mr. Frank Thomas'\n",
            " 'Omont, Mr. Alfred Fernand' 'McGowan, Miss. Katherine'\n",
            " 'Collett, Mr. Sidney C Stuart' 'Rosenbaum, Miss. Edith Louise'\n",
            " 'Delalic, Mr. Redjo' 'Andersen, Mr. Albert Karvin' 'Finoli, Mr. Luigi'\n",
            " 'Deacon, Mr. Percy William'\n",
            " 'Howard, Mrs. Benjamin (Ellen Truelove Arman)'\n",
            " 'Andersson, Miss. Ida Augusta Margareta' 'Head, Mr. Christopher'\n",
            " 'Mahon, Miss. Bridget Delia' 'Wick, Mr. George Dennick'\n",
            " 'Widener, Mrs. George Dunton (Eleanor Elkins)'\n",
            " 'Thomson, Mr. Alexander Morrison' 'Duran y More, Miss. Florentina'\n",
            " 'Reynolds, Mr. Harold J' 'Cook, Mrs. (Selena Rogers)'\n",
            " 'Karlsson, Mr. Einar Gervasius'\n",
            " 'Candee, Mrs. Edward (Helen Churchill Hungerford)'\n",
            " 'Moubarek, Mrs. George (Omine Amenia\" Alexander)\"'\n",
            " 'Asplund, Mr. Johan Charles' 'McNeill, Miss. Bridget'\n",
            " 'Everett, Mr. Thomas James' 'Hocking, Mr. Samuel James Metcalfe'\n",
            " 'Sweet, Mr. George Frederick' 'Willard, Miss. Constance'\n",
            " 'Wiklund, Mr. Karl Johan' 'Linehan, Mr. Michael'\n",
            " 'Cumings, Mr. John Bradley' 'Vendel, Mr. Olof Edvin'\n",
            " 'Warren, Mr. Frank Manley' 'Baccos, Mr. Raffull' 'Hiltunen, Miss. Marta'\n",
            " 'Douglas, Mrs. Walter Donald (Mahala Dutton)'\n",
            " 'Lindstrom, Mrs. Carl Johan (Sigrid Posse)'\n",
            " 'Christy, Mrs. (Alice Frances)' 'Spedden, Mr. Frederic Oakley'\n",
            " 'Hyman, Mr. Abraham' 'Johnston, Master. William Arthur Willie\"\"'\n",
            " 'Kenyon, Mr. Frederick R' 'Karnes, Mrs. J Frank (Claire Bennett)'\n",
            " 'Drew, Mr. James Vivian' 'Hold, Mrs. Stephen (Annie Margaret Hill)'\n",
            " 'Khalil, Mrs. Betros (Zahie Maria\" Elias)\"' 'West, Miss. Barbara J'\n",
            " 'Abrahamsson, Mr. Abraham August Johannes' 'Clark, Mr. Walter Miller'\n",
            " 'Salander, Mr. Karl Johan' 'Wenzel, Mr. Linhart'\n",
            " 'MacKay, Mr. George William' 'Mahon, Mr. John' 'Niklasson, Mr. Samuel'\n",
            " 'Bentham, Miss. Lilian W' 'Midtsjo, Mr. Karl Albert'\n",
            " 'de Messemaeker, Mr. Guillaume Joseph' 'Nilsson, Mr. August Ferdinand'\n",
            " 'Wells, Mrs. Arthur Henry (Addie\" Dart Trevaskis)\"'\n",
            " 'Klasen, Miss. Gertrud Emilia' 'Portaluppi, Mr. Emilio Ilario Giuseppe'\n",
            " 'Lyntakoff, Mr. Stanko' 'Chisholm, Mr. Roderick Robert Crispin'\n",
            " 'Warren, Mr. Charles William' 'Howard, Miss. May Elizabeth'\n",
            " 'Pokrnic, Mr. Mate' 'McCaffry, Mr. Thomas Francis' 'Fox, Mr. Patrick'\n",
            " 'Clark, Mrs. Walter Miller (Virginia McDowell)' 'Lennon, Miss. Mary'\n",
            " 'Saade, Mr. Jean Nassr' 'Bryhl, Miss. Dagmar Jenny Ingeborg '\n",
            " 'Parker, Mr. Clifford Richard' 'Faunthorpe, Mr. Harry'\n",
            " 'Ware, Mr. John James' 'Oxenham, Mr. Percy Thomas'\n",
            " 'Oreskovic, Miss. Jelka' 'Peacock, Master. Alfred Edward'\n",
            " 'Fleming, Miss. Honora' 'Touma, Miss. Maria Youssef'\n",
            " 'Rosblom, Miss. Salli Helena' 'Dennis, Mr. William'\n",
            " 'Franklin, Mr. Charles (Charles Fardon)' 'Snyder, Mr. John Pillsbury'\n",
            " 'Mardirosian, Mr. Sarkis' 'Ford, Mr. Arthur'\n",
            " 'Rheims, Mr. George Alexander Lucien'\n",
            " 'Daly, Miss. Margaret Marcella Maggie\"\"' 'Nasr, Mr. Mustafa'\n",
            " 'Dodge, Dr. Washington' 'Wittevrongel, Mr. Camille'\n",
            " 'Angheloff, Mr. Minko' 'Laroche, Miss. Louise' 'Samaan, Mr. Hanna'\n",
            " 'Loring, Mr. Joseph Holland' 'Johansson, Mr. Nils'\n",
            " 'Olsson, Mr. Oscar Wilhelm' 'Malachard, Mr. Noel'\n",
            " 'Phillips, Mr. Escott Robert' 'Pokrnic, Mr. Tome'\n",
            " 'McCarthy, Miss. Catherine Katie\"\"'\n",
            " 'Crosby, Mrs. Edward Gifford (Catherine Elizabeth Halstead)'\n",
            " 'Allison, Mr. Hudson Joshua Creighton' 'Aks, Master. Philip Frank'\n",
            " 'Hays, Mr. Charles Melville' 'Hansen, Mrs. Claus Peter (Jennie L Howard)'\n",
            " 'Cacic, Mr. Jego Grga' 'Vartanian, Mr. David' 'Sadowitz, Mr. Harry'\n",
            " 'Carr, Miss. Jeannie' 'White, Mrs. John Stuart (Ella Holmes)'\n",
            " 'Hagardon, Miss. Kate' 'Spencer, Mr. William Augustus'\n",
            " 'Rogers, Mr. Reginald Harry' 'Jonsson, Mr. Nils Hilding'\n",
            " 'Jefferys, Mr. Ernest Wilfred' 'Andersson, Mr. Johan Samuel'\n",
            " 'Krekorian, Mr. Neshan' 'Nesson, Mr. Israel' 'Rowe, Mr. Alfred G'\n",
            " 'Kreuchen, Miss. Emilie' 'Assam, Mr. Ali' 'Becker, Miss. Ruth Elizabeth'\n",
            " 'Rosenshine, Mr. George (Mr George Thorne\")\"'\n",
            " 'Clarke, Mr. Charles Valentine' 'Enander, Mr. Ingvar'\n",
            " 'Davies, Mrs. John Morgan (Elizabeth Agnes Mary White) '\n",
            " 'Dulles, Mr. William Crothers' 'Thomas, Mr. Tannous'\n",
            " 'Nakid, Mrs. Said (Waika Mary\" Mowad)\"' 'Cor, Mr. Ivan'\n",
            " 'Maguire, Mr. John Edward' 'de Brito, Mr. Jose Joaquim'\n",
            " 'Elias, Mr. Joseph' 'Denbury, Mr. Herbert' 'Betros, Master. Seman'\n",
            " 'Fillbrook, Mr. Joseph Charles' 'Lundstrom, Mr. Thure Edvin'\n",
            " 'Sage, Mr. John George'\n",
            " 'Cardeza, Mrs. James Warburton Martinez (Charlotte Wardle Drake)'\n",
            " 'van Billiard, Master. James William' 'Abelseth, Miss. Karen Marie'\n",
            " 'Botsford, Mr. William Hull'\n",
            " 'Whabee, Mrs. George Joseph (Shawneene Abi-Saab)' 'Giles, Mr. Ralph'\n",
            " 'Walcroft, Miss. Nellie' 'Greenfield, Mrs. Leo David (Blanche Strouse)'\n",
            " 'Stokes, Mr. Philip Joseph' 'Dibden, Mr. William' 'Herman, Mr. Samuel'\n",
            " 'Dean, Miss. Elizabeth Gladys Millvina\"\"' 'Julian, Mr. Henry Forbes'\n",
            " 'Brown, Mrs. John Murray (Caroline Lane Lamson)' 'Lockyer, Mr. Edward'\n",
            " \"O'Keefe, Mr. Patrick\"\n",
            " 'Lindell, Mrs. Edvard Bengtsson (Elin Gerda Persson)'\n",
            " 'Sage, Master. William Henry' 'Mallet, Mrs. Albert (Antoinette Magnin)'\n",
            " 'Ware, Mrs. John James (Florence Louise Long)' 'Strilic, Mr. Ivan'\n",
            " 'Harder, Mrs. George Achilles (Dorothy Annan)'\n",
            " 'Sage, Mrs. John (Annie Bullen)' 'Caram, Mr. Joseph'\n",
            " 'Riihivouri, Miss. Susanna Juhantytar Sanni\"\"'\n",
            " 'Gibson, Mrs. Leonard (Pauline C Boeson)' 'Pallas y Castello, Mr. Emilio'\n",
            " 'Giles, Mr. Edgar' 'Wilson, Miss. Helen Alice' 'Ismay, Mr. Joseph Bruce'\n",
            " 'Harbeck, Mr. William H' 'Dodge, Mrs. Washington (Ruth Vidaver)'\n",
            " 'Bowen, Miss. Grace Scott' 'Kink, Miss. Maria'\n",
            " 'Cotterill, Mr. Henry Harry\"\"' 'Hipkins, Mr. William Edward'\n",
            " 'Asplund, Master. Carl Edgar' \"O'Connor, Mr. Patrick\" 'Foley, Mr. Joseph'\n",
            " 'Risien, Mrs. Samuel (Emma)' \"McNamee, Mrs. Neal (Eileen O'Leary)\"\n",
            " 'Wheeler, Mr. Edwin Frederick\"\"' 'Herman, Miss. Kate'\n",
            " 'Aronsson, Mr. Ernst Axel Algot' 'Ashby, Mr. John' 'Canavan, Mr. Patrick'\n",
            " 'Palsson, Master. Paul Folke' 'Payne, Mr. Vivian Ponsonby'\n",
            " 'Lines, Mrs. Ernest H (Elizabeth Lindsey James)'\n",
            " 'Abbott, Master. Eugene Joseph' 'Gilbert, Mr. William'\n",
            " 'Kink-Heilmann, Mr. Anton'\n",
            " 'Smith, Mrs. Lucien Philip (Mary Eloise Hughes)' 'Colbert, Mr. Patrick'\n",
            " 'Frolicher-Stehli, Mrs. Maxmillian (Margaretha Emerentia Stehli)'\n",
            " 'Larsson-Rondberg, Mr. Edvard A' 'Conlon, Mr. Thomas Henry'\n",
            " 'Bonnell, Miss. Caroline' 'Gale, Mr. Harry'\n",
            " 'Gibson, Miss. Dorothy Winifred' 'Carrau, Mr. Jose Pedro'\n",
            " 'Frauenthal, Mr. Isaac Gerald'\n",
            " 'Nourney, Mr. Alfred (Baron von Drachstedt\")\"'\n",
            " 'Ware, Mr. William Jeffery' 'Widener, Mr. George Dunton'\n",
            " 'Riordan, Miss. Johanna Hannah\"\"' 'Peacock, Miss. Treasteall'\n",
            " 'Naughton, Miss. Hannah'\n",
            " 'Minahan, Mrs. William Edward (Lillian E Thorpe)'\n",
            " 'Henriksson, Miss. Jenny Lovisa' 'Spector, Mr. Woolf'\n",
            " 'Oliva y Ocana, Dona. Fermina' 'Saether, Mr. Simon Sivertsen'\n",
            " 'Ware, Mr. Frederick' 'Peter, Master. Michael J']\n",
            "                                                                           \n",
            "***************************************************************************\n",
            "Unique values in Sex are :\n",
            "['male' 'female']\n",
            "                                                                           \n",
            "***************************************************************************\n",
            "Unique values in Age are :\n",
            "[34.5  47.   62.   27.   22.   14.   30.   26.   18.   21.   46.   23.\n",
            " 63.   24.   35.   45.   55.    9.   48.   50.   22.5  41.   33.   18.5\n",
            " 25.   39.   60.   36.   20.   28.   10.   17.   32.   13.   31.   29.\n",
            " 28.5  32.5   6.   67.   49.    2.   76.   43.   16.    1.   12.   42.\n",
            " 53.   26.5  40.   61.   60.5   7.   15.   54.   64.   37.   34.   11.5\n",
            "  8.    0.33 38.   57.   40.5   0.92 19.   36.5   0.75  0.83 58.    0.17\n",
            " 59.   14.5  44.    5.   51.    3.   38.5 ]\n",
            "                                                                           \n",
            "***************************************************************************\n",
            "Unique values in SibSp are :\n",
            "[0 1 2 3 4 5 8]\n",
            "                                                                           \n",
            "***************************************************************************\n",
            "Unique values in Parch are :\n",
            "[0 1 3 2 4 6 5 9]\n",
            "                                                                           \n",
            "***************************************************************************\n",
            "Unique values in Ticket are :\n",
            "['330911' '363272' '240276' '315154' '3101298' '7538' '330972' '248738'\n",
            " '2657' 'A/4 48871' '349220' '694' '21228' '24065' 'W.E.P. 5734'\n",
            " 'SC/PARIS 2167' '233734' '2692' 'STON/O2. 3101270' '2696' 'PC 17603'\n",
            " 'C 17368' 'PC 17598' 'PC 17597' 'PC 17608' 'A/5. 3337' '113509' '2698'\n",
            " '113054' '2662' 'SC/AH 3085' 'C.A. 31029' 'C.A. 2315' 'W./C. 6607'\n",
            " '13236' '2682' '342712' '315087' '345768' '1601' '349256' '113778'\n",
            " 'SOTON/O.Q. 3101263' '237249' '11753' 'STON/O 2. 3101291' 'PC 17594'\n",
            " '370374' '11813' 'C.A. 37671' '13695' 'SC/PARIS 2168' '29105' '19950'\n",
            " 'SC/A.3 2861' '382652' '349230' '348122' '386525' '349232' '237216'\n",
            " '347090' '334914' 'F.C.C. 13534' '330963' '113796' '2543' '382653'\n",
            " '349211' '3101297' 'PC 17562' '113503' '359306' '11770' '248744' '368702'\n",
            " '2678' 'PC 17483' '19924' '349238' '240261' '2660' '330844' 'A/4 31416'\n",
            " '364856' '29103' '347072' '345498' 'F.C. 12750' '376563' '13905' '350033'\n",
            " '19877' 'STON/O 2. 3101268' '347471' 'A./5. 3338' '11778' '228414'\n",
            " '365235' '347070' '2625' 'C 4001' '330920' '383162' '3410' '248734'\n",
            " '237734' '330968' 'PC 17531' '329944' '2680' '2681' 'PP 9549' '13050'\n",
            " 'SC/AH 29037' 'C.A. 33595' '367227' '392095' '368783' '371362' '350045'\n",
            " '367226' '211535' '342441' 'STON/OQ. 369943' '113780' '4133' '2621'\n",
            " '349226' '350409' '2656' '248659' 'SOTON/OQ 392083' 'CA 2144' '113781'\n",
            " '244358' '17475' '345763' '17463' 'SC/A4 23568' '113791' '250651' '11767'\n",
            " '349255' '3701' '350405' '347077' 'S.O./P.P. 752' '347469' '110489'\n",
            " 'SOTON/O.Q. 3101315' '335432' '2650' '220844' '343271' '237393' '315153'\n",
            " 'PC 17591' 'W./C. 6608' '17770' '7548' 'S.O./P.P. 251' '2670' '2673'\n",
            " '29750' 'C.A. 33112' '230136' 'PC 17756' '233478' '113773' '7935'\n",
            " 'PC 17558' '239059' 'S.O./P.P. 2' 'A/4 48873' 'CA. 2343' '28221' '226875'\n",
            " '111163' 'A/5. 851' '235509' '28220' '347465' '16966' '347066'\n",
            " 'C.A. 31030' '65305' '36568' '347080' 'PC 17757' '26360' 'C.A. 34050'\n",
            " 'F.C. 12998' '9232' '28034' 'PC 17613' '349250' 'SOTON/O.Q. 3101308'\n",
            " 'S.O.C. 14879' '347091' '113038' '330924' '36928' '32302' 'SC/PARIS 2148'\n",
            " '342684' 'W./C. 14266' '350053' 'PC 17606' '2661' '350054' '370368'\n",
            " 'C.A. 6212' '242963' '220845' '113795' '3101266' '330971' 'PC 17599'\n",
            " '350416' '110813' '2679' '250650' 'PC 17761' '112377' '237789' '3470'\n",
            " '17464' '26707' 'C.A. 34651' 'SOTON/O2 3101284' '13508' '7266' '345775'\n",
            " 'C.A. 42795' 'AQ/4 3130' '363611' '28404' '345501' '345572' '350410'\n",
            " 'C.A. 34644' '349235' '112051' 'C.A. 49867' 'A. 2. 39186' '315095'\n",
            " '368573' '370371' '2676' '236853' 'SC 14888' '2926' 'CA 31352'\n",
            " 'W./C. 14260' '315085' '364859' '370129' 'A/5 21175' 'SOTON/O.Q. 3101314'\n",
            " '2655' 'A/5 1478' 'PC 17607' '382650' '2652' '33638' '345771' '349202'\n",
            " 'SC/Paris 2123' '113801' '347467' '347079' '237735' '315092' '383123'\n",
            " '112901' '392091' '12749' '350026' '315091' '2658' 'LP 1588' '368364'\n",
            " 'PC 17760' 'AQ/3. 30631' 'PC 17569' '28004' '350408' '347075' '2654'\n",
            " '244368' '113790' '24160' 'SOTON/O.Q. 3101309' 'PC 17585' '2003' '236854'\n",
            " 'PC 17580' '2684' '2653' '349229' '110469' '244360' '2675' '2622'\n",
            " 'C.A. 15185' '350403' 'PC 17755' '348125' '237670' '2688' '248726'\n",
            " 'F.C.C. 13528' 'PC 17759' 'F.C.C. 13540' '113044' '11769' '1222' '368402'\n",
            " '349910' 'S.C./PARIS 2079' '315083' '11765' '2689' '3101295' '112378'\n",
            " 'SC/PARIS 2147' '28133' '112058' '248746' '315152' '29107' '680' '366713'\n",
            " '330910' '364498' '376566' 'SC/PARIS 2159' '349911' '244346' '364858'\n",
            " '349909' 'PC 17592' 'C.A. 2673' 'C.A. 30769' '371109' '13567' '347065'\n",
            " '21332' '28664' '113059' '17765' 'SC/PARIS 2166' '28666' '334915'\n",
            " '365237' '19928' '347086' 'A.5. 3236' 'PC 17758' 'SOTON/O.Q. 3101262'\n",
            " '359309' '2668']\n",
            "                                                                           \n",
            "***************************************************************************\n",
            "Unique values in Fare are :\n",
            "[  7.8292   7.       9.6875   8.6625  12.2875   9.225    7.6292  29.\n",
            "   7.2292  24.15     7.8958  26.      82.2667  61.175   27.7208  12.35\n",
            "   7.225    7.925   59.4      3.1708  31.6833  61.3792 262.375   14.5\n",
            "  61.9792  30.5     21.6792  31.5     20.575   23.45    57.75     8.05\n",
            "   9.5     56.4958  13.4167  26.55     7.85    13.      52.5542  29.7\n",
            "   7.75    76.2917  15.9     60.      15.0333  23.     263.      15.5792\n",
            "  29.125    7.65    16.1     13.5      7.725   21.       7.8792  42.4\n",
            "  28.5375 211.5     25.7     15.2458 221.7792  10.7083  14.4542  13.9\n",
            "   7.775   52.       7.7958  78.85     7.8542  55.4417   8.5167  22.525\n",
            "   7.8208   8.7125  15.0458   7.7792  31.6792   7.2833   6.4375  16.7\n",
            "  75.2417  15.75     7.25    23.25    28.5     25.4667  46.9    151.55\n",
            "  18.      51.8625  83.1583  12.1833  31.3875   7.55    13.775    7.7333\n",
            "  22.025   50.4958  34.375    8.9625  39.      36.75    53.1    247.5208\n",
            "  16.      69.55    32.5    134.5     10.5      8.1125  15.5     14.4\n",
            " 227.525   25.7417   7.05    73.5     42.5    164.8667  13.8583  27.4458\n",
            "  15.1     65.       6.4958  71.2833  75.25   106.425   30.       7.8875\n",
            "  27.75   136.7792   9.325   17.4     12.7375   0.      20.2125  39.6\n",
            "   6.95    81.8583  41.5792  45.5      9.35    93.5     14.1083   7.575\n",
            " 135.6333 146.5208 211.3375  79.2     15.7417   7.5792 512.3292  63.3583\n",
            "  51.4792  15.55    37.0042  14.4583  39.6875  11.5     50.      12.875\n",
            "  21.075   39.4     20.25    47.1     13.8625   7.7208  90.     108.9\n",
            "  22.3583]\n",
            "                                                                           \n",
            "***************************************************************************\n",
            "Unique values in Embarked are :\n",
            "['Q' 'S' 'C']\n",
            "                                                                           \n",
            "***************************************************************************\n"
          ]
        }
      ]
    },
    {
      "cell_type": "code",
      "source": [
        "test_clean.columns"
      ],
      "metadata": {
        "colab": {
          "base_uri": "https://localhost:8080/"
        },
        "id": "D58VT8urQtvZ",
        "outputId": "f6730398-49c9-4703-999c-ad5c9a35bad2"
      },
      "execution_count": null,
      "outputs": [
        {
          "output_type": "execute_result",
          "data": {
            "text/plain": [
              "Index(['PassengerId', 'Pclass', 'Name', 'Sex', 'Age', 'SibSp', 'Parch',\n",
              "       'Ticket', 'Fare', 'Embarked'],\n",
              "      dtype='object')"
            ]
          },
          "metadata": {},
          "execution_count": 532
        }
      ]
    },
    {
      "cell_type": "code",
      "source": [
        "# We will check for outliers in our numerical variables\n",
        "numerical = ['PassengerId', 'Pclass', 'Age', 'SibSp',\n",
        "       'Parch', 'Fare']\n",
        "for i in numerical:\n",
        "  fig = plt.figure(figsize = (10,7))\n",
        "  plt.boxplot(test_clean[i])\n",
        "  plt.title(i)\n",
        "  plt.show()"
      ],
      "metadata": {
        "colab": {
          "base_uri": "https://localhost:8080/",
          "height": 1000
        },
        "id": "7Sjx4eTsQsed",
        "outputId": "7a523a11-7ff9-4c5e-9335-55dcb2df9405"
      },
      "execution_count": null,
      "outputs": [
        {
          "output_type": "display_data",
          "data": {
            "image/png": "[encoded data removed]",
            "text/plain": [
              "<Figure size 720x504 with 1 Axes>"
            ]
          },
          "metadata": {
            "needs_background": "light"
          }
        },
        {
          "output_type": "display_data",
          "data": {
            "image/png": "[encoded data removed]",
            "text/plain": [
              "<Figure size 720x504 with 1 Axes>"
            ]
          },
          "metadata": {
            "needs_background": "light"
          }
        },
        {
          "output_type": "display_data",
          "data": {
            "image/png": "[encoded data removed]",
            "text/plain": [
              "<Figure size 720x504 with 1 Axes>"
            ]
          },
          "metadata": {
            "needs_background": "light"
          }
        },
        {
          "output_type": "display_data",
          "data": {
            "image/png": "[encoded data removed]",
            "text/plain": [
              "<Figure size 720x504 with 1 Axes>"
            ]
          },
          "metadata": {
            "needs_background": "light"
          }
        },
        {
          "output_type": "display_data",
          "data": {
            "image/png": "[encoded data removed]",
            "text/plain": [
              "<Figure size 720x504 with 1 Axes>"
            ]
          },
          "metadata": {
            "needs_background": "light"
          }
        },
        {
          "output_type": "display_data",
          "data": {
            "image/png": "[encoded data removed]",
            "text/plain": [
              "<Figure size 720x504 with 1 Axes>"
            ]
          },
          "metadata": {
            "needs_background": "light"
          }
        }
      ]
    },
    {
      "cell_type": "markdown",
      "source": [
        "There is presence of outliers in Age, SibSp, Parch and Fare variables "
      ],
      "metadata": {
        "id": "vyaFPqjtRI6m"
      }
    },
    {
      "cell_type": "markdown",
      "source": [
        "## Exploratory Data Analysis"
      ],
      "metadata": {
        "id": "qFZmxFWRS9nf"
      }
    },
    {
      "cell_type": "markdown",
      "source": [
        "## Univariate Analysis"
      ],
      "metadata": {
        "id": "nqLDxVNDTOvo"
      }
    },
    {
      "cell_type": "markdown",
      "source": [
        "## Train Dataset"
      ],
      "metadata": {
        "id": "8pJ50RpRTTCk"
      }
    },
    {
      "cell_type": "code",
      "source": [
        "# Bar charts on Surived, Pclass, Sex and Embarked\n",
        "bar = ['Survived', 'Pclass', 'Sex', 'Embarked']\n",
        "for i in bar:\n",
        "  plt.figure(figsize = (10,10))\n",
        "  train_clean.groupby(i).size().plot(kind='bar', color= 'green')\n",
        "  plt.title(i)\n",
        "  plt.ylabel('Total')\n",
        "  plt.xlabel(i)\n",
        "  plt.show()"
      ],
      "metadata": {
        "colab": {
          "base_uri": "https://localhost:8080/",
          "height": 1000
        },
        "id": "QXd5EG0PRUkD",
        "outputId": "47da0944-5266-422e-dac7-eb60987ffbe9"
      },
      "execution_count": null,
      "outputs": [
        {
          "output_type": "display_data",
          "data": {
            "image/png": "[encoded data removed]",
            "text/plain": [
              "<Figure size 720x720 with 1 Axes>"
            ]
          },
          "metadata": {
            "needs_background": "light"
          }
        },
        {
          "output_type": "display_data",
          "data": {
            "image/png": "[encoded data removed]",
            "text/plain": [
              "<Figure size 720x720 with 1 Axes>"
            ]
          },
          "metadata": {
            "needs_background": "light"
          }
        },
        {
          "output_type": "display_data",
          "data": {
            "image/png": "[encoded data removed]",
            "text/plain": [
              "<Figure size 720x720 with 1 Axes>"
            ]
          },
          "metadata": {
            "needs_background": "light"
          }
        },
        {
          "output_type": "display_data",
          "data": {
            "image/png": "[encoded data removed]",
            "text/plain": [
              "<Figure size 720x720 with 1 Axes>"
            ]
          },
          "metadata": {
            "needs_background": "light"
          }
        }
      ]
    },
    {
      "cell_type": "markdown",
      "source": [
        "Most passengers:\n",
        "\n",
        "\n",
        "1.   did not survive\n",
        "2.   were in third class\n",
        "3.   were male\n",
        "4.   embarked from port of Southhamptom\n",
        "\n"
      ],
      "metadata": {
        "id": "E7VDtyXrWKNX"
      }
    },
    {
      "cell_type": "code",
      "source": [
        "# Frequency tables\n",
        "frequency  = ['Age', 'SibSp','Parch', 'Fare']\n",
        "for i in frequency:\n",
        "  print('Frequency table of', i)\n",
        "  count = train_clean[i].value_counts().head()\n",
        "  print(count)\n",
        "  print('**********************************************************')\n",
        "  print('                                                          ')\n"
      ],
      "metadata": {
        "colab": {
          "base_uri": "https://localhost:8080/"
        },
        "id": "F6PgVRN2WhkR",
        "outputId": "9c85f4e4-1e5e-4a35-f774-3e6ba6ebfe41"
      },
      "execution_count": null,
      "outputs": [
        {
          "output_type": "stream",
          "name": "stdout",
          "text": [
            "Frequency table of Age\n",
            "28.0    202\n",
            "24.0     30\n",
            "22.0     27\n",
            "18.0     26\n",
            "19.0     25\n",
            "Name: Age, dtype: int64\n",
            "**********************************************************\n",
            "                                                          \n",
            "Frequency table of SibSp\n",
            "0    608\n",
            "1    209\n",
            "2     28\n",
            "4     18\n",
            "3     16\n",
            "Name: SibSp, dtype: int64\n",
            "**********************************************************\n",
            "                                                          \n",
            "Frequency table of Parch\n",
            "0    678\n",
            "1    118\n",
            "2     80\n",
            "5      5\n",
            "3      5\n",
            "Name: Parch, dtype: int64\n",
            "**********************************************************\n",
            "                                                          \n",
            "Frequency table of Fare\n",
            "8.0500     43\n",
            "13.0000    42\n",
            "7.8958     38\n",
            "7.7500     34\n",
            "26.0000    31\n",
            "Name: Fare, dtype: int64\n",
            "**********************************************************\n",
            "                                                          \n"
          ]
        }
      ]
    },
    {
      "cell_type": "markdown",
      "source": [
        "Most passengers:\n",
        "\n",
        "\n",
        "1.   were 28.0 years old\n",
        "2.   did not have family travelling with them\n",
        "3.   paid 8.0500 as fare\n",
        "\n"
      ],
      "metadata": {
        "id": "3GmJyJNfZWup"
      }
    },
    {
      "cell_type": "code",
      "source": [
        "# Histograms of our dataframe\n",
        "train_clean.hist(figsize=(20,20), xrot= -45, color = 'green')\n",
        "plt.show()"
      ],
      "metadata": {
        "colab": {
          "base_uri": "https://localhost:8080/",
          "height": 1000
        },
        "id": "pIuyDEL_ZnTS",
        "outputId": "7906f166-dbfd-43b8-9b6f-882046d3e61f"
      },
      "execution_count": null,
      "outputs": [
        {
          "output_type": "display_data",
          "data": {
            "image/png": "[encoded data removed]",
            "text/plain": [
              "<Figure size 1440x1440 with 9 Axes>"
            ]
          },
          "metadata": {
            "needs_background": "light"
          }
        }
      ]
    },
    {
      "cell_type": "code",
      "source": [
        "# Checking the mean, standard deviation and quantiles of our dataframe\n",
        "train_clean.describe()"
      ],
      "metadata": {
        "colab": {
          "base_uri": "https://localhost:8080/",
          "height": 300
        },
        "id": "cbf9JreeZ7UR",
        "outputId": "ef8602c5-6451-4cb7-bd4a-e028c0118605"
      },
      "execution_count": null,
      "outputs": [
        {
          "output_type": "execute_result",
          "data": {
            "text/html": [
              "\n",
              "  <div id=\"df-2a9a1766-e7fb-42da-a4f7-cb0ee5c82c89\">\n",
              "    <div class=\"colab-df-container\">\n",
              "      <div>\n",
              "<style scoped>\n",
              "    .dataframe tbody tr th:only-of-type {\n",
              "        vertical-align: middle;\n",
              "    }\n",
              "\n",
              "    .dataframe tbody tr th {\n",
              "        vertical-align: top;\n",
              "    }\n",
              "\n",
              "    .dataframe thead th {\n",
              "        text-align: right;\n",
              "    }\n",
              "</style>\n",
              "<table border=\"1\" class=\"dataframe\">\n",
              "  <thead>\n",
              "    <tr style=\"text-align: right;\">\n",
              "      <th></th>\n",
              "      <th>PassengerId</th>\n",
              "      <th>Survived</th>\n",
              "      <th>Pclass</th>\n",
              "      <th>Age</th>\n",
              "      <th>SibSp</th>\n",
              "      <th>Parch</th>\n",
              "      <th>Fare</th>\n",
              "    </tr>\n",
              "  </thead>\n",
              "  <tbody>\n",
              "    <tr>\n",
              "      <th>count</th>\n",
              "      <td>891.000000</td>\n",
              "      <td>891.000000</td>\n",
              "      <td>891.000000</td>\n",
              "      <td>891.000000</td>\n",
              "      <td>891.000000</td>\n",
              "      <td>891.000000</td>\n",
              "      <td>891.000000</td>\n",
              "    </tr>\n",
              "    <tr>\n",
              "      <th>mean</th>\n",
              "      <td>446.000000</td>\n",
              "      <td>0.383838</td>\n",
              "      <td>2.308642</td>\n",
              "      <td>29.361582</td>\n",
              "      <td>0.523008</td>\n",
              "      <td>0.381594</td>\n",
              "      <td>32.204208</td>\n",
              "    </tr>\n",
              "    <tr>\n",
              "      <th>std</th>\n",
              "      <td>257.353842</td>\n",
              "      <td>0.486592</td>\n",
              "      <td>0.836071</td>\n",
              "      <td>13.019697</td>\n",
              "      <td>1.102743</td>\n",
              "      <td>0.806057</td>\n",
              "      <td>49.693429</td>\n",
              "    </tr>\n",
              "    <tr>\n",
              "      <th>min</th>\n",
              "      <td>1.000000</td>\n",
              "      <td>0.000000</td>\n",
              "      <td>1.000000</td>\n",
              "      <td>0.420000</td>\n",
              "      <td>0.000000</td>\n",
              "      <td>0.000000</td>\n",
              "      <td>0.000000</td>\n",
              "    </tr>\n",
              "    <tr>\n",
              "      <th>25%</th>\n",
              "      <td>223.500000</td>\n",
              "      <td>0.000000</td>\n",
              "      <td>2.000000</td>\n",
              "      <td>22.000000</td>\n",
              "      <td>0.000000</td>\n",
              "      <td>0.000000</td>\n",
              "      <td>7.910400</td>\n",
              "    </tr>\n",
              "    <tr>\n",
              "      <th>50%</th>\n",
              "      <td>446.000000</td>\n",
              "      <td>0.000000</td>\n",
              "      <td>3.000000</td>\n",
              "      <td>28.000000</td>\n",
              "      <td>0.000000</td>\n",
              "      <td>0.000000</td>\n",
              "      <td>14.454200</td>\n",
              "    </tr>\n",
              "    <tr>\n",
              "      <th>75%</th>\n",
              "      <td>668.500000</td>\n",
              "      <td>1.000000</td>\n",
              "      <td>3.000000</td>\n",
              "      <td>35.000000</td>\n",
              "      <td>1.000000</td>\n",
              "      <td>0.000000</td>\n",
              "      <td>31.000000</td>\n",
              "    </tr>\n",
              "    <tr>\n",
              "      <th>max</th>\n",
              "      <td>891.000000</td>\n",
              "      <td>1.000000</td>\n",
              "      <td>3.000000</td>\n",
              "      <td>80.000000</td>\n",
              "      <td>8.000000</td>\n",
              "      <td>6.000000</td>\n",
              "      <td>512.329200</td>\n",
              "    </tr>\n",
              "  </tbody>\n",
              "</table>\n",
              "</div>\n",
              "      <button class=\"colab-df-convert\" onclick=\"convertToInteractive('df-2a9a1766-e7fb-42da-a4f7-cb0ee5c82c89')\"\n",
              "              title=\"Convert this dataframe to an interactive table.\"\n",
              "              style=\"display:none;\">\n",
              "        \n",
              "  <svg xmlns=\"http://www.w3.org/2000/svg\" height=\"24px\"viewBox=\"0 0 24 24\"\n",
              "       width=\"24px\">\n",
              "    <path d=\"M0 0h24v24H0V0z\" fill=\"none\"/>\n",
              "    <path d=\"M18.56 5.44l.94 2.06.94-2.06 2.06-.94-2.06-.94-.94-2.06-.94 2.06-2.06.94zm-11 1L8.5 8.5l.94-2.06 2.06-.94-2.06-.94L8.5 2.5l-.94 2.06-2.06.94zm10 10l.94 2.06.94-2.06 2.06-.94-2.06-.94-.94-2.06-.94 2.06-2.06.94z\"/><path d=\"M17.41 7.96l-1.37-1.37c-.4-.4-.92-.59-1.43-.59-.52 0-1.04.2-1.43.59L10.3 9.45l-7.72 7.72c-.78.78-.78 2.05 0 2.83L4 21.41c.39.39.9.59 1.41.59.51 0 1.02-.2 1.41-.59l7.78-7.78 2.81-2.81c.8-.78.8-2.07 0-2.86zM5.41 20L4 18.59l7.72-7.72 1.47 1.35L5.41 20z\"/>\n",
              "  </svg>\n",
              "      </button>\n",
              "      \n",
              "  <style>\n",
              "    .colab-df-container {\n",
              "      display:flex;\n",
              "      flex-wrap:wrap;\n",
              "      gap: 12px;\n",
              "    }\n",
              "\n",
              "    .colab-df-convert {\n",
              "      background-color: #E8F0FE;\n",
              "      border: none;\n",
              "      border-radius: 50%;\n",
              "      cursor: pointer;\n",
              "      display: none;\n",
              "      fill: #1967D2;\n",
              "      height: 32px;\n",
              "      padding: 0 0 0 0;\n",
              "      width: 32px;\n",
              "    }\n",
              "\n",
              "    .colab-df-convert:hover {\n",
              "      background-color: #E2EBFA;\n",
              "      box-shadow: 0px 1px 2px rgba(60, 64, 67, 0.3), 0px 1px 3px 1px rgba(60, 64, 67, 0.15);\n",
              "      fill: #174EA6;\n",
              "    }\n",
              "\n",
              "    [theme=dark] .colab-df-convert {\n",
              "      background-color: #3B4455;\n",
              "      fill: #D2E3FC;\n",
              "    }\n",
              "\n",
              "    [theme=dark] .colab-df-convert:hover {\n",
              "      background-color: #434B5C;\n",
              "      box-shadow: 0px 1px 3px 1px rgba(0, 0, 0, 0.15);\n",
              "      filter: drop-shadow(0px 1px 2px rgba(0, 0, 0, 0.3));\n",
              "      fill: #FFFFFF;\n",
              "    }\n",
              "  </style>\n",
              "\n",
              "      <script>\n",
              "        const buttonEl =\n",
              "          document.querySelector('#df-2a9a1766-e7fb-42da-a4f7-cb0ee5c82c89 button.colab-df-convert');\n",
              "        buttonEl.style.display =\n",
              "          google.colab.kernel.accessAllowed ? 'block' : 'none';\n",
              "\n",
              "        async function convertToInteractive(key) {\n",
              "          const element = document.querySelector('#df-2a9a1766-e7fb-42da-a4f7-cb0ee5c82c89');\n",
              "          const dataTable =\n",
              "            await google.colab.kernel.invokeFunction('convertToInteractive',\n",
              "                                                     [key], {});\n",
              "          if (!dataTable) return;\n",
              "\n",
              "          const docLinkHtml = 'Like what you see? Visit the ' +\n",
              "            '<a target=\"_blank\" href=https://colab.research.google.com/notebooks/data_table.ipynb>data table notebook</a>'\n",
              "            + ' to learn more about interactive tables.';\n",
              "          element.innerHTML = '';\n",
              "          dataTable['output_type'] = 'display_data';\n",
              "          await google.colab.output.renderOutput(dataTable, element);\n",
              "          const docLink = document.createElement('div');\n",
              "          docLink.innerHTML = docLinkHtml;\n",
              "          element.appendChild(docLink);\n",
              "        }\n",
              "      </script>\n",
              "    </div>\n",
              "  </div>\n",
              "  "
            ],
            "text/plain": [
              "       PassengerId    Survived      Pclass  ...       SibSp       Parch        Fare\n",
              "count   891.000000  891.000000  891.000000  ...  891.000000  891.000000  891.000000\n",
              "mean    446.000000    0.383838    2.308642  ...    0.523008    0.381594   32.204208\n",
              "std     257.353842    0.486592    0.836071  ...    1.102743    0.806057   49.693429\n",
              "min       1.000000    0.000000    1.000000  ...    0.000000    0.000000    0.000000\n",
              "25%     223.500000    0.000000    2.000000  ...    0.000000    0.000000    7.910400\n",
              "50%     446.000000    0.000000    3.000000  ...    0.000000    0.000000   14.454200\n",
              "75%     668.500000    1.000000    3.000000  ...    1.000000    0.000000   31.000000\n",
              "max     891.000000    1.000000    3.000000  ...    8.000000    6.000000  512.329200\n",
              "\n",
              "[8 rows x 7 columns]"
            ]
          },
          "metadata": {},
          "execution_count": 537
        }
      ]
    },
    {
      "cell_type": "code",
      "source": [
        "# Checking the median, mode, varaince, skewness and kurtosis of our dataframe\n",
        "cols = ['Survived', 'Pclass', 'Age', 'SibSp','Parch','Fare']\n",
        "for i in cols:\n",
        "  print('The median of', i, 'is:')\n",
        "  print(train_clean[i].median())\n",
        "  print('The mode of', i, 'is:')\n",
        "  print(train_clean[i].mode())\n",
        "  print('The variance of', i, 'is:')\n",
        "  print(train_clean[i].var())\n",
        "  print('The skewness of', i, 'is:')\n",
        "  print(train_clean[i].skew())\n",
        "  print('The kurtosis of', i, 'is:')\n",
        "  print(train_clean[i].kurt())\n",
        "  print('                                    ')\n",
        "  print('************************************')"
      ],
      "metadata": {
        "colab": {
          "base_uri": "https://localhost:8080/"
        },
        "id": "E3rQ91q_aRuQ",
        "outputId": "ab3ad296-83d9-4b45-ec9e-d5780aa686cc"
      },
      "execution_count": null,
      "outputs": [
        {
          "output_type": "stream",
          "name": "stdout",
          "text": [
            "The median of Survived is:\n",
            "0.0\n",
            "The mode of Survived is:\n",
            "0    0\n",
            "dtype: int64\n",
            "The variance of Survived is:\n",
            "0.2367722165474984\n",
            "The skewness of Survived is:\n",
            "0.4785234382949897\n",
            "The kurtosis of Survived is:\n",
            "-1.775004671066304\n",
            "                                    \n",
            "************************************\n",
            "The median of Pclass is:\n",
            "3.0\n",
            "The mode of Pclass is:\n",
            "0    3\n",
            "dtype: int64\n",
            "The variance of Pclass is:\n",
            "0.6990151199889065\n",
            "The skewness of Pclass is:\n",
            "-0.6305479068752845\n",
            "The kurtosis of Pclass is:\n",
            "-1.2800149715782825\n",
            "                                    \n",
            "************************************\n",
            "The median of Age is:\n",
            "28.0\n",
            "The mode of Age is:\n",
            "0    28.0\n",
            "dtype: float64\n",
            "The variance of Age is:\n",
            "169.51249827942328\n",
            "The skewness of Age is:\n",
            "0.5102446555756495\n",
            "The kurtosis of Age is:\n",
            "0.9938710163801736\n",
            "                                    \n",
            "************************************\n",
            "The median of SibSp is:\n",
            "0.0\n",
            "The mode of SibSp is:\n",
            "0    0\n",
            "dtype: int64\n",
            "The variance of SibSp is:\n",
            "1.2160430774662894\n",
            "The skewness of SibSp is:\n",
            "3.6953517271630565\n",
            "The kurtosis of SibSp is:\n",
            "17.880419726645968\n",
            "                                    \n",
            "************************************\n",
            "The median of Parch is:\n",
            "0.0\n",
            "The mode of Parch is:\n",
            "0    0\n",
            "dtype: int64\n",
            "The variance of Parch is:\n",
            "0.6497282437357467\n",
            "The skewness of Parch is:\n",
            "2.7491170471010933\n",
            "The kurtosis of Parch is:\n",
            "9.778125179021648\n",
            "                                    \n",
            "************************************\n",
            "The median of Fare is:\n",
            "14.4542\n",
            "The mode of Fare is:\n",
            "0    8.05\n",
            "dtype: float64\n",
            "The variance of Fare is:\n",
            "2469.436845743117\n",
            "The skewness of Fare is:\n",
            "4.787316519674893\n",
            "The kurtosis of Fare is:\n",
            "33.39814088089868\n",
            "                                    \n",
            "************************************\n"
          ]
        }
      ]
    },
    {
      "cell_type": "markdown",
      "source": [
        "Skeweness\n",
        "\n",
        "\n",
        "1.   Survived variable is fairly symmetrical\n",
        "2.   Pclass variable is moderately skewed\n",
        "3.   Age variable is fairly symmetrical\n",
        "4.   SibSp variable is highly skewed\n",
        "5.   Parch variable is highly skewed\n",
        "6.   Fare variable is highly skewed\n",
        "\n",
        "\n",
        "SibSp, Parch and fare have heavier tails, an indication of presence of outliers \n",
        "\n"
      ],
      "metadata": {
        "id": "Iz1yIW8jcOq0"
      }
    },
    {
      "cell_type": "markdown",
      "source": [
        "## Bivariate Analysis"
      ],
      "metadata": {
        "id": "Y_5gIk_YdkH7"
      }
    },
    {
      "cell_type": "code",
      "source": [
        "# Assessing the likelihood of getting hypothyroidism depending on our variables \n",
        "assess = ['Pclass', 'Sex', 'Age', 'SibSp','Parch', 'Embarked']\n",
        "for i in assess:\n",
        "  survival = train_clean[(train_clean['Survived']==1)]\n",
        "  bar= survival.groupby([i])['Survived'].size().sort_values(ascending= False)\n",
        "  bar.plot(kind = 'bar', title= i, ylabel = 'Survived' , xlabel = i , figsize =(20,20) , color = 'green')\n",
        "  plt.show()"
      ],
      "metadata": {
        "colab": {
          "base_uri": "https://localhost:8080/",
          "height": 1000
        },
        "id": "GITA69o7c5ir",
        "outputId": "d2864554-b037-4461-b850-56096f2b65a9"
      },
      "execution_count": null,
      "outputs": [
        {
          "output_type": "display_data",
          "data": {
            "image/png": "[encoded data removed]",
            "text/plain": [
              "<Figure size 1440x1440 with 1 Axes>"
            ]
          },
          "metadata": {
            "needs_background": "light"
          }
        },
        {
          "output_type": "display_data",
          "data": {
            "image/png": "[encoded data removed]",
            "text/plain": [
              "<Figure size 1440x1440 with 1 Axes>"
            ]
          },
          "metadata": {
            "needs_background": "light"
          }
        },
        {
          "output_type": "display_data",
          "data": {
            "image/png": "[encoded data removed]",
            "text/plain": [
              "<Figure size 1440x1440 with 1 Axes>"
            ]
          },
          "metadata": {
            "needs_background": "light"
          }
        },
        {
          "output_type": "display_data",
          "data": {
            "image/png": "[encoded data removed]",
            "text/plain": [
              "<Figure size 1440x1440 with 1 Axes>"
            ]
          },
          "metadata": {
            "needs_background": "light"
          }
        },
        {
          "output_type": "display_data",
          "data": {
            "image/png": "[encoded data removed]",
            "text/plain": [
              "<Figure size 1440x1440 with 1 Axes>"
            ]
          },
          "metadata": {
            "needs_background": "light"
          }
        },
        {
          "output_type": "display_data",
          "data": {
            "image/png": "[encoded data removed]",
            "text/plain": [
              "<Figure size 1440x1440 with 1 Axes>"
            ]
          },
          "metadata": {
            "needs_background": "light"
          }
        }
      ]
    },
    {
      "cell_type": "markdown",
      "source": [
        "Most Survivors:\n",
        "\n",
        "\n",
        "*   were from first class\n",
        "*   were female\n",
        "*   were of the age of 28.0, 24.0, 36.0, 37.0 and 27.0\n",
        "*   travelled without family\n",
        "*   embarked from the port of Southampton\n",
        "\n",
        "\n",
        "\n"
      ],
      "metadata": {
        "id": "KOd-Ja18frUr"
      }
    },
    {
      "cell_type": "code",
      "source": [
        "# Asses correlation between our variables \n",
        "train_clean.corr()"
      ],
      "metadata": {
        "colab": {
          "base_uri": "https://localhost:8080/",
          "height": 268
        },
        "id": "hh2vlKvtgwFc",
        "outputId": "98345e77-3335-4384-c1d6-3a998c58afad"
      },
      "execution_count": null,
      "outputs": [
        {
          "output_type": "execute_result",
          "data": {
            "text/html": [
              "\n",
              "  <div id=\"df-c9354314-f712-4ecd-b212-ae9d58f1e37b\">\n",
              "    <div class=\"colab-df-container\">\n",
              "      <div>\n",
              "<style scoped>\n",
              "    .dataframe tbody tr th:only-of-type {\n",
              "        vertical-align: middle;\n",
              "    }\n",
              "\n",
              "    .dataframe tbody tr th {\n",
              "        vertical-align: top;\n",
              "    }\n",
              "\n",
              "    .dataframe thead th {\n",
              "        text-align: right;\n",
              "    }\n",
              "</style>\n",
              "<table border=\"1\" class=\"dataframe\">\n",
              "  <thead>\n",
              "    <tr style=\"text-align: right;\">\n",
              "      <th></th>\n",
              "      <th>PassengerId</th>\n",
              "      <th>Survived</th>\n",
              "      <th>Pclass</th>\n",
              "      <th>Age</th>\n",
              "      <th>SibSp</th>\n",
              "      <th>Parch</th>\n",
              "      <th>Fare</th>\n",
              "    </tr>\n",
              "  </thead>\n",
              "  <tbody>\n",
              "    <tr>\n",
              "      <th>PassengerId</th>\n",
              "      <td>1.000000</td>\n",
              "      <td>-0.005007</td>\n",
              "      <td>-0.035144</td>\n",
              "      <td>0.034212</td>\n",
              "      <td>-0.057527</td>\n",
              "      <td>-0.001652</td>\n",
              "      <td>0.012658</td>\n",
              "    </tr>\n",
              "    <tr>\n",
              "      <th>Survived</th>\n",
              "      <td>-0.005007</td>\n",
              "      <td>1.000000</td>\n",
              "      <td>-0.338481</td>\n",
              "      <td>-0.064910</td>\n",
              "      <td>-0.035322</td>\n",
              "      <td>0.081629</td>\n",
              "      <td>0.257307</td>\n",
              "    </tr>\n",
              "    <tr>\n",
              "      <th>Pclass</th>\n",
              "      <td>-0.035144</td>\n",
              "      <td>-0.338481</td>\n",
              "      <td>1.000000</td>\n",
              "      <td>-0.339898</td>\n",
              "      <td>0.083081</td>\n",
              "      <td>0.018443</td>\n",
              "      <td>-0.549500</td>\n",
              "    </tr>\n",
              "    <tr>\n",
              "      <th>Age</th>\n",
              "      <td>0.034212</td>\n",
              "      <td>-0.064910</td>\n",
              "      <td>-0.339898</td>\n",
              "      <td>1.000000</td>\n",
              "      <td>-0.233296</td>\n",
              "      <td>-0.172482</td>\n",
              "      <td>0.096688</td>\n",
              "    </tr>\n",
              "    <tr>\n",
              "      <th>SibSp</th>\n",
              "      <td>-0.057527</td>\n",
              "      <td>-0.035322</td>\n",
              "      <td>0.083081</td>\n",
              "      <td>-0.233296</td>\n",
              "      <td>1.000000</td>\n",
              "      <td>0.414838</td>\n",
              "      <td>0.159651</td>\n",
              "    </tr>\n",
              "    <tr>\n",
              "      <th>Parch</th>\n",
              "      <td>-0.001652</td>\n",
              "      <td>0.081629</td>\n",
              "      <td>0.018443</td>\n",
              "      <td>-0.172482</td>\n",
              "      <td>0.414838</td>\n",
              "      <td>1.000000</td>\n",
              "      <td>0.216225</td>\n",
              "    </tr>\n",
              "    <tr>\n",
              "      <th>Fare</th>\n",
              "      <td>0.012658</td>\n",
              "      <td>0.257307</td>\n",
              "      <td>-0.549500</td>\n",
              "      <td>0.096688</td>\n",
              "      <td>0.159651</td>\n",
              "      <td>0.216225</td>\n",
              "      <td>1.000000</td>\n",
              "    </tr>\n",
              "  </tbody>\n",
              "</table>\n",
              "</div>\n",
              "      <button class=\"colab-df-convert\" onclick=\"convertToInteractive('df-c9354314-f712-4ecd-b212-ae9d58f1e37b')\"\n",
              "              title=\"Convert this dataframe to an interactive table.\"\n",
              "              style=\"display:none;\">\n",
              "        \n",
              "  <svg xmlns=\"http://www.w3.org/2000/svg\" height=\"24px\"viewBox=\"0 0 24 24\"\n",
              "       width=\"24px\">\n",
              "    <path d=\"M0 0h24v24H0V0z\" fill=\"none\"/>\n",
              "    <path d=\"M18.56 5.44l.94 2.06.94-2.06 2.06-.94-2.06-.94-.94-2.06-.94 2.06-2.06.94zm-11 1L8.5 8.5l.94-2.06 2.06-.94-2.06-.94L8.5 2.5l-.94 2.06-2.06.94zm10 10l.94 2.06.94-2.06 2.06-.94-2.06-.94-.94-2.06-.94 2.06-2.06.94z\"/><path d=\"M17.41 7.96l-1.37-1.37c-.4-.4-.92-.59-1.43-.59-.52 0-1.04.2-1.43.59L10.3 9.45l-7.72 7.72c-.78.78-.78 2.05 0 2.83L4 21.41c.39.39.9.59 1.41.59.51 0 1.02-.2 1.41-.59l7.78-7.78 2.81-2.81c.8-.78.8-2.07 0-2.86zM5.41 20L4 18.59l7.72-7.72 1.47 1.35L5.41 20z\"/>\n",
              "  </svg>\n",
              "      </button>\n",
              "      \n",
              "  <style>\n",
              "    .colab-df-container {\n",
              "      display:flex;\n",
              "      flex-wrap:wrap;\n",
              "      gap: 12px;\n",
              "    }\n",
              "\n",
              "    .colab-df-convert {\n",
              "      background-color: #E8F0FE;\n",
              "      border: none;\n",
              "      border-radius: 50%;\n",
              "      cursor: pointer;\n",
              "      display: none;\n",
              "      fill: #1967D2;\n",
              "      height: 32px;\n",
              "      padding: 0 0 0 0;\n",
              "      width: 32px;\n",
              "    }\n",
              "\n",
              "    .colab-df-convert:hover {\n",
              "      background-color: #E2EBFA;\n",
              "      box-shadow: 0px 1px 2px rgba(60, 64, 67, 0.3), 0px 1px 3px 1px rgba(60, 64, 67, 0.15);\n",
              "      fill: #174EA6;\n",
              "    }\n",
              "\n",
              "    [theme=dark] .colab-df-convert {\n",
              "      background-color: #3B4455;\n",
              "      fill: #D2E3FC;\n",
              "    }\n",
              "\n",
              "    [theme=dark] .colab-df-convert:hover {\n",
              "      background-color: #434B5C;\n",
              "      box-shadow: 0px 1px 3px 1px rgba(0, 0, 0, 0.15);\n",
              "      filter: drop-shadow(0px 1px 2px rgba(0, 0, 0, 0.3));\n",
              "      fill: #FFFFFF;\n",
              "    }\n",
              "  </style>\n",
              "\n",
              "      <script>\n",
              "        const buttonEl =\n",
              "          document.querySelector('#df-c9354314-f712-4ecd-b212-ae9d58f1e37b button.colab-df-convert');\n",
              "        buttonEl.style.display =\n",
              "          google.colab.kernel.accessAllowed ? 'block' : 'none';\n",
              "\n",
              "        async function convertToInteractive(key) {\n",
              "          const element = document.querySelector('#df-c9354314-f712-4ecd-b212-ae9d58f1e37b');\n",
              "          const dataTable =\n",
              "            await google.colab.kernel.invokeFunction('convertToInteractive',\n",
              "                                                     [key], {});\n",
              "          if (!dataTable) return;\n",
              "\n",
              "          const docLinkHtml = 'Like what you see? Visit the ' +\n",
              "            '<a target=\"_blank\" href=https://colab.research.google.com/notebooks/data_table.ipynb>data table notebook</a>'\n",
              "            + ' to learn more about interactive tables.';\n",
              "          element.innerHTML = '';\n",
              "          dataTable['output_type'] = 'display_data';\n",
              "          await google.colab.output.renderOutput(dataTable, element);\n",
              "          const docLink = document.createElement('div');\n",
              "          docLink.innerHTML = docLinkHtml;\n",
              "          element.appendChild(docLink);\n",
              "        }\n",
              "      </script>\n",
              "    </div>\n",
              "  </div>\n",
              "  "
            ],
            "text/plain": [
              "             PassengerId  Survived    Pclass  ...     SibSp     Parch      Fare\n",
              "PassengerId     1.000000 -0.005007 -0.035144  ... -0.057527 -0.001652  0.012658\n",
              "Survived       -0.005007  1.000000 -0.338481  ... -0.035322  0.081629  0.257307\n",
              "Pclass         -0.035144 -0.338481  1.000000  ...  0.083081  0.018443 -0.549500\n",
              "Age             0.034212 -0.064910 -0.339898  ... -0.233296 -0.172482  0.096688\n",
              "SibSp          -0.057527 -0.035322  0.083081  ...  1.000000  0.414838  0.159651\n",
              "Parch          -0.001652  0.081629  0.018443  ...  0.414838  1.000000  0.216225\n",
              "Fare            0.012658  0.257307 -0.549500  ...  0.159651  0.216225  1.000000\n",
              "\n",
              "[7 rows x 7 columns]"
            ]
          },
          "metadata": {},
          "execution_count": 541
        }
      ]
    },
    {
      "cell_type": "code",
      "source": [
        "# Plot a heatmap\n",
        "# Visualisation to asses correlation \n",
        "fig, heat = plt.subplots(figsize = (10,10))\n",
        "heat = sns.heatmap(train_clean.corr(), annot = True, cmap = 'coolwarm')"
      ],
      "metadata": {
        "colab": {
          "base_uri": "https://localhost:8080/",
          "height": 596
        },
        "id": "lkNnAjG1g3Zm",
        "outputId": "59f47614-bc0d-49a3-e5d5-08d67c8f97ad"
      },
      "execution_count": null,
      "outputs": [
        {
          "output_type": "display_data",
          "data": {
            "image/png": "[encoded data removed]",
            "text/plain": [
              "<Figure size 720x720 with 2 Axes>"
            ]
          },
          "metadata": {
            "needs_background": "light"
          }
        }
      ]
    },
    {
      "cell_type": "markdown",
      "source": [
        "There is a weak positive correlation between SibSp and Parch\n",
        "\n",
        "We don't have any strong negative or positive correlation in our dataset\n",
        "\n",
        "Most of our data has no linear relationship"
      ],
      "metadata": {
        "id": "JdXlOT9NhWue"
      }
    },
    {
      "cell_type": "code",
      "source": [
        "# Plotting a pairplot of all the numerical values\n",
        "# Visualisation to asses correlation results above\n",
        "plt.figure(figsize = (7, 5), dpi=100)\n",
        "sns.pairplot(train_clean)\n",
        "plt.show()"
      ],
      "metadata": {
        "colab": {
          "base_uri": "https://localhost:8080/",
          "height": 1000
        },
        "id": "Siwxx_SVhDAT",
        "outputId": "413a7e28-f601-454b-aa15-292e3b0b8bea"
      },
      "execution_count": null,
      "outputs": [
        {
          "output_type": "display_data",
          "data": {
            "text/plain": [
              "<Figure size 700x500 with 0 Axes>"
            ]
          },
          "metadata": {}
        },
        {
          "output_type": "display_data",
          "data": {
            "image/png": "[encoded data removed]",
            "text/plain": [
              "<Figure size 1260x1260 with 56 Axes>"
            ]
          },
          "metadata": {
            "needs_background": "light"
          }
        }
      ]
    },
    {
      "cell_type": "markdown",
      "source": [
        "## Modeling "
      ],
      "metadata": {
        "id": "yHmQf_IDiQNB"
      }
    },
    {
      "cell_type": "code",
      "source": [
        "# PassengerId ,Name and Ticket number are unique values that do not influence chances of survival\n",
        "train_final = train_clean.drop(['PassengerId','Name','Ticket'], axis = 1)\n",
        "test_final =  test_clean.drop(['PassengerId','Name','Ticket'], axis = 1)"
      ],
      "metadata": {
        "id": "MzqhqqQZn503"
      },
      "execution_count": null,
      "outputs": []
    },
    {
      "cell_type": "code",
      "source": [
        "# View changes made on train dataset\n",
        "train_final.head()"
      ],
      "metadata": {
        "colab": {
          "base_uri": "https://localhost:8080/",
          "height": 206
        },
        "id": "NRFJ-AcaqIRU",
        "outputId": "8215ac31-1dd7-4a1e-ac60-5f135802f539"
      },
      "execution_count": null,
      "outputs": [
        {
          "output_type": "execute_result",
          "data": {
            "text/html": [
              "\n",
              "  <div id=\"df-0ebc89c6-a38f-457f-9fea-58fe9af251c7\">\n",
              "    <div class=\"colab-df-container\">\n",
              "      <div>\n",
              "<style scoped>\n",
              "    .dataframe tbody tr th:only-of-type {\n",
              "        vertical-align: middle;\n",
              "    }\n",
              "\n",
              "    .dataframe tbody tr th {\n",
              "        vertical-align: top;\n",
              "    }\n",
              "\n",
              "    .dataframe thead th {\n",
              "        text-align: right;\n",
              "    }\n",
              "</style>\n",
              "<table border=\"1\" class=\"dataframe\">\n",
              "  <thead>\n",
              "    <tr style=\"text-align: right;\">\n",
              "      <th></th>\n",
              "      <th>Survived</th>\n",
              "      <th>Pclass</th>\n",
              "      <th>Sex</th>\n",
              "      <th>Age</th>\n",
              "      <th>SibSp</th>\n",
              "      <th>Parch</th>\n",
              "      <th>Fare</th>\n",
              "      <th>Embarked</th>\n",
              "    </tr>\n",
              "  </thead>\n",
              "  <tbody>\n",
              "    <tr>\n",
              "      <th>0</th>\n",
              "      <td>0</td>\n",
              "      <td>3</td>\n",
              "      <td>male</td>\n",
              "      <td>22.0</td>\n",
              "      <td>1</td>\n",
              "      <td>0</td>\n",
              "      <td>7.2500</td>\n",
              "      <td>S</td>\n",
              "    </tr>\n",
              "    <tr>\n",
              "      <th>1</th>\n",
              "      <td>1</td>\n",
              "      <td>1</td>\n",
              "      <td>female</td>\n",
              "      <td>38.0</td>\n",
              "      <td>1</td>\n",
              "      <td>0</td>\n",
              "      <td>71.2833</td>\n",
              "      <td>C</td>\n",
              "    </tr>\n",
              "    <tr>\n",
              "      <th>2</th>\n",
              "      <td>1</td>\n",
              "      <td>3</td>\n",
              "      <td>female</td>\n",
              "      <td>26.0</td>\n",
              "      <td>0</td>\n",
              "      <td>0</td>\n",
              "      <td>7.9250</td>\n",
              "      <td>S</td>\n",
              "    </tr>\n",
              "    <tr>\n",
              "      <th>3</th>\n",
              "      <td>1</td>\n",
              "      <td>1</td>\n",
              "      <td>female</td>\n",
              "      <td>35.0</td>\n",
              "      <td>1</td>\n",
              "      <td>0</td>\n",
              "      <td>53.1000</td>\n",
              "      <td>S</td>\n",
              "    </tr>\n",
              "    <tr>\n",
              "      <th>4</th>\n",
              "      <td>0</td>\n",
              "      <td>3</td>\n",
              "      <td>male</td>\n",
              "      <td>35.0</td>\n",
              "      <td>0</td>\n",
              "      <td>0</td>\n",
              "      <td>8.0500</td>\n",
              "      <td>S</td>\n",
              "    </tr>\n",
              "  </tbody>\n",
              "</table>\n",
              "</div>\n",
              "      <button class=\"colab-df-convert\" onclick=\"convertToInteractive('df-0ebc89c6-a38f-457f-9fea-58fe9af251c7')\"\n",
              "              title=\"Convert this dataframe to an interactive table.\"\n",
              "              style=\"display:none;\">\n",
              "        \n",
              "  <svg xmlns=\"http://www.w3.org/2000/svg\" height=\"24px\"viewBox=\"0 0 24 24\"\n",
              "       width=\"24px\">\n",
              "    <path d=\"M0 0h24v24H0V0z\" fill=\"none\"/>\n",
              "    <path d=\"M18.56 5.44l.94 2.06.94-2.06 2.06-.94-2.06-.94-.94-2.06-.94 2.06-2.06.94zm-11 1L8.5 8.5l.94-2.06 2.06-.94-2.06-.94L8.5 2.5l-.94 2.06-2.06.94zm10 10l.94 2.06.94-2.06 2.06-.94-2.06-.94-.94-2.06-.94 2.06-2.06.94z\"/><path d=\"M17.41 7.96l-1.37-1.37c-.4-.4-.92-.59-1.43-.59-.52 0-1.04.2-1.43.59L10.3 9.45l-7.72 7.72c-.78.78-.78 2.05 0 2.83L4 21.41c.39.39.9.59 1.41.59.51 0 1.02-.2 1.41-.59l7.78-7.78 2.81-2.81c.8-.78.8-2.07 0-2.86zM5.41 20L4 18.59l7.72-7.72 1.47 1.35L5.41 20z\"/>\n",
              "  </svg>\n",
              "      </button>\n",
              "      \n",
              "  <style>\n",
              "    .colab-df-container {\n",
              "      display:flex;\n",
              "      flex-wrap:wrap;\n",
              "      gap: 12px;\n",
              "    }\n",
              "\n",
              "    .colab-df-convert {\n",
              "      background-color: #E8F0FE;\n",
              "      border: none;\n",
              "      border-radius: 50%;\n",
              "      cursor: pointer;\n",
              "      display: none;\n",
              "      fill: #1967D2;\n",
              "      height: 32px;\n",
              "      padding: 0 0 0 0;\n",
              "      width: 32px;\n",
              "    }\n",
              "\n",
              "    .colab-df-convert:hover {\n",
              "      background-color: #E2EBFA;\n",
              "      box-shadow: 0px 1px 2px rgba(60, 64, 67, 0.3), 0px 1px 3px 1px rgba(60, 64, 67, 0.15);\n",
              "      fill: #174EA6;\n",
              "    }\n",
              "\n",
              "    [theme=dark] .colab-df-convert {\n",
              "      background-color: #3B4455;\n",
              "      fill: #D2E3FC;\n",
              "    }\n",
              "\n",
              "    [theme=dark] .colab-df-convert:hover {\n",
              "      background-color: #434B5C;\n",
              "      box-shadow: 0px 1px 3px 1px rgba(0, 0, 0, 0.15);\n",
              "      filter: drop-shadow(0px 1px 2px rgba(0, 0, 0, 0.3));\n",
              "      fill: #FFFFFF;\n",
              "    }\n",
              "  </style>\n",
              "\n",
              "      <script>\n",
              "        const buttonEl =\n",
              "          document.querySelector('#df-0ebc89c6-a38f-457f-9fea-58fe9af251c7 button.colab-df-convert');\n",
              "        buttonEl.style.display =\n",
              "          google.colab.kernel.accessAllowed ? 'block' : 'none';\n",
              "\n",
              "        async function convertToInteractive(key) {\n",
              "          const element = document.querySelector('#df-0ebc89c6-a38f-457f-9fea-58fe9af251c7');\n",
              "          const dataTable =\n",
              "            await google.colab.kernel.invokeFunction('convertToInteractive',\n",
              "                                                     [key], {});\n",
              "          if (!dataTable) return;\n",
              "\n",
              "          const docLinkHtml = 'Like what you see? Visit the ' +\n",
              "            '<a target=\"_blank\" href=https://colab.research.google.com/notebooks/data_table.ipynb>data table notebook</a>'\n",
              "            + ' to learn more about interactive tables.';\n",
              "          element.innerHTML = '';\n",
              "          dataTable['output_type'] = 'display_data';\n",
              "          await google.colab.output.renderOutput(dataTable, element);\n",
              "          const docLink = document.createElement('div');\n",
              "          docLink.innerHTML = docLinkHtml;\n",
              "          element.appendChild(docLink);\n",
              "        }\n",
              "      </script>\n",
              "    </div>\n",
              "  </div>\n",
              "  "
            ],
            "text/plain": [
              "   Survived  Pclass     Sex   Age  SibSp  Parch     Fare Embarked\n",
              "0         0       3    male  22.0      1      0   7.2500        S\n",
              "1         1       1  female  38.0      1      0  71.2833        C\n",
              "2         1       3  female  26.0      0      0   7.9250        S\n",
              "3         1       1  female  35.0      1      0  53.1000        S\n",
              "4         0       3    male  35.0      0      0   8.0500        S"
            ]
          },
          "metadata": {},
          "execution_count": 545
        }
      ]
    },
    {
      "cell_type": "code",
      "source": [
        "# View changes made on test dataset\n",
        "test_final.head()"
      ],
      "metadata": {
        "colab": {
          "base_uri": "https://localhost:8080/",
          "height": 206
        },
        "id": "QLWEDab2qUyF",
        "outputId": "ec5719b6-ce7a-42df-ec2d-91715a5d5f8a"
      },
      "execution_count": null,
      "outputs": [
        {
          "output_type": "execute_result",
          "data": {
            "text/html": [
              "\n",
              "  <div id=\"df-b2c01690-fc7c-4322-9438-76cf484ad80f\">\n",
              "    <div class=\"colab-df-container\">\n",
              "      <div>\n",
              "<style scoped>\n",
              "    .dataframe tbody tr th:only-of-type {\n",
              "        vertical-align: middle;\n",
              "    }\n",
              "\n",
              "    .dataframe tbody tr th {\n",
              "        vertical-align: top;\n",
              "    }\n",
              "\n",
              "    .dataframe thead th {\n",
              "        text-align: right;\n",
              "    }\n",
              "</style>\n",
              "<table border=\"1\" class=\"dataframe\">\n",
              "  <thead>\n",
              "    <tr style=\"text-align: right;\">\n",
              "      <th></th>\n",
              "      <th>Pclass</th>\n",
              "      <th>Sex</th>\n",
              "      <th>Age</th>\n",
              "      <th>SibSp</th>\n",
              "      <th>Parch</th>\n",
              "      <th>Fare</th>\n",
              "      <th>Embarked</th>\n",
              "    </tr>\n",
              "  </thead>\n",
              "  <tbody>\n",
              "    <tr>\n",
              "      <th>0</th>\n",
              "      <td>3</td>\n",
              "      <td>male</td>\n",
              "      <td>34.5</td>\n",
              "      <td>0</td>\n",
              "      <td>0</td>\n",
              "      <td>7.8292</td>\n",
              "      <td>Q</td>\n",
              "    </tr>\n",
              "    <tr>\n",
              "      <th>1</th>\n",
              "      <td>3</td>\n",
              "      <td>female</td>\n",
              "      <td>47.0</td>\n",
              "      <td>1</td>\n",
              "      <td>0</td>\n",
              "      <td>7.0000</td>\n",
              "      <td>S</td>\n",
              "    </tr>\n",
              "    <tr>\n",
              "      <th>2</th>\n",
              "      <td>2</td>\n",
              "      <td>male</td>\n",
              "      <td>62.0</td>\n",
              "      <td>0</td>\n",
              "      <td>0</td>\n",
              "      <td>9.6875</td>\n",
              "      <td>Q</td>\n",
              "    </tr>\n",
              "    <tr>\n",
              "      <th>3</th>\n",
              "      <td>3</td>\n",
              "      <td>male</td>\n",
              "      <td>27.0</td>\n",
              "      <td>0</td>\n",
              "      <td>0</td>\n",
              "      <td>8.6625</td>\n",
              "      <td>S</td>\n",
              "    </tr>\n",
              "    <tr>\n",
              "      <th>4</th>\n",
              "      <td>3</td>\n",
              "      <td>female</td>\n",
              "      <td>22.0</td>\n",
              "      <td>1</td>\n",
              "      <td>1</td>\n",
              "      <td>12.2875</td>\n",
              "      <td>S</td>\n",
              "    </tr>\n",
              "  </tbody>\n",
              "</table>\n",
              "</div>\n",
              "      <button class=\"colab-df-convert\" onclick=\"convertToInteractive('df-b2c01690-fc7c-4322-9438-76cf484ad80f')\"\n",
              "              title=\"Convert this dataframe to an interactive table.\"\n",
              "              style=\"display:none;\">\n",
              "        \n",
              "  <svg xmlns=\"http://www.w3.org/2000/svg\" height=\"24px\"viewBox=\"0 0 24 24\"\n",
              "       width=\"24px\">\n",
              "    <path d=\"M0 0h24v24H0V0z\" fill=\"none\"/>\n",
              "    <path d=\"M18.56 5.44l.94 2.06.94-2.06 2.06-.94-2.06-.94-.94-2.06-.94 2.06-2.06.94zm-11 1L8.5 8.5l.94-2.06 2.06-.94-2.06-.94L8.5 2.5l-.94 2.06-2.06.94zm10 10l.94 2.06.94-2.06 2.06-.94-2.06-.94-.94-2.06-.94 2.06-2.06.94z\"/><path d=\"M17.41 7.96l-1.37-1.37c-.4-.4-.92-.59-1.43-.59-.52 0-1.04.2-1.43.59L10.3 9.45l-7.72 7.72c-.78.78-.78 2.05 0 2.83L4 21.41c.39.39.9.59 1.41.59.51 0 1.02-.2 1.41-.59l7.78-7.78 2.81-2.81c.8-.78.8-2.07 0-2.86zM5.41 20L4 18.59l7.72-7.72 1.47 1.35L5.41 20z\"/>\n",
              "  </svg>\n",
              "      </button>\n",
              "      \n",
              "  <style>\n",
              "    .colab-df-container {\n",
              "      display:flex;\n",
              "      flex-wrap:wrap;\n",
              "      gap: 12px;\n",
              "    }\n",
              "\n",
              "    .colab-df-convert {\n",
              "      background-color: #E8F0FE;\n",
              "      border: none;\n",
              "      border-radius: 50%;\n",
              "      cursor: pointer;\n",
              "      display: none;\n",
              "      fill: #1967D2;\n",
              "      height: 32px;\n",
              "      padding: 0 0 0 0;\n",
              "      width: 32px;\n",
              "    }\n",
              "\n",
              "    .colab-df-convert:hover {\n",
              "      background-color: #E2EBFA;\n",
              "      box-shadow: 0px 1px 2px rgba(60, 64, 67, 0.3), 0px 1px 3px 1px rgba(60, 64, 67, 0.15);\n",
              "      fill: #174EA6;\n",
              "    }\n",
              "\n",
              "    [theme=dark] .colab-df-convert {\n",
              "      background-color: #3B4455;\n",
              "      fill: #D2E3FC;\n",
              "    }\n",
              "\n",
              "    [theme=dark] .colab-df-convert:hover {\n",
              "      background-color: #434B5C;\n",
              "      box-shadow: 0px 1px 3px 1px rgba(0, 0, 0, 0.15);\n",
              "      filter: drop-shadow(0px 1px 2px rgba(0, 0, 0, 0.3));\n",
              "      fill: #FFFFFF;\n",
              "    }\n",
              "  </style>\n",
              "\n",
              "      <script>\n",
              "        const buttonEl =\n",
              "          document.querySelector('#df-b2c01690-fc7c-4322-9438-76cf484ad80f button.colab-df-convert');\n",
              "        buttonEl.style.display =\n",
              "          google.colab.kernel.accessAllowed ? 'block' : 'none';\n",
              "\n",
              "        async function convertToInteractive(key) {\n",
              "          const element = document.querySelector('#df-b2c01690-fc7c-4322-9438-76cf484ad80f');\n",
              "          const dataTable =\n",
              "            await google.colab.kernel.invokeFunction('convertToInteractive',\n",
              "                                                     [key], {});\n",
              "          if (!dataTable) return;\n",
              "\n",
              "          const docLinkHtml = 'Like what you see? Visit the ' +\n",
              "            '<a target=\"_blank\" href=https://colab.research.google.com/notebooks/data_table.ipynb>data table notebook</a>'\n",
              "            + ' to learn more about interactive tables.';\n",
              "          element.innerHTML = '';\n",
              "          dataTable['output_type'] = 'display_data';\n",
              "          await google.colab.output.renderOutput(dataTable, element);\n",
              "          const docLink = document.createElement('div');\n",
              "          docLink.innerHTML = docLinkHtml;\n",
              "          element.appendChild(docLink);\n",
              "        }\n",
              "      </script>\n",
              "    </div>\n",
              "  </div>\n",
              "  "
            ],
            "text/plain": [
              "   Pclass     Sex   Age  SibSp  Parch     Fare Embarked\n",
              "0       3    male  34.5      0      0   7.8292        Q\n",
              "1       3  female  47.0      1      0   7.0000        S\n",
              "2       2    male  62.0      0      0   9.6875        Q\n",
              "3       3    male  27.0      0      0   8.6625        S\n",
              "4       3  female  22.0      1      1  12.2875        S"
            ]
          },
          "metadata": {},
          "execution_count": 546
        }
      ]
    },
    {
      "cell_type": "code",
      "source": [
        "# Before proceeding to setting up our models \n",
        "# We will convert categorical values to numerical values\n",
        "final = train_final.replace(['male', 'female','S', 'C','Q'],[0, 1, 0, 1, 2])\n",
        "final.head()"
      ],
      "metadata": {
        "colab": {
          "base_uri": "https://localhost:8080/",
          "height": 206
        },
        "id": "wNtCKzvDyIju",
        "outputId": "62660a6f-548c-43ec-f6dd-5bf7f92302d5"
      },
      "execution_count": null,
      "outputs": [
        {
          "output_type": "execute_result",
          "data": {
            "text/html": [
              "\n",
              "  <div id=\"df-808eda32-01a7-4745-a60a-ff1827c7bde4\">\n",
              "    <div class=\"colab-df-container\">\n",
              "      <div>\n",
              "<style scoped>\n",
              "    .dataframe tbody tr th:only-of-type {\n",
              "        vertical-align: middle;\n",
              "    }\n",
              "\n",
              "    .dataframe tbody tr th {\n",
              "        vertical-align: top;\n",
              "    }\n",
              "\n",
              "    .dataframe thead th {\n",
              "        text-align: right;\n",
              "    }\n",
              "</style>\n",
              "<table border=\"1\" class=\"dataframe\">\n",
              "  <thead>\n",
              "    <tr style=\"text-align: right;\">\n",
              "      <th></th>\n",
              "      <th>Survived</th>\n",
              "      <th>Pclass</th>\n",
              "      <th>Sex</th>\n",
              "      <th>Age</th>\n",
              "      <th>SibSp</th>\n",
              "      <th>Parch</th>\n",
              "      <th>Fare</th>\n",
              "      <th>Embarked</th>\n",
              "    </tr>\n",
              "  </thead>\n",
              "  <tbody>\n",
              "    <tr>\n",
              "      <th>0</th>\n",
              "      <td>0</td>\n",
              "      <td>3</td>\n",
              "      <td>0</td>\n",
              "      <td>22.0</td>\n",
              "      <td>1</td>\n",
              "      <td>0</td>\n",
              "      <td>7.2500</td>\n",
              "      <td>0</td>\n",
              "    </tr>\n",
              "    <tr>\n",
              "      <th>1</th>\n",
              "      <td>1</td>\n",
              "      <td>1</td>\n",
              "      <td>1</td>\n",
              "      <td>38.0</td>\n",
              "      <td>1</td>\n",
              "      <td>0</td>\n",
              "      <td>71.2833</td>\n",
              "      <td>1</td>\n",
              "    </tr>\n",
              "    <tr>\n",
              "      <th>2</th>\n",
              "      <td>1</td>\n",
              "      <td>3</td>\n",
              "      <td>1</td>\n",
              "      <td>26.0</td>\n",
              "      <td>0</td>\n",
              "      <td>0</td>\n",
              "      <td>7.9250</td>\n",
              "      <td>0</td>\n",
              "    </tr>\n",
              "    <tr>\n",
              "      <th>3</th>\n",
              "      <td>1</td>\n",
              "      <td>1</td>\n",
              "      <td>1</td>\n",
              "      <td>35.0</td>\n",
              "      <td>1</td>\n",
              "      <td>0</td>\n",
              "      <td>53.1000</td>\n",
              "      <td>0</td>\n",
              "    </tr>\n",
              "    <tr>\n",
              "      <th>4</th>\n",
              "      <td>0</td>\n",
              "      <td>3</td>\n",
              "      <td>0</td>\n",
              "      <td>35.0</td>\n",
              "      <td>0</td>\n",
              "      <td>0</td>\n",
              "      <td>8.0500</td>\n",
              "      <td>0</td>\n",
              "    </tr>\n",
              "  </tbody>\n",
              "</table>\n",
              "</div>\n",
              "      <button class=\"colab-df-convert\" onclick=\"convertToInteractive('df-808eda32-01a7-4745-a60a-ff1827c7bde4')\"\n",
              "              title=\"Convert this dataframe to an interactive table.\"\n",
              "              style=\"display:none;\">\n",
              "        \n",
              "  <svg xmlns=\"http://www.w3.org/2000/svg\" height=\"24px\"viewBox=\"0 0 24 24\"\n",
              "       width=\"24px\">\n",
              "    <path d=\"M0 0h24v24H0V0z\" fill=\"none\"/>\n",
              "    <path d=\"M18.56 5.44l.94 2.06.94-2.06 2.06-.94-2.06-.94-.94-2.06-.94 2.06-2.06.94zm-11 1L8.5 8.5l.94-2.06 2.06-.94-2.06-.94L8.5 2.5l-.94 2.06-2.06.94zm10 10l.94 2.06.94-2.06 2.06-.94-2.06-.94-.94-2.06-.94 2.06-2.06.94z\"/><path d=\"M17.41 7.96l-1.37-1.37c-.4-.4-.92-.59-1.43-.59-.52 0-1.04.2-1.43.59L10.3 9.45l-7.72 7.72c-.78.78-.78 2.05 0 2.83L4 21.41c.39.39.9.59 1.41.59.51 0 1.02-.2 1.41-.59l7.78-7.78 2.81-2.81c.8-.78.8-2.07 0-2.86zM5.41 20L4 18.59l7.72-7.72 1.47 1.35L5.41 20z\"/>\n",
              "  </svg>\n",
              "      </button>\n",
              "      \n",
              "  <style>\n",
              "    .colab-df-container {\n",
              "      display:flex;\n",
              "      flex-wrap:wrap;\n",
              "      gap: 12px;\n",
              "    }\n",
              "\n",
              "    .colab-df-convert {\n",
              "      background-color: #E8F0FE;\n",
              "      border: none;\n",
              "      border-radius: 50%;\n",
              "      cursor: pointer;\n",
              "      display: none;\n",
              "      fill: #1967D2;\n",
              "      height: 32px;\n",
              "      padding: 0 0 0 0;\n",
              "      width: 32px;\n",
              "    }\n",
              "\n",
              "    .colab-df-convert:hover {\n",
              "      background-color: #E2EBFA;\n",
              "      box-shadow: 0px 1px 2px rgba(60, 64, 67, 0.3), 0px 1px 3px 1px rgba(60, 64, 67, 0.15);\n",
              "      fill: #174EA6;\n",
              "    }\n",
              "\n",
              "    [theme=dark] .colab-df-convert {\n",
              "      background-color: #3B4455;\n",
              "      fill: #D2E3FC;\n",
              "    }\n",
              "\n",
              "    [theme=dark] .colab-df-convert:hover {\n",
              "      background-color: #434B5C;\n",
              "      box-shadow: 0px 1px 3px 1px rgba(0, 0, 0, 0.15);\n",
              "      filter: drop-shadow(0px 1px 2px rgba(0, 0, 0, 0.3));\n",
              "      fill: #FFFFFF;\n",
              "    }\n",
              "  </style>\n",
              "\n",
              "      <script>\n",
              "        const buttonEl =\n",
              "          document.querySelector('#df-808eda32-01a7-4745-a60a-ff1827c7bde4 button.colab-df-convert');\n",
              "        buttonEl.style.display =\n",
              "          google.colab.kernel.accessAllowed ? 'block' : 'none';\n",
              "\n",
              "        async function convertToInteractive(key) {\n",
              "          const element = document.querySelector('#df-808eda32-01a7-4745-a60a-ff1827c7bde4');\n",
              "          const dataTable =\n",
              "            await google.colab.kernel.invokeFunction('convertToInteractive',\n",
              "                                                     [key], {});\n",
              "          if (!dataTable) return;\n",
              "\n",
              "          const docLinkHtml = 'Like what you see? Visit the ' +\n",
              "            '<a target=\"_blank\" href=https://colab.research.google.com/notebooks/data_table.ipynb>data table notebook</a>'\n",
              "            + ' to learn more about interactive tables.';\n",
              "          element.innerHTML = '';\n",
              "          dataTable['output_type'] = 'display_data';\n",
              "          await google.colab.output.renderOutput(dataTable, element);\n",
              "          const docLink = document.createElement('div');\n",
              "          docLink.innerHTML = docLinkHtml;\n",
              "          element.appendChild(docLink);\n",
              "        }\n",
              "      </script>\n",
              "    </div>\n",
              "  </div>\n",
              "  "
            ],
            "text/plain": [
              "   Survived  Pclass  Sex   Age  SibSp  Parch     Fare  Embarked\n",
              "0         0       3    0  22.0      1      0   7.2500         0\n",
              "1         1       1    1  38.0      1      0  71.2833         1\n",
              "2         1       3    1  26.0      0      0   7.9250         0\n",
              "3         1       1    1  35.0      1      0  53.1000         0\n",
              "4         0       3    0  35.0      0      0   8.0500         0"
            ]
          },
          "metadata": {},
          "execution_count": 547
        }
      ]
    },
    {
      "cell_type": "markdown",
      "source": [
        "## KNN 80-20 split"
      ],
      "metadata": {
        "id": "wbDIyOKl8G77"
      }
    },
    {
      "cell_type": "code",
      "source": [
        "# Next step is to split our data into independent and dependent variables\n",
        "X = final.drop('Survived',axis=1)\n",
        "y = final.Survived"
      ],
      "metadata": {
        "id": "y5Lo_hpH5ybW"
      },
      "execution_count": null,
      "outputs": []
    },
    {
      "cell_type": "code",
      "source": [
        "# We will split our data into 80% train , 20% test and then further split the dataframe into X train, y train, X test and y test\n",
        "from sklearn.model_selection import train_test_split\n",
        "X_train, X_test, y_train, y_test = train_test_split(X, y, test_size=0.20, random_state=1 )"
      ],
      "metadata": {
        "id": "bi-9hhwn6myr"
      },
      "execution_count": null,
      "outputs": []
    },
    {
      "cell_type": "code",
      "source": [
        "# Feature Scaling\n",
        "# Before making any actual predictions, it is always a good practice to scale the features \n",
        "# so that all of them can be uniformly evaluated.\n",
        "from sklearn.preprocessing import StandardScaler\n",
        "scaler = StandardScaler()\n",
        "scaler.fit(X_train)\n",
        "\n",
        "X_train = scaler.transform(X_train)\n",
        "X_test = scaler.transform(X_test)"
      ],
      "metadata": {
        "id": "Oq-NIBtG75l5"
      },
      "execution_count": null,
      "outputs": []
    },
    {
      "cell_type": "code",
      "source": [
        "# Training our model \n",
        "from sklearn.neighbors import KNeighborsClassifier\n",
        "classifier = KNeighborsClassifier(n_neighbors=5)\n",
        "classifier.fit(X_train, y_train)"
      ],
      "metadata": {
        "colab": {
          "base_uri": "https://localhost:8080/"
        },
        "id": "KF32yXfr8KwV",
        "outputId": "48b270db-bf4a-4793-9e0a-7c875788b6dc"
      },
      "execution_count": null,
      "outputs": [
        {
          "output_type": "execute_result",
          "data": {
            "text/plain": [
              "KNeighborsClassifier()"
            ]
          },
          "metadata": {},
          "execution_count": 552
        }
      ]
    },
    {
      "cell_type": "code",
      "source": [
        "# Make predictions on our test data\n",
        "y_pred = classifier.predict(X_test)\n",
        "# Evaluating our model \n",
        "from sklearn.metrics import confusion_matrix\n",
        "from sklearn import metrics\n",
        "print(confusion_matrix(y_test, y_pred))\n",
        "print(\"Accuracy:\",metrics.accuracy_score(y_test, y_pred))"
      ],
      "metadata": {
        "colab": {
          "base_uri": "https://localhost:8080/"
        },
        "id": "4MjvyojC-JGg",
        "outputId": "560133cc-84a2-4de2-87ef-0fbab945f9db"
      },
      "execution_count": null,
      "outputs": [
        {
          "output_type": "stream",
          "name": "stdout",
          "text": [
            "[[95 11]\n",
            " [31 42]]\n",
            "Accuracy: 0.7653631284916201\n"
          ]
        }
      ]
    },
    {
      "cell_type": "markdown",
      "source": [
        "n neighbor = 5 the accurracy score is 76.54%"
      ],
      "metadata": {
        "id": "_Qjt2xQ4j_rk"
      }
    },
    {
      "cell_type": "code",
      "source": [
        "# We will use Grid search cv to find the optimal hyperparameters\n",
        "from sklearn.model_selection import GridSearchCV\n",
        "grid_params = { 'n_neighbors' : range (1,51),\n",
        "               'weights' : ['uniform','distance'],\n",
        "               'metric' : ['minkowski','euclidean','manhattan']}\n",
        "\n",
        "grid = GridSearchCV(KNeighborsClassifier(), grid_params,cv=10)\n",
        "# Fit the model on our train set\n",
        "grid_model =  grid.fit(X_train, y_train)\n",
        "# Find the best score\n",
        "print(grid_model.best_score_)\n",
        "# get the hyperparameters with the best score\n",
        "print(grid_model.best_params_)"
      ],
      "metadata": {
        "colab": {
          "base_uri": "https://localhost:8080/"
        },
        "id": "o-o42irqb-1q",
        "outputId": "246c7a9c-ebe7-4ce4-918d-757aa67012f5"
      },
      "execution_count": null,
      "outputs": [
        {
          "output_type": "stream",
          "name": "stdout",
          "text": [
            "0.8342723004694836\n",
            "{'metric': 'manhattan', 'n_neighbors': 18, 'weights': 'uniform'}\n"
          ]
        }
      ]
    },
    {
      "cell_type": "code",
      "source": [
        "# Train our model with the identified hyperparameters\n",
        "from sklearn.neighbors import KNeighborsClassifier\n",
        "classifier_tuned = KNeighborsClassifier(metric= 'manhattan', n_neighbors= 18, weights= 'uniform')\n",
        "classifier_tuned.fit(X_train, y_train)\n",
        "# Make predictions on our test data\n",
        "y_pred_1 = classifier_tuned.predict(X_test)\n",
        "# Evaluating our model \n",
        "from sklearn.metrics import confusion_matrix\n",
        "from sklearn import metrics\n",
        "print(confusion_matrix(y_test, y_pred_1))\n",
        "print(\"Accuracy:\",metrics.accuracy_score(y_test, y_pred_1))"
      ],
      "metadata": {
        "colab": {
          "base_uri": "https://localhost:8080/"
        },
        "id": "mHCs567c7Vs3",
        "outputId": "b1ed3ffd-a78f-47a9-b5d3-217d4b61f656"
      },
      "execution_count": null,
      "outputs": [
        {
          "output_type": "stream",
          "name": "stdout",
          "text": [
            "[[100   6]\n",
            " [ 32  41]]\n",
            "Accuracy: 0.7877094972067039\n"
          ]
        }
      ]
    },
    {
      "cell_type": "markdown",
      "source": [
        "After hyperparameter tuning our model score improved to 78.77%"
      ],
      "metadata": {
        "id": "XgECvjhx9ST9"
      }
    },
    {
      "cell_type": "markdown",
      "source": [
        "## KNN 70-30 split"
      ],
      "metadata": {
        "id": "VDDRbko17qxt"
      }
    },
    {
      "cell_type": "code",
      "source": [
        "# We will split our data into 70% train ,30% test \n",
        "from sklearn.model_selection import train_test_split\n",
        "X_train_1, X_test_1, y_train_1, y_test_1 = train_test_split(X, y, test_size=0.30, random_state=1 )\n",
        "# Feature Scaling\n",
        "scaler.fit(X_train_1)\n",
        "X_train_1 = scaler.transform(X_train_1)\n",
        "X_test_1 = scaler.transform(X_test_1)\n",
        "# Training our model \n",
        "from sklearn.neighbors import KNeighborsClassifier\n",
        "classifier_1 = KNeighborsClassifier(n_neighbors=5)\n",
        "classifier_1.fit(X_train_1, y_train_1)\n",
        "# Make predictions on our test data\n",
        "pred_1= classifier_1.predict(X_test_1)\n",
        "# Evaluating our model \n",
        "print(confusion_matrix(y_test_1, pred_1))\n",
        "print(\"Accuracy:\",metrics.accuracy_score(y_test_1, pred_1))"
      ],
      "metadata": {
        "colab": {
          "base_uri": "https://localhost:8080/"
        },
        "id": "u6YEEvCU7u-f",
        "outputId": "226ee431-7847-4f97-8b6b-5aab35c22f9d"
      },
      "execution_count": null,
      "outputs": [
        {
          "output_type": "stream",
          "name": "stdout",
          "text": [
            "[[137  16]\n",
            " [ 43  72]]\n",
            "Accuracy: 0.7798507462686567\n"
          ]
        }
      ]
    },
    {
      "cell_type": "markdown",
      "source": [
        "n neighbor = 5 the accuracy score is 77.98%"
      ],
      "metadata": {
        "id": "tqImN9Pw9oRt"
      }
    },
    {
      "cell_type": "code",
      "source": [
        "# We will use Grid search cv to find the optimal hyperparameters\n",
        "from sklearn.model_selection import GridSearchCV\n",
        "grid_params = { 'n_neighbors' : range (1,51),\n",
        "               'weights' : ['uniform','distance'],\n",
        "               'metric' : ['minkowski','euclidean','manhattan']}\n",
        "\n",
        "grid_1 = GridSearchCV(KNeighborsClassifier(), grid_params,cv=10)\n",
        "# Fit the model on our train set\n",
        "grid_model_1 =  grid_1.fit(X_train_1, y_train_1)\n",
        "# Find the best score\n",
        "print(grid_model_1.best_score_)\n",
        "# get the hyperparameters with the best score\n",
        "print(grid_model_1.best_params_)"
      ],
      "metadata": {
        "colab": {
          "base_uri": "https://localhost:8080/"
        },
        "id": "54sijYdO73jp",
        "outputId": "269a829e-f753-4644-c863-cd108c7566d4"
      },
      "execution_count": null,
      "outputs": [
        {
          "output_type": "stream",
          "name": "stdout",
          "text": [
            "0.8443164362519202\n",
            "{'metric': 'minkowski', 'n_neighbors': 18, 'weights': 'uniform'}\n"
          ]
        }
      ]
    },
    {
      "cell_type": "code",
      "source": [
        "# Train our model with the identified hyperparameters\n",
        "classifier_tuned_1 = KNeighborsClassifier(metric= 'minkowski', n_neighbors= 18, weights= 'uniform')\n",
        "classifier_tuned_1.fit(X_train_1, y_train_1)\n",
        "# Make predictions on our test data\n",
        "y_pred_30 = classifier_tuned_1.predict(X_test_1)\n",
        "# Evaluating our model \n",
        "print(confusion_matrix(y_test_1, y_pred_30))\n",
        "print(\"Accuracy:\",metrics.accuracy_score(y_test_1, y_pred_30))"
      ],
      "metadata": {
        "colab": {
          "base_uri": "https://localhost:8080/"
        },
        "id": "PcU_yf_T8DWj",
        "outputId": "fc87996f-941b-4b0f-d5b4-332b8fa850c3"
      },
      "execution_count": null,
      "outputs": [
        {
          "output_type": "stream",
          "name": "stdout",
          "text": [
            "[[140  13]\n",
            " [ 46  69]]\n",
            "Accuracy: 0.7798507462686567\n"
          ]
        }
      ]
    },
    {
      "cell_type": "markdown",
      "source": [
        "The model did not improve even after hyperparameter tuning"
      ],
      "metadata": {
        "id": "5oobmK0S95ad"
      }
    },
    {
      "cell_type": "markdown",
      "source": [
        "## KNN 60-40 split"
      ],
      "metadata": {
        "id": "nBTb61Gi8SSF"
      }
    },
    {
      "cell_type": "code",
      "source": [
        "# We will split our data into 60% train 40% test \n",
        "from sklearn.model_selection import train_test_split\n",
        "X_train_2, X_test_2, y_train_2, y_test_2 = train_test_split(X, y, test_size=0.40, random_state=1 )\n",
        "# Feature Scaling\n",
        "scaler.fit(X_train_2)\n",
        "X_train_2 = scaler.transform(X_train_2)\n",
        "X_test_2 = scaler.transform(X_test_2)\n",
        "# Training our model \n",
        "from sklearn.neighbors import KNeighborsClassifier\n",
        "classifier_2 = KNeighborsClassifier(n_neighbors=5)\n",
        "classifier_2.fit(X_train_2, y_train_2)\n",
        "# Make predictions on our test data\n",
        "pred_2= classifier_2.predict(X_test_2)\n",
        "# Evaluating our model \n",
        "print(confusion_matrix(y_test_2, pred_2))\n",
        "print(\"Accuracy:\",metrics.accuracy_score(y_test_2, pred_2))"
      ],
      "metadata": {
        "colab": {
          "base_uri": "https://localhost:8080/"
        },
        "id": "ArNjDkUE8PtI",
        "outputId": "6058093b-fdaf-40f6-d037-702d0f2e34e7"
      },
      "execution_count": null,
      "outputs": [
        {
          "output_type": "stream",
          "name": "stdout",
          "text": [
            "[[183  24]\n",
            " [ 53  97]]\n",
            "Accuracy: 0.7843137254901961\n"
          ]
        }
      ]
    },
    {
      "cell_type": "markdown",
      "source": [
        "n neighbor = 5 the accuracy score is 78.43%"
      ],
      "metadata": {
        "id": "vbo47M4t-DLZ"
      }
    },
    {
      "cell_type": "code",
      "source": [
        "# We will use Grid search cv to find the optimal hyperparameters\n",
        "grid_params = { 'n_neighbors' : range (1,51),\n",
        "               'weights' : ['uniform','distance'],\n",
        "               'metric' : ['minkowski','euclidean','manhattan']}\n",
        "\n",
        "grid_2 = GridSearchCV(KNeighborsClassifier(), grid_params,cv=10)\n",
        "# Fit the model on our train set\n",
        "grid_model_2 =  grid_2.fit(X_train_2, y_train_2)\n",
        "# Find the best score\n",
        "print(grid_model_2.best_score_)\n",
        "# get the hyperparameters with the best score\n",
        "print(grid_model_2.best_params_)"
      ],
      "metadata": {
        "colab": {
          "base_uri": "https://localhost:8080/"
        },
        "id": "znoBukbo8gVC",
        "outputId": "01c91d95-db3c-47cc-8fbc-4a921fe35057"
      },
      "execution_count": null,
      "outputs": [
        {
          "output_type": "stream",
          "name": "stdout",
          "text": [
            "0.8389238294898671\n",
            "{'metric': 'minkowski', 'n_neighbors': 6, 'weights': 'uniform'}\n"
          ]
        }
      ]
    },
    {
      "cell_type": "code",
      "source": [
        "# Train our model with the identified hyperparameters\n",
        "classifier_tuned_2 = KNeighborsClassifier(metric= 'minkowski', n_neighbors= 6, weights= 'uniform')\n",
        "classifier_tuned_2.fit(X_train_2, y_train_2)\n",
        "# Make predictions on our test data\n",
        "y_pred_40 = classifier_tuned_2.predict(X_test_2)\n",
        "# Evaluating our model \n",
        "print(confusion_matrix(y_test_2, y_pred_40))\n",
        "print(\"Accuracy:\",metrics.accuracy_score(y_test_2, y_pred_40))"
      ],
      "metadata": {
        "colab": {
          "base_uri": "https://localhost:8080/"
        },
        "id": "8B7xzE8L8qRV",
        "outputId": "65cd249a-9d93-4f7c-9e5e-72e6fb7b742f"
      },
      "execution_count": null,
      "outputs": [
        {
          "output_type": "stream",
          "name": "stdout",
          "text": [
            "[[190  17]\n",
            " [ 57  93]]\n",
            "Accuracy: 0.7927170868347339\n"
          ]
        }
      ]
    },
    {
      "cell_type": "markdown",
      "source": [
        "After hyperparameter tuning our model score improved to 79.27%"
      ],
      "metadata": {
        "id": "domNPZjg-zWn"
      }
    },
    {
      "cell_type": "markdown",
      "source": [
        "the test size of 0.40 performed better than 0.30 and 0.20"
      ],
      "metadata": {
        "id": "9enyWnTBFWI7"
      }
    },
    {
      "cell_type": "markdown",
      "source": [
        "## Challenge the solution"
      ],
      "metadata": {
        "id": "JY1JJW1BEAbx"
      }
    },
    {
      "cell_type": "code",
      "source": [
        "# We will assess our accuracy when we use the Random Forest instead of KNN\n",
        "# Import the relevant library\n",
        "from sklearn.model_selection import train_test_split\n",
        "from sklearn.ensemble import RandomForestClassifier\n",
        "from sklearn import metrics\n",
        "# Train using 80% of the data.\n",
        "X_train_forest, X_test_forest, y_train_forest, y_test_forest = train_test_split(X, y, test_size=0.2, random_state=1)\n",
        "# Create a Random Forest classifier\n",
        "forest = RandomForestClassifier()"
      ],
      "metadata": {
        "id": "tmk7j8CUE1U-"
      },
      "execution_count": null,
      "outputs": []
    },
    {
      "cell_type": "code",
      "source": [
        "# Train the Random Forest model \n",
        "forest.fit(X_train_forest, y_train_forest)\n",
        "# Predict based on the model we've trained\n",
        "y_pred_forest = forest.predict(X_test_forest)\n",
        "# Model Accuracy, how often is the classifier correct?\n",
        "print(\"Accuracy:\",metrics.accuracy_score(y_test_forest, y_pred_forest))"
      ],
      "metadata": {
        "colab": {
          "base_uri": "https://localhost:8080/"
        },
        "id": "aluysjkOE6-q",
        "outputId": "54d54c2d-2958-4620-cea0-151372ec9acc"
      },
      "execution_count": null,
      "outputs": [
        {
          "output_type": "stream",
          "name": "stdout",
          "text": [
            "Accuracy: 0.7932960893854749\n"
          ]
        }
      ]
    },
    {
      "cell_type": "markdown",
      "source": [
        "The random forest accuracy score is 79.32%"
      ],
      "metadata": {
        "id": "g-_KltzRF0qf"
      }
    },
    {
      "cell_type": "markdown",
      "source": [
        "## Conclusion\n",
        "Most Survivors:\n",
        "\n",
        "\n",
        "*   were from first class\n",
        "*   were female\n",
        "*   were of the age of 28.0, 24.0, 36.0, 37.0 and 27.0\n",
        "*   travelled without family\n",
        "*   embarked from the port of Southampton\n",
        "\n",
        "Model optimization techniques used in this model are : Change of metric distance through hyperparameter tuning and rescaling our data.\n",
        "\n",
        "In terms of model performance:\n",
        "\n",
        "80-20 split:\n",
        "\n",
        "\n",
        "*   n neighbor = 5 the accurracy score is 76.54%\n",
        "*   After hyperparameter tuning the accuracy score is 78.77%\n",
        "\n",
        "70-30 split:\n",
        "\n",
        "*   n neighbor = 5 the accurracy score is 77.98%\n",
        "*   After hyperparameter tuning the accuracy score is 77.98%\n",
        "\n",
        "\n",
        "60-40 split:\n",
        "\n",
        "*   n neighbor = 5 the accurracy score is 78.43%\n",
        "*   After hyperparameter tuning the accuracy score is 79.27%\n",
        "\n",
        "\n",
        "\n",
        "\n"
      ],
      "metadata": {
        "id": "FJ7hg5DBI_FE"
      }
    },
    {
      "cell_type": "markdown",
      "source": [
        "## Recommendation\n",
        "\n",
        "\n",
        "Although our model did not manage to meet our set level of accuracy of 90%, I \n",
        "would recommend using kNN algorithm at a test size of 0.40, metric = minkowski, n_neighbors= 6, weights= uniform and  an accuracy level of approximately 79% because it was the model that performed the best out of the three that we ran. \n",
        "\n",
        "Also the Random forest algorithm works well at an accuracy level of approximately 79%"
      ],
      "metadata": {
        "id": "b2lPlGxwJLk4"
      }
    }
  ]
}